{
  "nbformat": 4,
  "nbformat_minor": 0,
  "metadata": {
    "colab": {
      "name": "visialization.ipynb",
      "provenance": [],
      "collapsed_sections": []
    },
    "kernelspec": {
      "name": "python3",
      "display_name": "Python 3"
    },
    "accelerator": "GPU",
    "widgets": {
      "application/vnd.jupyter.widget-state+json": {
        "a0b9e91a8c5847778b8a82d670d9c098": {
          "model_module": "@jupyter-widgets/controls",
          "model_name": "HBoxModel",
          "state": {
            "_view_name": "HBoxView",
            "_dom_classes": [],
            "_model_name": "HBoxModel",
            "_view_module": "@jupyter-widgets/controls",
            "_model_module_version": "1.5.0",
            "_view_count": null,
            "_view_module_version": "1.5.0",
            "box_style": "",
            "layout": "IPY_MODEL_6331fd5c78164e9b972643b29735282a",
            "_model_module": "@jupyter-widgets/controls",
            "children": [
              "IPY_MODEL_188a2e5045404349adbbd12a79ec80fc",
              "IPY_MODEL_f07832d913de4532a3603dff4a1c2779"
            ]
          }
        },
        "6331fd5c78164e9b972643b29735282a": {
          "model_module": "@jupyter-widgets/base",
          "model_name": "LayoutModel",
          "state": {
            "_view_name": "LayoutView",
            "grid_template_rows": null,
            "right": null,
            "justify_content": null,
            "_view_module": "@jupyter-widgets/base",
            "overflow": null,
            "_model_module_version": "1.2.0",
            "_view_count": null,
            "flex_flow": null,
            "width": null,
            "min_width": null,
            "border": null,
            "align_items": null,
            "bottom": null,
            "_model_module": "@jupyter-widgets/base",
            "top": null,
            "grid_column": null,
            "overflow_y": null,
            "overflow_x": null,
            "grid_auto_flow": null,
            "grid_area": null,
            "grid_template_columns": null,
            "flex": null,
            "_model_name": "LayoutModel",
            "justify_items": null,
            "grid_row": null,
            "max_height": null,
            "align_content": null,
            "visibility": null,
            "align_self": null,
            "height": null,
            "min_height": null,
            "padding": null,
            "grid_auto_rows": null,
            "grid_gap": null,
            "max_width": null,
            "order": null,
            "_view_module_version": "1.2.0",
            "grid_template_areas": null,
            "object_position": null,
            "object_fit": null,
            "grid_auto_columns": null,
            "margin": null,
            "display": null,
            "left": null
          }
        },
        "188a2e5045404349adbbd12a79ec80fc": {
          "model_module": "@jupyter-widgets/controls",
          "model_name": "FloatProgressModel",
          "state": {
            "_view_name": "ProgressView",
            "style": "IPY_MODEL_b85180011fee4b1a818baa182d26fcab",
            "_dom_classes": [],
            "description": "",
            "_model_name": "FloatProgressModel",
            "bar_style": "success",
            "max": 1,
            "_view_module": "@jupyter-widgets/controls",
            "_model_module_version": "1.5.0",
            "value": 1,
            "_view_count": null,
            "_view_module_version": "1.5.0",
            "orientation": "horizontal",
            "min": 0,
            "description_tooltip": null,
            "_model_module": "@jupyter-widgets/controls",
            "layout": "IPY_MODEL_92c1ee047d014e3dbc75dbfe9a625099"
          }
        },
        "f07832d913de4532a3603dff4a1c2779": {
          "model_module": "@jupyter-widgets/controls",
          "model_name": "HTMLModel",
          "state": {
            "_view_name": "HTMLView",
            "style": "IPY_MODEL_0bab5c6809e34ed1ae407d35c2f8997b",
            "_dom_classes": [],
            "description": "",
            "_model_name": "HTMLModel",
            "placeholder": "​",
            "_view_module": "@jupyter-widgets/controls",
            "_model_module_version": "1.5.0",
            "value": " 10/? [00:59&lt;00:00,  5.97s/it]",
            "_view_count": null,
            "_view_module_version": "1.5.0",
            "description_tooltip": null,
            "_model_module": "@jupyter-widgets/controls",
            "layout": "IPY_MODEL_8b789cf3d94b44ba8253adbf223f0174"
          }
        },
        "b85180011fee4b1a818baa182d26fcab": {
          "model_module": "@jupyter-widgets/controls",
          "model_name": "ProgressStyleModel",
          "state": {
            "_view_name": "StyleView",
            "_model_name": "ProgressStyleModel",
            "description_width": "initial",
            "_view_module": "@jupyter-widgets/base",
            "_model_module_version": "1.5.0",
            "_view_count": null,
            "_view_module_version": "1.2.0",
            "bar_color": null,
            "_model_module": "@jupyter-widgets/controls"
          }
        },
        "92c1ee047d014e3dbc75dbfe9a625099": {
          "model_module": "@jupyter-widgets/base",
          "model_name": "LayoutModel",
          "state": {
            "_view_name": "LayoutView",
            "grid_template_rows": null,
            "right": null,
            "justify_content": null,
            "_view_module": "@jupyter-widgets/base",
            "overflow": null,
            "_model_module_version": "1.2.0",
            "_view_count": null,
            "flex_flow": null,
            "width": null,
            "min_width": null,
            "border": null,
            "align_items": null,
            "bottom": null,
            "_model_module": "@jupyter-widgets/base",
            "top": null,
            "grid_column": null,
            "overflow_y": null,
            "overflow_x": null,
            "grid_auto_flow": null,
            "grid_area": null,
            "grid_template_columns": null,
            "flex": null,
            "_model_name": "LayoutModel",
            "justify_items": null,
            "grid_row": null,
            "max_height": null,
            "align_content": null,
            "visibility": null,
            "align_self": null,
            "height": null,
            "min_height": null,
            "padding": null,
            "grid_auto_rows": null,
            "grid_gap": null,
            "max_width": null,
            "order": null,
            "_view_module_version": "1.2.0",
            "grid_template_areas": null,
            "object_position": null,
            "object_fit": null,
            "grid_auto_columns": null,
            "margin": null,
            "display": null,
            "left": null
          }
        },
        "0bab5c6809e34ed1ae407d35c2f8997b": {
          "model_module": "@jupyter-widgets/controls",
          "model_name": "DescriptionStyleModel",
          "state": {
            "_view_name": "StyleView",
            "_model_name": "DescriptionStyleModel",
            "description_width": "",
            "_view_module": "@jupyter-widgets/base",
            "_model_module_version": "1.5.0",
            "_view_count": null,
            "_view_module_version": "1.2.0",
            "_model_module": "@jupyter-widgets/controls"
          }
        },
        "8b789cf3d94b44ba8253adbf223f0174": {
          "model_module": "@jupyter-widgets/base",
          "model_name": "LayoutModel",
          "state": {
            "_view_name": "LayoutView",
            "grid_template_rows": null,
            "right": null,
            "justify_content": null,
            "_view_module": "@jupyter-widgets/base",
            "overflow": null,
            "_model_module_version": "1.2.0",
            "_view_count": null,
            "flex_flow": null,
            "width": null,
            "min_width": null,
            "border": null,
            "align_items": null,
            "bottom": null,
            "_model_module": "@jupyter-widgets/base",
            "top": null,
            "grid_column": null,
            "overflow_y": null,
            "overflow_x": null,
            "grid_auto_flow": null,
            "grid_area": null,
            "grid_template_columns": null,
            "flex": null,
            "_model_name": "LayoutModel",
            "justify_items": null,
            "grid_row": null,
            "max_height": null,
            "align_content": null,
            "visibility": null,
            "align_self": null,
            "height": null,
            "min_height": null,
            "padding": null,
            "grid_auto_rows": null,
            "grid_gap": null,
            "max_width": null,
            "order": null,
            "_view_module_version": "1.2.0",
            "grid_template_areas": null,
            "object_position": null,
            "object_fit": null,
            "grid_auto_columns": null,
            "margin": null,
            "display": null,
            "left": null
          }
        }
      }
    }
  },
  "cells": [
    {
      "cell_type": "markdown",
      "metadata": {
        "id": "Vew-2Pr18KwK"
      },
      "source": [
        "Устанавливаем все необходимые библиотеки."
      ]
    },
    {
      "cell_type": "code",
      "metadata": {
        "id": "H7XvhezSZFIj"
      },
      "source": [
        "from IPython.display import clear_output"
      ],
      "execution_count": null,
      "outputs": []
    },
    {
      "cell_type": "code",
      "metadata": {
        "id": "C3j7mu8pW2rx"
      },
      "source": [
        "!pip install pycodestyle pycodestyle_magic\n",
        "!pip install flake8\n",
        "clear_output()"
      ],
      "execution_count": null,
      "outputs": []
    },
    {
      "cell_type": "code",
      "metadata": {
        "id": "Z1hdMJy4k-JC"
      },
      "source": [
        "%load_ext pycodestyle_magic"
      ],
      "execution_count": null,
      "outputs": []
    },
    {
      "cell_type": "code",
      "metadata": {
        "id": "T60sVwozQqaA"
      },
      "source": [
        "!pip install -U -q PyDrive"
      ],
      "execution_count": null,
      "outputs": []
    },
    {
      "cell_type": "code",
      "metadata": {
        "id": "DLnSm8urQtJ3"
      },
      "source": [
        "from pydrive.auth import GoogleAuth\n",
        "from pydrive.drive import GoogleDrive\n",
        "from google.colab import auth\n",
        "from oauth2client.client import GoogleCredentials"
      ],
      "execution_count": null,
      "outputs": []
    },
    {
      "cell_type": "code",
      "metadata": {
        "id": "6WewP4XtQ2qe"
      },
      "source": [
        "auth.authenticate_user()\n",
        "gauth = GoogleAuth()\n",
        "gauth.credentials = GoogleCredentials.get_application_default()\n",
        "drive = GoogleDrive(gauth)"
      ],
      "execution_count": null,
      "outputs": []
    },
    {
      "cell_type": "code",
      "metadata": {
        "id": "BiJp9SDH8Vm1"
      },
      "source": [
        "!pip install pyldavis\n",
        "clear_output()"
      ],
      "execution_count": null,
      "outputs": []
    },
    {
      "cell_type": "markdown",
      "metadata": {
        "id": "534gC1-ybGNt"
      },
      "source": [
        "Импортируем все необходимые библиотеки."
      ]
    },
    {
      "cell_type": "code",
      "metadata": {
        "id": "Kea1d9w_Em9u"
      },
      "source": [
        "import pyLDAvis\n",
        "\n",
        "import nltk\n",
        "import joblib\n",
        "\n",
        "import pandas as pd\n",
        "import numpy as np\n",
        "import seaborn as sns\n",
        "\n",
        "import matplotlib.pyplot as plt\n",
        "import matplotlib.colors as mcolors\n",
        "\n",
        "from pprint import pprint\n",
        "from ast import literal_eval\n",
        "from collections import Counter\n",
        "from wordcloud import WordCloud\n",
        "\n",
        "from tqdm.notebook import tqdm\n",
        "\n",
        "from nltk.corpus import stopwords\n",
        "\n",
        "from matplotlib.patches import Rectangle\n",
        "from matplotlib.ticker import FuncFormatter\n",
        "\n",
        "from gensim.corpora import Dictionary\n",
        "from gensim.models.ldamodel import LdaModel\n",
        "\n",
        "clear_output()"
      ],
      "execution_count": null,
      "outputs": []
    },
    {
      "cell_type": "code",
      "metadata": {
        "id": "Z8ob4fgLKZgI"
      },
      "source": [
        "pd.options.display.max_colwidth = 100"
      ],
      "execution_count": null,
      "outputs": []
    },
    {
      "cell_type": "code",
      "metadata": {
        "colab": {
          "base_uri": "https://localhost:8080/"
        },
        "id": "ZPgZkdrYRe3p",
        "outputId": "c4ffc94d-f230-483a-f2c8-7ae0449c4933"
      },
      "source": [
        "nltk.download('stopwords')"
      ],
      "execution_count": null,
      "outputs": [
        {
          "output_type": "stream",
          "text": [
            "[nltk_data] Downloading package stopwords to /root/nltk_data...\n",
            "[nltk_data]   Unzipping corpora/stopwords.zip.\n"
          ],
          "name": "stdout"
        },
        {
          "output_type": "execute_result",
          "data": {
            "text/plain": [
              "True"
            ]
          },
          "metadata": {
            "tags": []
          },
          "execution_count": 9
        }
      ]
    },
    {
      "cell_type": "code",
      "metadata": {
        "id": "UdpjDv6wQ5oo"
      },
      "source": [
        "stop_words = set(stopwords.words('russian'))"
      ],
      "execution_count": null,
      "outputs": []
    },
    {
      "cell_type": "markdown",
      "metadata": {
        "id": "TzZYZZBFIFof"
      },
      "source": [
        "Загружаем предобработанные данные."
      ]
    },
    {
      "cell_type": "code",
      "metadata": {
        "id": "s-JejMtSImz9"
      },
      "source": [
        "def data_to_list(filename):\n",
        "    df = pd.read_csv(filename)\n",
        "    df['lemm'] = df['lemm'].apply(literal_eval)\n",
        "    clear_output()\n",
        "    return df"
      ],
      "execution_count": null,
      "outputs": []
    },
    {
      "cell_type": "code",
      "metadata": {
        "id": "-ppFky5KIo4F"
      },
      "source": [
        "prozhito_periodization = drive.CreateFile(\n",
        "    {'id': '1LcrY9pNxXHa9xLJ4jGnm8lXVbegFodUQ'})\n",
        "prozhito_periodization.GetContentFile('prozhito_periodization.zip')"
      ],
      "execution_count": null,
      "outputs": []
    },
    {
      "cell_type": "code",
      "metadata": {
        "colab": {
          "base_uri": "https://localhost:8080/"
        },
        "id": "tFWwQSw_JfCW",
        "outputId": "82272477-5290-4a31-f0db-d831eeca406c"
      },
      "source": [
        "!unzip prozhito_periodization.zip"
      ],
      "execution_count": null,
      "outputs": [
        {
          "output_type": "stream",
          "text": [
            "Archive:  prozhito_periodization.zip\n",
            "  inflating: 10_90s.csv              \n",
            "  inflating: 1_first_revolution.csv  \n",
            "  inflating: 2_between_revolutions.csv  \n",
            "  inflating: 3_WWI.csv               \n",
            "  inflating: 4_civil_war.csv         \n",
            "  inflating: 5_great_purge.csv       \n",
            "  inflating: 6_WWII.csv              \n",
            "  inflating: 7_before_ottepel.csv    \n",
            "  inflating: 8_stagnation.csv        \n",
            "  inflating: 9_perestroyka.csv       \n"
          ],
          "name": "stdout"
        }
      ]
    },
    {
      "cell_type": "code",
      "metadata": {
        "id": "QYIaTrK5Iy47"
      },
      "source": [
        "period = ['first revolution', 'between revolutions', 'WWI', 'civil war',\n",
        "          'great purge', 'WWII', 'before ottepel', 'stagnation','perestroyka',\n",
        "          '90s']"
      ],
      "execution_count": null,
      "outputs": []
    },
    {
      "cell_type": "code",
      "metadata": {
        "colab": {
          "base_uri": "https://localhost:8080/",
          "height": 49,
          "referenced_widgets": [
            "a0b9e91a8c5847778b8a82d670d9c098",
            "6331fd5c78164e9b972643b29735282a",
            "188a2e5045404349adbbd12a79ec80fc",
            "f07832d913de4532a3603dff4a1c2779",
            "b85180011fee4b1a818baa182d26fcab",
            "92c1ee047d014e3dbc75dbfe9a625099",
            "0bab5c6809e34ed1ae407d35c2f8997b",
            "8b789cf3d94b44ba8253adbf223f0174"
          ]
        },
        "id": "OSBOgpswI5VV",
        "outputId": "1567b7c2-c4fb-44be-cfbd-e4e9be7200a0"
      },
      "source": [
        "df = []\n",
        "\n",
        "for i, time in tqdm(enumerate(period)):\n",
        "    df.append(data_to_list(f'{i + 1}_{period[i].replace(\" \", \"_\")}.csv'))"
      ],
      "execution_count": null,
      "outputs": [
        {
          "output_type": "stream",
          "text": [
            "\n"
          ],
          "name": "stdout"
        }
      ]
    },
    {
      "cell_type": "code",
      "metadata": {
        "colab": {
          "base_uri": "https://localhost:8080/",
          "height": 204
        },
        "id": "bfIyXGTqKAj7",
        "outputId": "055ed44b-7730-4b9b-e32c-a9b351cc2de8"
      },
      "source": [
        "df[1].head()"
      ],
      "execution_count": null,
      "outputs": [
        {
          "output_type": "execute_result",
          "data": {
            "text/html": [
              "<div>\n",
              "<style scoped>\n",
              "    .dataframe tbody tr th:only-of-type {\n",
              "        vertical-align: middle;\n",
              "    }\n",
              "\n",
              "    .dataframe tbody tr th {\n",
              "        vertical-align: top;\n",
              "    }\n",
              "\n",
              "    .dataframe thead th {\n",
              "        text-align: right;\n",
              "    }\n",
              "</style>\n",
              "<table border=\"1\" class=\"dataframe\">\n",
              "  <thead>\n",
              "    <tr style=\"text-align: right;\">\n",
              "      <th></th>\n",
              "      <th>date</th>\n",
              "      <th>lemm</th>\n",
              "    </tr>\n",
              "  </thead>\n",
              "  <tbody>\n",
              "    <tr>\n",
              "      <th>0</th>\n",
              "      <td>1907-02-01</td>\n",
              "      <td>[пятница, чудный, погода, 1, солнце, ветер, па...</td>\n",
              "    </tr>\n",
              "    <tr>\n",
              "      <th>1</th>\n",
              "      <td>1907-02-01</td>\n",
              "      <td>[вчера, ната, звонить, шлиппе, сказать, сергей...</td>\n",
              "    </tr>\n",
              "    <tr>\n",
              "      <th>2</th>\n",
              "      <td>1907-02-01</td>\n",
              "      <td>[пятница, приходиться, позвать, шенгелидзе, т,...</td>\n",
              "    </tr>\n",
              "    <tr>\n",
              "      <th>3</th>\n",
              "      <td>1907-02-01</td>\n",
              "      <td>[четверг, писать, 2, февраль, доклад, военный,...</td>\n",
              "    </tr>\n",
              "    <tr>\n",
              "      <th>4</th>\n",
              "      <td>1907-02-01</td>\n",
              "      <td>[тетя, васино, рождение, тетя, мила, ходить, к...</td>\n",
              "    </tr>\n",
              "  </tbody>\n",
              "</table>\n",
              "</div>"
            ],
            "text/plain": [
              "         date                                               lemm\n",
              "0  1907-02-01  [пятница, чудный, погода, 1, солнце, ветер, па...\n",
              "1  1907-02-01  [вчера, ната, звонить, шлиппе, сказать, сергей...\n",
              "2  1907-02-01  [пятница, приходиться, позвать, шенгелидзе, т,...\n",
              "3  1907-02-01  [четверг, писать, 2, февраль, доклад, военный,...\n",
              "4  1907-02-01  [тетя, васино, рождение, тетя, мила, ходить, к..."
            ]
          },
          "metadata": {
            "tags": []
          },
          "execution_count": 17
        }
      ]
    },
    {
      "cell_type": "code",
      "metadata": {
        "colab": {
          "base_uri": "https://localhost:8080/"
        },
        "id": "GP9Z-YZ8KCym",
        "outputId": "64e482a9-d58b-455f-b9b8-b97050f2b84e"
      },
      "source": [
        "df[1]['lemm'][0]"
      ],
      "execution_count": null,
      "outputs": [
        {
          "output_type": "execute_result",
          "data": {
            "text/plain": [
              "['пятница',\n",
              " 'чудный',\n",
              " 'погода',\n",
              " '1',\n",
              " 'солнце',\n",
              " 'ветер',\n",
              " 'пахнуть',\n",
              " 'весна',\n",
              " 'это',\n",
              " 'удивительно',\n",
              " 'приятно',\n",
              " 'завтрак',\n",
              " 'лена',\n",
              " 'ходить',\n",
              " 'гулять',\n",
              " 'обед',\n",
              " 'время',\n",
              " 'проходить',\n",
              " 'совершенно',\n",
              " 'бесцельно',\n",
              " 'лень',\n",
              " 'приниматься',\n",
              " 'бродить',\n",
              " 'угол',\n",
              " 'угол',\n",
              " 'таланцев',\n",
              " 'пробирать',\n",
              " 'немножко',\n",
              " 'митя',\n",
              " 'лень',\n",
              " 'решать',\n",
              " 'вообще',\n",
              " 'обращаться',\n",
              " 'строгий',\n",
              " 'позволять',\n",
              " 'александра',\n",
              " 'арсеньевна',\n",
              " 'рассказывать',\n",
              " 'нижний',\n",
              " 'думать',\n",
              " 'открывать',\n",
              " 'женский',\n",
              " 'педагогический',\n",
              " 'курсы',\n",
              " 'хороший',\n",
              " 'непременно',\n",
              " 'поступать',\n",
              " 'хотеться',\n",
              " 'учиться',\n",
              " 'вечер',\n",
              " 'лихорадка',\n",
              " '37',\n",
              " '5',\n",
              " 'таки',\n",
              " 'пойти',\n",
              " 'театр',\n",
              " 'лена',\n",
              " 'вася',\n",
              " 'концерт',\n",
              " 'польза',\n",
              " 'общежитие',\n",
              " 'гимназия',\n",
              " 'концерт',\n",
              " 'производить',\n",
              " 'ровно',\n",
              " 'никакой',\n",
              " 'впечатление',\n",
              " 'скучно',\n",
              " 'антракт',\n",
              " 'видеть',\n",
              " 'эрю',\n",
              " 'зина',\n",
              " 'марья',\n",
              " 'миха',\n",
              " 'многий',\n",
              " 'знакомый']"
            ]
          },
          "metadata": {
            "tags": []
          },
          "execution_count": 18
        }
      ]
    },
    {
      "cell_type": "markdown",
      "metadata": {
        "id": "iFDYLj3uGtPa"
      },
      "source": [
        "Загружаем обученные модели."
      ]
    },
    {
      "cell_type": "code",
      "metadata": {
        "id": "PQcS2HT9qjT2"
      },
      "source": [
        "prozhito_topic_modelling = drive.CreateFile(\n",
        "    {'id': '1og0bwBkOCfPN3DA3jcR1D7IrN0wLjsHo'})\n",
        "prozhito_topic_modelling.GetContentFile('prozhito_topic_modelling.pkl')"
      ],
      "execution_count": null,
      "outputs": []
    },
    {
      "cell_type": "markdown",
      "metadata": {
        "id": "onCgwaX3KsWm"
      },
      "source": [
        "# Облака слов для каждого топика"
      ]
    },
    {
      "cell_type": "code",
      "metadata": {
        "id": "uck5pA2GK17W"
      },
      "source": [
        "def word_cloud(model):\n",
        "    pass"
      ],
      "execution_count": null,
      "outputs": []
    },
    {
      "cell_type": "markdown",
      "metadata": {
        "id": "XXR_olhYK2Oi"
      },
      "source": [
        "## Первая революция\n",
        "### (*янв. 1905 – янв. 1907*)"
      ]
    },
    {
      "cell_type": "code",
      "metadata": {
        "id": "l_2O4QV8K2ol"
      },
      "source": [
        ""
      ],
      "execution_count": null,
      "outputs": []
    },
    {
      "cell_type": "markdown",
      "metadata": {
        "id": "yyTspsyjK-J6"
      },
      "source": [
        "## Период между революциями\n",
        "### (*февр. 1907 – май 1914*)"
      ]
    },
    {
      "cell_type": "code",
      "metadata": {
        "id": "GFvzKxFfK-nK"
      },
      "source": [
        ""
      ],
      "execution_count": null,
      "outputs": []
    },
    {
      "cell_type": "markdown",
      "metadata": {
        "id": "EFe9G-LHK_d-"
      },
      "source": [
        "## Первая мировая война и две главные революции в России\n",
        "###(*июнь 1914 – октябрь 1918*)"
      ]
    },
    {
      "cell_type": "code",
      "metadata": {
        "id": "ZlhnjpdcLB7d"
      },
      "source": [
        ""
      ],
      "execution_count": null,
      "outputs": []
    },
    {
      "cell_type": "markdown",
      "metadata": {
        "id": "YEzkgj3iLCpr"
      },
      "source": [
        "## Гражданская война, продразверстка, НЭП\n",
        "### (*ноябрь 1918 – декабрь 1927*)"
      ]
    },
    {
      "cell_type": "code",
      "metadata": {
        "id": "TghIHujZLE1s"
      },
      "source": [
        ""
      ],
      "execution_count": null,
      "outputs": []
    },
    {
      "cell_type": "markdown",
      "metadata": {
        "id": "Yh_NchsnLFbV"
      },
      "source": [
        "## Коллективизация, Большой террор\n",
        "### (*январь 1928 – август 1939*)"
      ]
    },
    {
      "cell_type": "code",
      "metadata": {
        "id": "H6RGYlZdLHjJ"
      },
      "source": [
        ""
      ],
      "execution_count": null,
      "outputs": []
    },
    {
      "cell_type": "markdown",
      "metadata": {
        "id": "wk1U4qIwLLIP"
      },
      "source": [
        "## Вторая мировая война\n",
        "### (*сентябрь 1939 – май 1945*)"
      ]
    },
    {
      "cell_type": "code",
      "metadata": {
        "id": "XMpHvp0lLLbE"
      },
      "source": [
        ""
      ],
      "execution_count": null,
      "outputs": []
    },
    {
      "cell_type": "markdown",
      "metadata": {
        "id": "Wk7bbtEyLOFO"
      },
      "source": [
        "## Промежуточный период истории, заканчивается «оттепелью» \n",
        "### (*1946 – 1963*)"
      ]
    },
    {
      "cell_type": "code",
      "metadata": {
        "id": "EUkpw0DBLOVO"
      },
      "source": [
        ""
      ],
      "execution_count": null,
      "outputs": []
    },
    {
      "cell_type": "markdown",
      "metadata": {
        "id": "Ilu79_i-LSEO"
      },
      "source": [
        "## Застой\n",
        "### (*1964 – май 1987*)"
      ]
    },
    {
      "cell_type": "code",
      "metadata": {
        "id": "UiRele1xLSU3"
      },
      "source": [
        ""
      ],
      "execution_count": null,
      "outputs": []
    },
    {
      "cell_type": "markdown",
      "metadata": {
        "id": "pJBEROCyLU38"
      },
      "source": [
        "## Перестройка и развал СССР\n",
        "### (*июнь 1987 – июнь 1990*)"
      ]
    },
    {
      "cell_type": "code",
      "metadata": {
        "id": "AhyjjFRgLVGY"
      },
      "source": [
        ""
      ],
      "execution_count": null,
      "outputs": []
    },
    {
      "cell_type": "markdown",
      "metadata": {
        "id": "SQmWPf6QLXdZ"
      },
      "source": [
        "## После СССР, «лихие 90-е»\n",
        "### (*1991 – 2001*)"
      ]
    },
    {
      "cell_type": "code",
      "metadata": {
        "id": "2YhTMlGlLXyr"
      },
      "source": [
        ""
      ],
      "execution_count": null,
      "outputs": []
    }
  ]
}