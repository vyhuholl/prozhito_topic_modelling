{
  "nbformat": 4,
  "nbformat_minor": 0,
  "metadata": {
    "colab": {
      "name": "prozhito_topic_modelling.ipynb",
      "provenance": [],
      "collapsed_sections": []
    },
    "kernelspec": {
      "name": "python3",
      "display_name": "Python 3"
    },
    "accelerator": "GPU",
    "widgets": {
      "application/vnd.jupyter.widget-state+json": {
        "06cc9d87787546e1b16d9b93cd08ce2e": {
          "model_module": "@jupyter-widgets/controls",
          "model_name": "HBoxModel",
          "state": {
            "_view_name": "HBoxView",
            "_dom_classes": [],
            "_model_name": "HBoxModel",
            "_view_module": "@jupyter-widgets/controls",
            "_model_module_version": "1.5.0",
            "_view_count": null,
            "_view_module_version": "1.5.0",
            "box_style": "",
            "layout": "IPY_MODEL_42b20404e01a454f9b53ff19e7eb519d",
            "_model_module": "@jupyter-widgets/controls",
            "children": [
              "IPY_MODEL_a0f3395c39014dbdae3d4288c9cfedf5",
              "IPY_MODEL_a5b3bd454473473d93e965e1099db890"
            ]
          }
        },
        "42b20404e01a454f9b53ff19e7eb519d": {
          "model_module": "@jupyter-widgets/base",
          "model_name": "LayoutModel",
          "state": {
            "_view_name": "LayoutView",
            "grid_template_rows": null,
            "right": null,
            "justify_content": null,
            "_view_module": "@jupyter-widgets/base",
            "overflow": null,
            "_model_module_version": "1.2.0",
            "_view_count": null,
            "flex_flow": null,
            "width": null,
            "min_width": null,
            "border": null,
            "align_items": null,
            "bottom": null,
            "_model_module": "@jupyter-widgets/base",
            "top": null,
            "grid_column": null,
            "overflow_y": null,
            "overflow_x": null,
            "grid_auto_flow": null,
            "grid_area": null,
            "grid_template_columns": null,
            "flex": null,
            "_model_name": "LayoutModel",
            "justify_items": null,
            "grid_row": null,
            "max_height": null,
            "align_content": null,
            "visibility": null,
            "align_self": null,
            "height": null,
            "min_height": null,
            "padding": null,
            "grid_auto_rows": null,
            "grid_gap": null,
            "max_width": null,
            "order": null,
            "_view_module_version": "1.2.0",
            "grid_template_areas": null,
            "object_position": null,
            "object_fit": null,
            "grid_auto_columns": null,
            "margin": null,
            "display": null,
            "left": null
          }
        },
        "a0f3395c39014dbdae3d4288c9cfedf5": {
          "model_module": "@jupyter-widgets/controls",
          "model_name": "FloatProgressModel",
          "state": {
            "_view_name": "ProgressView",
            "style": "IPY_MODEL_ae84a6eb1f7c47b2adc67a9ab60a4cbf",
            "_dom_classes": [],
            "description": "",
            "_model_name": "FloatProgressModel",
            "bar_style": "success",
            "max": 1,
            "_view_module": "@jupyter-widgets/controls",
            "_model_module_version": "1.5.0",
            "value": 1,
            "_view_count": null,
            "_view_module_version": "1.5.0",
            "orientation": "horizontal",
            "min": 0,
            "description_tooltip": null,
            "_model_module": "@jupyter-widgets/controls",
            "layout": "IPY_MODEL_12838e4d606a4821b7e8f4e6dd38053e"
          }
        },
        "a5b3bd454473473d93e965e1099db890": {
          "model_module": "@jupyter-widgets/controls",
          "model_name": "HTMLModel",
          "state": {
            "_view_name": "HTMLView",
            "style": "IPY_MODEL_7e29404499884d32a1bc25278f29c019",
            "_dom_classes": [],
            "description": "",
            "_model_name": "HTMLModel",
            "placeholder": "​",
            "_view_module": "@jupyter-widgets/controls",
            "_model_module_version": "1.5.0",
            "value": " 10/? [00:24&lt;00:00,  2.43s/it]",
            "_view_count": null,
            "_view_module_version": "1.5.0",
            "description_tooltip": null,
            "_model_module": "@jupyter-widgets/controls",
            "layout": "IPY_MODEL_863be96c697641759a6a8b7822a3b7d5"
          }
        },
        "ae84a6eb1f7c47b2adc67a9ab60a4cbf": {
          "model_module": "@jupyter-widgets/controls",
          "model_name": "ProgressStyleModel",
          "state": {
            "_view_name": "StyleView",
            "_model_name": "ProgressStyleModel",
            "description_width": "initial",
            "_view_module": "@jupyter-widgets/base",
            "_model_module_version": "1.5.0",
            "_view_count": null,
            "_view_module_version": "1.2.0",
            "bar_color": null,
            "_model_module": "@jupyter-widgets/controls"
          }
        },
        "12838e4d606a4821b7e8f4e6dd38053e": {
          "model_module": "@jupyter-widgets/base",
          "model_name": "LayoutModel",
          "state": {
            "_view_name": "LayoutView",
            "grid_template_rows": null,
            "right": null,
            "justify_content": null,
            "_view_module": "@jupyter-widgets/base",
            "overflow": null,
            "_model_module_version": "1.2.0",
            "_view_count": null,
            "flex_flow": null,
            "width": null,
            "min_width": null,
            "border": null,
            "align_items": null,
            "bottom": null,
            "_model_module": "@jupyter-widgets/base",
            "top": null,
            "grid_column": null,
            "overflow_y": null,
            "overflow_x": null,
            "grid_auto_flow": null,
            "grid_area": null,
            "grid_template_columns": null,
            "flex": null,
            "_model_name": "LayoutModel",
            "justify_items": null,
            "grid_row": null,
            "max_height": null,
            "align_content": null,
            "visibility": null,
            "align_self": null,
            "height": null,
            "min_height": null,
            "padding": null,
            "grid_auto_rows": null,
            "grid_gap": null,
            "max_width": null,
            "order": null,
            "_view_module_version": "1.2.0",
            "grid_template_areas": null,
            "object_position": null,
            "object_fit": null,
            "grid_auto_columns": null,
            "margin": null,
            "display": null,
            "left": null
          }
        },
        "7e29404499884d32a1bc25278f29c019": {
          "model_module": "@jupyter-widgets/controls",
          "model_name": "DescriptionStyleModel",
          "state": {
            "_view_name": "StyleView",
            "_model_name": "DescriptionStyleModel",
            "description_width": "",
            "_view_module": "@jupyter-widgets/base",
            "_model_module_version": "1.5.0",
            "_view_count": null,
            "_view_module_version": "1.2.0",
            "_model_module": "@jupyter-widgets/controls"
          }
        },
        "863be96c697641759a6a8b7822a3b7d5": {
          "model_module": "@jupyter-widgets/base",
          "model_name": "LayoutModel",
          "state": {
            "_view_name": "LayoutView",
            "grid_template_rows": null,
            "right": null,
            "justify_content": null,
            "_view_module": "@jupyter-widgets/base",
            "overflow": null,
            "_model_module_version": "1.2.0",
            "_view_count": null,
            "flex_flow": null,
            "width": null,
            "min_width": null,
            "border": null,
            "align_items": null,
            "bottom": null,
            "_model_module": "@jupyter-widgets/base",
            "top": null,
            "grid_column": null,
            "overflow_y": null,
            "overflow_x": null,
            "grid_auto_flow": null,
            "grid_area": null,
            "grid_template_columns": null,
            "flex": null,
            "_model_name": "LayoutModel",
            "justify_items": null,
            "grid_row": null,
            "max_height": null,
            "align_content": null,
            "visibility": null,
            "align_self": null,
            "height": null,
            "min_height": null,
            "padding": null,
            "grid_auto_rows": null,
            "grid_gap": null,
            "max_width": null,
            "order": null,
            "_view_module_version": "1.2.0",
            "grid_template_areas": null,
            "object_position": null,
            "object_fit": null,
            "grid_auto_columns": null,
            "margin": null,
            "display": null,
            "left": null
          }
        }
      }
    }
  },
  "cells": [
    {
      "cell_type": "markdown",
      "metadata": {
        "id": "Vew-2Pr18KwK"
      },
      "source": [
        "Устанавливаем все необходимые библиотеки."
      ]
    },
    {
      "cell_type": "code",
      "metadata": {
        "id": "H7XvhezSZFIj"
      },
      "source": [
        "from google.colab import files\n",
        "from IPython.display import clear_output"
      ],
      "execution_count": 1,
      "outputs": []
    },
    {
      "cell_type": "code",
      "metadata": {
        "id": "C3j7mu8pW2rx"
      },
      "source": [
        "!pip install pycodestyle pycodestyle_magic\n",
        "!pip install flake8\n",
        "clear_output()"
      ],
      "execution_count": 2,
      "outputs": []
    },
    {
      "cell_type": "code",
      "metadata": {
        "id": "Z1hdMJy4k-JC"
      },
      "source": [
        "%load_ext pycodestyle_magic"
      ],
      "execution_count": 3,
      "outputs": []
    },
    {
      "cell_type": "code",
      "metadata": {
        "id": "T60sVwozQqaA"
      },
      "source": [
        "!pip install -U -q PyDrive"
      ],
      "execution_count": 4,
      "outputs": []
    },
    {
      "cell_type": "code",
      "metadata": {
        "id": "DLnSm8urQtJ3"
      },
      "source": [
        "from pydrive.auth import GoogleAuth\n",
        "from pydrive.drive import GoogleDrive\n",
        "from google.colab import auth\n",
        "from oauth2client.client import GoogleCredentials"
      ],
      "execution_count": 5,
      "outputs": []
    },
    {
      "cell_type": "code",
      "metadata": {
        "id": "6WewP4XtQ2qe"
      },
      "source": [
        "auth.authenticate_user()\n",
        "gauth = GoogleAuth()\n",
        "gauth.credentials = GoogleCredentials.get_application_default()\n",
        "drive = GoogleDrive(gauth)"
      ],
      "execution_count": 6,
      "outputs": []
    },
    {
      "cell_type": "markdown",
      "metadata": {
        "id": "xHqJmsuUbMS-"
      },
      "source": [
        "Загружаем данные."
      ]
    },
    {
      "cell_type": "code",
      "metadata": {
        "id": "Z_pYEmYedC0M"
      },
      "source": [
        "whole_table_with_lemm = drive.CreateFile(\n",
        "    {'id': '1rKrNCmgWPReJujCoZCDlhAb66yiUZ_by'})\n",
        "whole_table_with_lemm.GetContentFile('whole_table_with_lemm.csv')"
      ],
      "execution_count": null,
      "outputs": []
    },
    {
      "cell_type": "markdown",
      "metadata": {
        "id": "534gC1-ybGNt"
      },
      "source": [
        "Импортируем все необходимые библиотеки."
      ]
    },
    {
      "cell_type": "code",
      "metadata": {
        "id": "GBC-2eqEZJJ1"
      },
      "source": [
        "import re\n",
        "import nltk\n",
        "import joblib\n",
        "\n",
        "import pandas as pd\n",
        "import numpy as np\n",
        "\n",
        "from pprint import pprint\n",
        "from ast import literal_eval\n",
        "from datetime import datetime\n",
        "from string import punctuation\n",
        "\n",
        "from tqdm.notebook import tqdm\n",
        "\n",
        "from nltk.corpus import stopwords\n",
        "\n",
        "from gensim.corpora import Dictionary\n",
        "from gensim.models.ldamodel import LdaModel\n",
        "\n",
        "clear_output()"
      ],
      "execution_count": 22,
      "outputs": []
    },
    {
      "cell_type": "code",
      "metadata": {
        "colab": {
          "base_uri": "https://localhost:8080/"
        },
        "id": "ZPgZkdrYRe3p",
        "outputId": "b129dbe4-85d5-4bc8-9b9b-04d4cab5b193"
      },
      "source": [
        "nltk.download('stopwords')"
      ],
      "execution_count": 9,
      "outputs": [
        {
          "output_type": "stream",
          "text": [
            "[nltk_data] Downloading package stopwords to /root/nltk_data...\n",
            "[nltk_data]   Unzipping corpora/stopwords.zip.\n"
          ],
          "name": "stdout"
        },
        {
          "output_type": "execute_result",
          "data": {
            "text/plain": [
              "True"
            ]
          },
          "metadata": {
            "tags": []
          },
          "execution_count": 9
        }
      ]
    },
    {
      "cell_type": "code",
      "metadata": {
        "id": "UdpjDv6wQ5oo"
      },
      "source": [
        "stop_words = set(stopwords.words('russian'))"
      ],
      "execution_count": 10,
      "outputs": []
    },
    {
      "cell_type": "markdown",
      "metadata": {
        "id": "5_P06-sjbPO7"
      },
      "source": [
        "# Цель исследования\n",
        "Тематическое моделирование корпуса текстов: связь тем дневниковых записей с периодом времени написания.\n",
        "# Данные\n",
        "**Meet your dataset: дневниковые записи** [(источник)](https://t.me/c/1358367494/782)<br>\n",
        "<br>\n",
        "**Откуда у нас дневники?**<br>\n",
        "Наши данные - это причёсанный дамп [сайта \"Прожито\"](https://prozhito.org) от апреля 2019 года. Таблицы содержит несколько сотен тысяч записей за большой отрезок времени (от XVIII до XXI века, преимущественно — XX век), так что вам будет, где развернуться ;).<br>\n",
        "<br>\n",
        "**Как устроен датасет?**<br>\n",
        "У нас есть две таблицы, `whole_table.csv` и `whole_table_with_lemm.csv`. Вторая отличается наличием колонки c лемматизированными (т.е. с приведенными в начальную форму словами) mystem записями.<br>\n",
        "В обеих таблицах есть колонка:\n",
        "*   `notes` - содержит сами дневниковые записи\n",
        "*   `dates` - дата записи в формате год/месяц/день\n",
        "*   `id`  -  айдишник автора (не записи!)\n",
        "*   `author` - имя автора записи\n",
        "<br>\n",
        "\n",
        "Практически все поля заполнены, у некоторых отсутствует дата (так как таблица отсортирована по датам, они в самом начале).<br>\n",
        "*От авторов исследования: даты отформатированы как YYYY/(M)M/(D)D, отсутствовать могут день, месяц или год, отсутствующие элементы даты заменены нулями.*\n",
        "# Препроцессинг"
      ]
    },
    {
      "cell_type": "code",
      "metadata": {
        "id": "TMwjG30nsbyK"
      },
      "source": [
        "# напишем отдельную функцию парсинга дат для записей раньше 20 века\n",
        "# или записей у которых отсутствует год, месяц или число\n",
        "# исходя из целей исследования, такие записи неинформативны и их нужно удалять\n",
        "\n",
        "def date_parser(date):\n",
        "    if date and re.match(r'^19\\d{2}/[1-9]\\d?/[1-9]\\d?$', date):\n",
        "        date_split = [int(elem) for elem in date.split('/')]\n",
        "        if date_split[0] >= 1905:\n",
        "            return datetime(year=date_split[0],\n",
        "                            month=date_split[1],\n",
        "                            day=date_split[2])\n",
        "    return np.nan"
      ],
      "execution_count": null,
      "outputs": []
    },
    {
      "cell_type": "code",
      "metadata": {
        "id": "5mOJE4xTbRIP"
      },
      "source": [
        "df = pd.read_csv('whole_table_with_lemm.csv', sep='\\t', index_col=0,\n",
        "                 usecols=[0, 2, 3], parse_dates=['dates'],\n",
        "                 date_parser=date_parser).rename(\n",
        "                     columns={'notes\\n': 'lemm', 'dates': 'date'})"
      ],
      "execution_count": null,
      "outputs": []
    },
    {
      "cell_type": "code",
      "metadata": {
        "colab": {
          "base_uri": "https://localhost:8080/",
          "height": 204
        },
        "id": "Dj4WOm6ah_b1",
        "outputId": "7cff2b5e-a045-4c23-b2c8-c1034b9a5a82"
      },
      "source": [
        "df.head()"
      ],
      "execution_count": null,
      "outputs": [
        {
          "output_type": "execute_result",
          "data": {
            "text/html": [
              "<div>\n",
              "<style scoped>\n",
              "    .dataframe tbody tr th:only-of-type {\n",
              "        vertical-align: middle;\n",
              "    }\n",
              "\n",
              "    .dataframe tbody tr th {\n",
              "        vertical-align: top;\n",
              "    }\n",
              "\n",
              "    .dataframe thead th {\n",
              "        text-align: right;\n",
              "    }\n",
              "</style>\n",
              "<table border=\"1\" class=\"dataframe\">\n",
              "  <thead>\n",
              "    <tr style=\"text-align: right;\">\n",
              "      <th></th>\n",
              "      <th>lemm</th>\n",
              "      <th>date</th>\n",
              "    </tr>\n",
              "  </thead>\n",
              "  <tbody>\n",
              "    <tr>\n",
              "      <th>0</th>\n",
              "      <td>воскресение.    \\nвчера приезжать слава навеща...</td>\n",
              "      <td>NaT</td>\n",
              "    </tr>\n",
              "    <tr>\n",
              "      <th>1</th>\n",
              "      <td>ночь мы достигать банка антон-дорн, в датский ...</td>\n",
              "      <td>NaT</td>\n",
              "    </tr>\n",
              "    <tr>\n",
              "      <th>2</th>\n",
              "      <td>суббота. москва. ехать в селище.\\n</td>\n",
              "      <td>NaT</td>\n",
              "    </tr>\n",
              "    <tr>\n",
              "      <th>3</th>\n",
              "      <td>18 август его королевский величество отправлят...</td>\n",
              "      <td>NaT</td>\n",
              "    </tr>\n",
              "    <tr>\n",
              "      <th>4</th>\n",
              "      <td>на следующий день, 19 август, прибывать в остр...</td>\n",
              "      <td>NaT</td>\n",
              "    </tr>\n",
              "  </tbody>\n",
              "</table>\n",
              "</div>"
            ],
            "text/plain": [
              "                                                lemm date\n",
              "0  воскресение.    \\nвчера приезжать слава навеща...  NaT\n",
              "1  ночь мы достигать банка антон-дорн, в датский ...  NaT\n",
              "2                 суббота. москва. ехать в селище.\\n  NaT\n",
              "3  18 август его королевский величество отправлят...  NaT\n",
              "4  на следующий день, 19 август, прибывать в остр...  NaT"
            ]
          },
          "metadata": {
            "tags": []
          },
          "execution_count": 15
        }
      ]
    },
    {
      "cell_type": "code",
      "metadata": {
        "colab": {
          "base_uri": "https://localhost:8080/"
        },
        "id": "NoKSH40tkwZk",
        "outputId": "d7c81d1b-2984-4239-ee23-6fe65933a775"
      },
      "source": [
        "df.info()"
      ],
      "execution_count": null,
      "outputs": [
        {
          "output_type": "stream",
          "text": [
            "<class 'pandas.core.frame.DataFrame'>\n",
            "Int64Index: 384526 entries, 0 to 384525\n",
            "Data columns (total 2 columns):\n",
            " #   Column  Non-Null Count   Dtype         \n",
            "---  ------  --------------   -----         \n",
            " 0   lemm    384525 non-null  object        \n",
            " 1   date    302547 non-null  datetime64[ns]\n",
            "dtypes: datetime64[ns](1), object(1)\n",
            "memory usage: 8.8+ MB\n"
          ],
          "name": "stdout"
        }
      ]
    },
    {
      "cell_type": "code",
      "metadata": {
        "id": "SGD2RCJhpgFU"
      },
      "source": [
        "!rm whole_table_with_lemm.csv"
      ],
      "execution_count": null,
      "outputs": []
    },
    {
      "cell_type": "markdown",
      "metadata": {
        "id": "FEmDPGZmR_37"
      },
      "source": [
        "Удаляем ненужные записи, делаем столбец `date` индексом."
      ]
    },
    {
      "cell_type": "code",
      "metadata": {
        "id": "1nigQX3Tkzgy"
      },
      "source": [
        "df = df.dropna().set_index('date')"
      ],
      "execution_count": null,
      "outputs": []
    },
    {
      "cell_type": "code",
      "metadata": {
        "colab": {
          "base_uri": "https://localhost:8080/",
          "height": 235
        },
        "id": "0P3S7QKpSgdu",
        "outputId": "3b528374-f5da-4b69-c37d-bd122ec59ab0"
      },
      "source": [
        "df.head()"
      ],
      "execution_count": null,
      "outputs": [
        {
          "output_type": "execute_result",
          "data": {
            "text/html": [
              "<div>\n",
              "<style scoped>\n",
              "    .dataframe tbody tr th:only-of-type {\n",
              "        vertical-align: middle;\n",
              "    }\n",
              "\n",
              "    .dataframe tbody tr th {\n",
              "        vertical-align: top;\n",
              "    }\n",
              "\n",
              "    .dataframe thead th {\n",
              "        text-align: right;\n",
              "    }\n",
              "</style>\n",
              "<table border=\"1\" class=\"dataframe\">\n",
              "  <thead>\n",
              "    <tr style=\"text-align: right;\">\n",
              "      <th></th>\n",
              "      <th>lemm</th>\n",
              "    </tr>\n",
              "    <tr>\n",
              "      <th>date</th>\n",
              "      <th></th>\n",
              "    </tr>\n",
              "  </thead>\n",
              "  <tbody>\n",
              "    <tr>\n",
              "      <th>1905-01-01</th>\n",
              "      <td>в 7 час утро — 4°, туман с дым, тихо. сегодня ...</td>\n",
              "    </tr>\n",
              "    <tr>\n",
              "      <th>1905-01-01</th>\n",
              "      <td>с ранний утро японец опять открывать огонь раз...</td>\n",
              "    </tr>\n",
              "    <tr>\n",
              "      <th>1905-01-01</th>\n",
              "      <td>день новый год проходить благополучно. японец ...</td>\n",
              "    </tr>\n",
              "    <tr>\n",
              "      <th>1905-01-01</th>\n",
              "      <td>вчера говорить, что поражать перемена, который...</td>\n",
              "    </tr>\n",
              "    <tr>\n",
              "      <th>1905-01-01</th>\n",
              "      <td>воскресение. японский выя год    \\nобычный вос...</td>\n",
              "    </tr>\n",
              "  </tbody>\n",
              "</table>\n",
              "</div>"
            ],
            "text/plain": [
              "                                                         lemm\n",
              "date                                                         \n",
              "1905-01-01  в 7 час утро — 4°, туман с дым, тихо. сегодня ...\n",
              "1905-01-01  с ранний утро японец опять открывать огонь раз...\n",
              "1905-01-01  день новый год проходить благополучно. японец ...\n",
              "1905-01-01  вчера говорить, что поражать перемена, который...\n",
              "1905-01-01  воскресение. японский выя год    \\nобычный вос..."
            ]
          },
          "metadata": {
            "tags": []
          },
          "execution_count": 18
        }
      ]
    },
    {
      "cell_type": "code",
      "metadata": {
        "colab": {
          "base_uri": "https://localhost:8080/"
        },
        "id": "xwx0Ce6OShc_",
        "outputId": "5a57c37b-4530-4381-f8e0-b11ef5cf6ff0"
      },
      "source": [
        "df.info()"
      ],
      "execution_count": null,
      "outputs": [
        {
          "output_type": "stream",
          "text": [
            "<class 'pandas.core.frame.DataFrame'>\n",
            "DatetimeIndex: 302546 entries, 1905-01-01 to 1999-12-31\n",
            "Data columns (total 1 columns):\n",
            " #   Column  Non-Null Count   Dtype \n",
            "---  ------  --------------   ----- \n",
            " 0   lemm    302546 non-null  object\n",
            "dtypes: object(1)\n",
            "memory usage: 4.6+ MB\n"
          ],
          "name": "stdout"
        }
      ]
    },
    {
      "cell_type": "markdown",
      "metadata": {
        "id": "CPbnSkqDTOCd"
      },
      "source": [
        "## Токенизация"
      ]
    },
    {
      "cell_type": "code",
      "metadata": {
        "colab": {
          "base_uri": "https://localhost:8080/",
          "height": 35
        },
        "id": "2lVcTbuQXRkZ",
        "outputId": "d95c0693-651f-42cd-d890-56b46939d7f6"
      },
      "source": [
        "punctuation + '— \\n'"
      ],
      "execution_count": null,
      "outputs": [
        {
          "output_type": "execute_result",
          "data": {
            "application/vnd.google.colaboratory.intrinsic+json": {
              "type": "string"
            },
            "text/plain": [
              "'!\"#$%&\\'()*+,-./:;<=>?@[\\\\]^_`{|}~— \\n'"
            ]
          },
          "metadata": {
            "tags": []
          },
          "execution_count": 20
        }
      ]
    },
    {
      "cell_type": "code",
      "metadata": {
        "id": "rhEZVaz8YDSa"
      },
      "source": [
        "regex = r'[!\\\"#$%&\\'()*+,\\-./:;<=>?@[\\\\\\]^_`{|}~— \\n]+'"
      ],
      "execution_count": null,
      "outputs": []
    },
    {
      "cell_type": "code",
      "metadata": {
        "id": "QOMZDkvHZd_D"
      },
      "source": [
        "def tokenization(text):\n",
        "    return [elem for elem in re.split(regex, text)\n",
        "            if elem and elem not in stop_words]"
      ],
      "execution_count": null,
      "outputs": []
    },
    {
      "cell_type": "code",
      "metadata": {
        "id": "a4TJHt8nT3mc"
      },
      "source": [
        "df['lemm'] = df['lemm'].apply(tokenization)\n",
        "clear_output()"
      ],
      "execution_count": null,
      "outputs": []
    },
    {
      "cell_type": "code",
      "metadata": {
        "colab": {
          "base_uri": "https://localhost:8080/",
          "height": 235
        },
        "id": "i0Yv75nZYFeT",
        "outputId": "be316d8a-07bd-4553-e450-87209d21f475"
      },
      "source": [
        "df.head()"
      ],
      "execution_count": null,
      "outputs": [
        {
          "output_type": "execute_result",
          "data": {
            "text/html": [
              "<div>\n",
              "<style scoped>\n",
              "    .dataframe tbody tr th:only-of-type {\n",
              "        vertical-align: middle;\n",
              "    }\n",
              "\n",
              "    .dataframe tbody tr th {\n",
              "        vertical-align: top;\n",
              "    }\n",
              "\n",
              "    .dataframe thead th {\n",
              "        text-align: right;\n",
              "    }\n",
              "</style>\n",
              "<table border=\"1\" class=\"dataframe\">\n",
              "  <thead>\n",
              "    <tr style=\"text-align: right;\">\n",
              "      <th></th>\n",
              "      <th>lemm</th>\n",
              "    </tr>\n",
              "    <tr>\n",
              "      <th>date</th>\n",
              "      <th></th>\n",
              "    </tr>\n",
              "  </thead>\n",
              "  <tbody>\n",
              "    <tr>\n",
              "      <th>1905-01-01</th>\n",
              "      <td>[7, час, утро, 4°, туман, дым, тихо, сегодня, ...</td>\n",
              "    </tr>\n",
              "    <tr>\n",
              "      <th>1905-01-01</th>\n",
              "      <td>[ранний, утро, японец, открывать, огонь, разом...</td>\n",
              "    </tr>\n",
              "    <tr>\n",
              "      <th>1905-01-01</th>\n",
              "      <td>[день, новый, год, проходить, благополучно, яп...</td>\n",
              "    </tr>\n",
              "    <tr>\n",
              "      <th>1905-01-01</th>\n",
              "      <td>[вчера, говорить, поражать, перемена, который,...</td>\n",
              "    </tr>\n",
              "    <tr>\n",
              "      <th>1905-01-01</th>\n",
              "      <td>[воскресение, японский, выя, год, обычный, вос...</td>\n",
              "    </tr>\n",
              "  </tbody>\n",
              "</table>\n",
              "</div>"
            ],
            "text/plain": [
              "                                                         lemm\n",
              "date                                                         \n",
              "1905-01-01  [7, час, утро, 4°, туман, дым, тихо, сегодня, ...\n",
              "1905-01-01  [ранний, утро, японец, открывать, огонь, разом...\n",
              "1905-01-01  [день, новый, год, проходить, благополучно, яп...\n",
              "1905-01-01  [вчера, говорить, поражать, перемена, который,...\n",
              "1905-01-01  [воскресение, японский, выя, год, обычный, вос..."
            ]
          },
          "metadata": {
            "tags": []
          },
          "execution_count": 24
        }
      ]
    },
    {
      "cell_type": "markdown",
      "metadata": {
        "id": "Mr-bcxkZaPYL"
      },
      "source": [
        "Сохраняем и загружаем на гуглдиск готовые к topic modelling данные."
      ]
    },
    {
      "cell_type": "code",
      "metadata": {
        "id": "knGeEif7dzqg"
      },
      "source": [
        "df.to_csv('prozhito_lemmas.csv')"
      ],
      "execution_count": null,
      "outputs": []
    },
    {
      "cell_type": "code",
      "metadata": {
        "colab": {
          "base_uri": "https://localhost:8080/"
        },
        "id": "Oe4wMXP9onV6",
        "outputId": "3b6e18a6-e39b-4c6f-9904-f7f5e12eec68"
      },
      "source": [
        "!zip prozhito_lemmas.zip prozhito_lemmas.csv"
      ],
      "execution_count": null,
      "outputs": [
        {
          "output_type": "stream",
          "text": [
            "  adding: prozhito_lemmas.csv (deflated 78%)\n"
          ],
          "name": "stdout"
        }
      ]
    },
    {
      "cell_type": "code",
      "metadata": {
        "id": "m5BKl83LpVTU"
      },
      "source": [
        "!rm prozhito_lemmas.csv"
      ],
      "execution_count": null,
      "outputs": []
    },
    {
      "cell_type": "code",
      "metadata": {
        "colab": {
          "base_uri": "https://localhost:8080/",
          "height": 17
        },
        "id": "9DDqZPEvdwje",
        "outputId": "0e4abb54-83d8-4954-b42a-20d700b2a170"
      },
      "source": [
        "files.download('prozhito_lemmas.zip')"
      ],
      "execution_count": null,
      "outputs": [
        {
          "output_type": "display_data",
          "data": {
            "application/javascript": [
              "\n",
              "    async function download(id, filename, size) {\n",
              "      if (!google.colab.kernel.accessAllowed) {\n",
              "        return;\n",
              "      }\n",
              "      const div = document.createElement('div');\n",
              "      const label = document.createElement('label');\n",
              "      label.textContent = `Downloading \"${filename}\": `;\n",
              "      div.appendChild(label);\n",
              "      const progress = document.createElement('progress');\n",
              "      progress.max = size;\n",
              "      div.appendChild(progress);\n",
              "      document.body.appendChild(div);\n",
              "\n",
              "      const buffers = [];\n",
              "      let downloaded = 0;\n",
              "\n",
              "      const channel = await google.colab.kernel.comms.open(id);\n",
              "      // Send a message to notify the kernel that we're ready.\n",
              "      channel.send({})\n",
              "\n",
              "      for await (const message of channel.messages) {\n",
              "        // Send a message to notify the kernel that we're ready.\n",
              "        channel.send({})\n",
              "        if (message.buffers) {\n",
              "          for (const buffer of message.buffers) {\n",
              "            buffers.push(buffer);\n",
              "            downloaded += buffer.byteLength;\n",
              "            progress.value = downloaded;\n",
              "          }\n",
              "        }\n",
              "      }\n",
              "      const blob = new Blob(buffers, {type: 'application/binary'});\n",
              "      const a = document.createElement('a');\n",
              "      a.href = window.URL.createObjectURL(blob);\n",
              "      a.download = filename;\n",
              "      div.appendChild(a);\n",
              "      a.click();\n",
              "      div.remove();\n",
              "    }\n",
              "  "
            ],
            "text/plain": [
              "<IPython.core.display.Javascript object>"
            ]
          },
          "metadata": {
            "tags": []
          }
        },
        {
          "output_type": "display_data",
          "data": {
            "application/javascript": [
              "download(\"download_b1d7afee-9e99-4e19-a486-d262050b7be3\", \"prozhito_lemmas.zip\", 129388898)"
            ],
            "text/plain": [
              "<IPython.core.display.Javascript object>"
            ]
          },
          "metadata": {
            "tags": []
          }
        }
      ]
    },
    {
      "cell_type": "code",
      "metadata": {
        "id": "CJOgNS1NfKEh"
      },
      "source": [
        "# код для загрузки готовой к topic modelling таблицы\n",
        "\n",
        "# prozhito_lemmas = drive.CreateFile(\n",
        "#    {'id': '1_t6vdR2iREGMdNNtuYMc09anV0YpbaSs'})\n",
        "# prozhito_lemmas.GetContentFile('prozhito_lemmas.zip')"
      ],
      "execution_count": null,
      "outputs": []
    },
    {
      "cell_type": "markdown",
      "metadata": {
        "id": "kb3gdemp-mhG"
      },
      "source": [
        "Функция для загруженного из гуглдиска датафрейма."
      ]
    },
    {
      "cell_type": "code",
      "metadata": {
        "id": "eJ-N68B4-lPU"
      },
      "source": [
        "def data_to_list(filename):\n",
        "    df = pd.read_csv(filename)\n",
        "    df['lemm'] = df['lemm'].apply(literal_eval)\n",
        "    clear_output()\n",
        "    return df"
      ],
      "execution_count": 23,
      "outputs": []
    },
    {
      "cell_type": "markdown",
      "metadata": {
        "id": "fCsy8cJ2fhCX"
      },
      "source": [
        "## Периодизация\n",
        "Поскольку основная часть текстов корпуса приходится на советскую эпоху, решено было выделить следующие периоды:\n",
        "*   *янв. 1905 – янв. 1907* (первая революция)\n",
        "*   *февр. 1907 – май 1914* (период между революциями)\n",
        "*   *июнь 1914 – октябрь 1918* (Первая мировая война и две главные революции в России)\n",
        "*   *ноябрь 1918 – декабрь 1927* (гражданская война, продразверстка, НЭП)\n",
        "*   *январь 1928 – август 1939* (коллективизация, Большой террор)\n",
        "*   *сентябрь 1939 – май 1945* (Вторая мировая война)\n",
        "*   *1946 – 1963* (промежуточный период истории, заканчивается «оттепелью»)\n",
        "*   *1964 – май 1987* (застой)\n",
        "*   *июнь 1987 – июнь 1990* (перестройка и развал СССР)\n",
        "*   *1991 – 2001* (после СССР, «лихие 90-е»)"
      ]
    },
    {
      "cell_type": "code",
      "metadata": {
        "id": "j1P6ddWPZCMl"
      },
      "source": [
        "df = [\n",
        "    df.loc[\n",
        "        pd.Timestamp('1905-1-1 00:00:00'): pd.Timestamp('1907-1-31 23:59:59')\n",
        "        ],\n",
        "    df.loc[\n",
        "        pd.Timestamp('1907-2-1 00:00:00'): pd.Timestamp('1914-5-31 23:59:59')\n",
        "        ],\n",
        "    df.loc[\n",
        "        pd.Timestamp('1914-6-1 00:00:00'): pd.Timestamp('1918-10-31 23:59:59')\n",
        "        ],\n",
        "    df.loc[\n",
        "        pd.Timestamp('1918-11-1 00:00:00'): pd.Timestamp('1927-12-31 23:59:59')\n",
        "        ],\n",
        "    df.loc[\n",
        "        pd.Timestamp('1928-1-1 00:00:00'): pd.Timestamp('1939-8-31 23:59:59')\n",
        "        ],\n",
        "    df.loc[\n",
        "        pd.Timestamp('1939-9-1 00:00:00'): pd.Timestamp('1945-5-31 23:59:59')\n",
        "        ],\n",
        "    df.loc[\n",
        "        pd.Timestamp('1946-1-1 00:00:00'): pd.Timestamp('1963-12-31 23:59:59')\n",
        "        ],\n",
        "    df.loc[\n",
        "        pd.Timestamp('1964-1-1 00:00:00'): pd.Timestamp('1987-5-31 23:59:59')\n",
        "        ],\n",
        "    df.loc[\n",
        "        pd.Timestamp('1987-6-1 00:00:00'): pd.Timestamp('1990-6-30 23:59:59')\n",
        "        ],\n",
        "    df.loc[\n",
        "        pd.Timestamp('1991-1-1 00:00:00'): pd.Timestamp('2001-12-31 23:59:59')]\n",
        "       ]"
      ],
      "execution_count": null,
      "outputs": []
    },
    {
      "cell_type": "code",
      "metadata": {
        "colab": {
          "base_uri": "https://localhost:8080/",
          "height": 204
        },
        "id": "qBwc2U9Ft6Ep",
        "outputId": "8cfde310-0504-4aa5-bb33-26130aab7710"
      },
      "source": [
        "df[1].head()"
      ],
      "execution_count": 25,
      "outputs": [
        {
          "output_type": "execute_result",
          "data": {
            "text/html": [
              "<div>\n",
              "<style scoped>\n",
              "    .dataframe tbody tr th:only-of-type {\n",
              "        vertical-align: middle;\n",
              "    }\n",
              "\n",
              "    .dataframe tbody tr th {\n",
              "        vertical-align: top;\n",
              "    }\n",
              "\n",
              "    .dataframe thead th {\n",
              "        text-align: right;\n",
              "    }\n",
              "</style>\n",
              "<table border=\"1\" class=\"dataframe\">\n",
              "  <thead>\n",
              "    <tr style=\"text-align: right;\">\n",
              "      <th></th>\n",
              "      <th>date</th>\n",
              "      <th>lemm</th>\n",
              "    </tr>\n",
              "  </thead>\n",
              "  <tbody>\n",
              "    <tr>\n",
              "      <th>0</th>\n",
              "      <td>1907-02-01</td>\n",
              "      <td>[пятница, чудный, погода, 1, солнце, ветер, па...</td>\n",
              "    </tr>\n",
              "    <tr>\n",
              "      <th>1</th>\n",
              "      <td>1907-02-01</td>\n",
              "      <td>[вчера, ната, звонить, шлиппе, сказать, сергей...</td>\n",
              "    </tr>\n",
              "    <tr>\n",
              "      <th>2</th>\n",
              "      <td>1907-02-01</td>\n",
              "      <td>[пятница, приходиться, позвать, шенгелидзе, т,...</td>\n",
              "    </tr>\n",
              "    <tr>\n",
              "      <th>3</th>\n",
              "      <td>1907-02-01</td>\n",
              "      <td>[четверг, писать, 2, февраль, доклад, военный,...</td>\n",
              "    </tr>\n",
              "    <tr>\n",
              "      <th>4</th>\n",
              "      <td>1907-02-01</td>\n",
              "      <td>[тетя, васино, рождение, тетя, мила, ходить, к...</td>\n",
              "    </tr>\n",
              "  </tbody>\n",
              "</table>\n",
              "</div>"
            ],
            "text/plain": [
              "         date                                               lemm\n",
              "0  1907-02-01  [пятница, чудный, погода, 1, солнце, ветер, па...\n",
              "1  1907-02-01  [вчера, ната, звонить, шлиппе, сказать, сергей...\n",
              "2  1907-02-01  [пятница, приходиться, позвать, шенгелидзе, т,...\n",
              "3  1907-02-01  [четверг, писать, 2, февраль, доклад, военный,...\n",
              "4  1907-02-01  [тетя, васино, рождение, тетя, мила, ходить, к..."
            ]
          },
          "metadata": {
            "tags": []
          },
          "execution_count": 25
        }
      ]
    },
    {
      "cell_type": "code",
      "metadata": {
        "colab": {
          "base_uri": "https://localhost:8080/"
        },
        "id": "oI2_PN_l_un0",
        "outputId": "b15f8261-ba5d-412e-8860-5b8bbabd9fbe"
      },
      "source": [
        "df[1]['lemm'][0]"
      ],
      "execution_count": 26,
      "outputs": [
        {
          "output_type": "execute_result",
          "data": {
            "text/plain": [
              "['пятница',\n",
              " 'чудный',\n",
              " 'погода',\n",
              " '1',\n",
              " 'солнце',\n",
              " 'ветер',\n",
              " 'пахнуть',\n",
              " 'весна',\n",
              " 'это',\n",
              " 'удивительно',\n",
              " 'приятно',\n",
              " 'завтрак',\n",
              " 'лена',\n",
              " 'ходить',\n",
              " 'гулять',\n",
              " 'обед',\n",
              " 'время',\n",
              " 'проходить',\n",
              " 'совершенно',\n",
              " 'бесцельно',\n",
              " 'лень',\n",
              " 'приниматься',\n",
              " 'бродить',\n",
              " 'угол',\n",
              " 'угол',\n",
              " 'таланцев',\n",
              " 'пробирать',\n",
              " 'немножко',\n",
              " 'митя',\n",
              " 'лень',\n",
              " 'решать',\n",
              " 'вообще',\n",
              " 'обращаться',\n",
              " 'строгий',\n",
              " 'позволять',\n",
              " 'александра',\n",
              " 'арсеньевна',\n",
              " 'рассказывать',\n",
              " 'нижний',\n",
              " 'думать',\n",
              " 'открывать',\n",
              " 'женский',\n",
              " 'педагогический',\n",
              " 'курсы',\n",
              " 'хороший',\n",
              " 'непременно',\n",
              " 'поступать',\n",
              " 'хотеться',\n",
              " 'учиться',\n",
              " 'вечер',\n",
              " 'лихорадка',\n",
              " '37',\n",
              " '5',\n",
              " 'таки',\n",
              " 'пойти',\n",
              " 'театр',\n",
              " 'лена',\n",
              " 'вася',\n",
              " 'концерт',\n",
              " 'польза',\n",
              " 'общежитие',\n",
              " 'гимназия',\n",
              " 'концерт',\n",
              " 'производить',\n",
              " 'ровно',\n",
              " 'никакой',\n",
              " 'впечатление',\n",
              " 'скучно',\n",
              " 'антракт',\n",
              " 'видеть',\n",
              " 'эрю',\n",
              " 'зина',\n",
              " 'марья',\n",
              " 'миха',\n",
              " 'многий',\n",
              " 'знакомый']"
            ]
          },
          "metadata": {
            "tags": []
          },
          "execution_count": 26
        }
      ]
    },
    {
      "cell_type": "code",
      "metadata": {
        "id": "ZGdbQa3Jl2LH"
      },
      "source": [
        "period = ['first revolution', 'between revolutions', 'WWI', 'civil war',\n",
        "          'great purge', 'WWII', 'before ottepel', 'stagnation','perestroyka',\n",
        "          '90s']"
      ],
      "execution_count": 15,
      "outputs": []
    },
    {
      "cell_type": "code",
      "metadata": {
        "colab": {
          "base_uri": "https://localhost:8080/"
        },
        "id": "KCnOpQoCuCcJ",
        "outputId": "1fce4967-0a1a-4f06-a915-e836dcf30f8a"
      },
      "source": [
        "for i, time in enumerate(period):\n",
        "    print(f'{time}:{\" \" * (20 - len(time))}\\t{df[i].shape[0]} entries')"
      ],
      "execution_count": 27,
      "outputs": [
        {
          "output_type": "stream",
          "text": [
            "first revolution:    \t5821 entries\n",
            "between revolutions: \t18761 entries\n",
            "WWI:                 \t20362 entries\n",
            "civil war:           \t35981 entries\n",
            "great purge:         \t37175 entries\n",
            "WWII:                \t62686 entries\n",
            "before ottepel:      \t39742 entries\n",
            "stagnation:          \t58121 entries\n",
            "perestroyka:         \t6723 entries\n",
            "90s:                 \t13283 entries\n"
          ],
          "name": "stdout"
        }
      ]
    },
    {
      "cell_type": "markdown",
      "metadata": {
        "id": "vSqUgqnTlCoq"
      },
      "source": [
        "Сохраняем и загружаем на гуглдиск разбитые на периоды данные."
      ]
    },
    {
      "cell_type": "code",
      "metadata": {
        "colab": {
          "base_uri": "https://localhost:8080/",
          "height": 66,
          "referenced_widgets": [
            "06cc9d87787546e1b16d9b93cd08ce2e",
            "42b20404e01a454f9b53ff19e7eb519d",
            "a0f3395c39014dbdae3d4288c9cfedf5",
            "a5b3bd454473473d93e965e1099db890",
            "ae84a6eb1f7c47b2adc67a9ab60a4cbf",
            "12838e4d606a4821b7e8f4e6dd38053e",
            "7e29404499884d32a1bc25278f29c019",
            "863be96c697641759a6a8b7822a3b7d5"
          ]
        },
        "id": "16Ty6Sl6lkFK",
        "outputId": "13f21bc8-6954-4eee-ed22-a441d266e520"
      },
      "source": [
        "for i, table in tqdm(enumerate(df)):\n",
        "    table.to_csv(f'{i + 1}_{period[i].replace(\" \", \"_\")}.csv')"
      ],
      "execution_count": null,
      "outputs": [
        {
          "output_type": "display_data",
          "data": {
            "application/vnd.jupyter.widget-view+json": {
              "model_id": "06cc9d87787546e1b16d9b93cd08ce2e",
              "version_minor": 0,
              "version_major": 2
            },
            "text/plain": [
              "HBox(children=(FloatProgress(value=1.0, bar_style='info', max=1.0), HTML(value='')))"
            ]
          },
          "metadata": {
            "tags": []
          }
        },
        {
          "output_type": "stream",
          "text": [
            "\n"
          ],
          "name": "stdout"
        }
      ]
    },
    {
      "cell_type": "code",
      "metadata": {
        "colab": {
          "base_uri": "https://localhost:8080/"
        },
        "id": "zZiG-SWioT8Z",
        "outputId": "f4ea43fe-0329-4bb5-dba8-28278a504763"
      },
      "source": [
        "!zip prozhito_periodization.zip *.csv"
      ],
      "execution_count": null,
      "outputs": [
        {
          "output_type": "stream",
          "text": [
            "  adding: 10_90s.csv (deflated 78%)\n",
            "  adding: 1_first_revolution.csv (deflated 78%)\n",
            "  adding: 2_between_revolutions.csv (deflated 78%)\n",
            "  adding: 3_WWI.csv (deflated 78%)\n",
            "  adding: 4_civil_war.csv (deflated 77%)\n",
            "  adding: 5_great_purge.csv (deflated 78%)\n",
            "  adding: 6_WWII.csv (deflated 78%)\n",
            "  adding: 7_before_ottepel.csv (deflated 78%)\n",
            "  adding: 8_stagnation.csv (deflated 78%)\n",
            "  adding: 9_perestroyka.csv (deflated 78%)\n"
          ],
          "name": "stdout"
        }
      ]
    },
    {
      "cell_type": "code",
      "metadata": {
        "colab": {
          "base_uri": "https://localhost:8080/",
          "height": 17
        },
        "id": "sbD78kCyqbvX",
        "outputId": "92e7ef66-ea38-4b06-dbab-2122384aa4b2"
      },
      "source": [
        "files.download('prozhito_periodization.zip')"
      ],
      "execution_count": null,
      "outputs": [
        {
          "output_type": "display_data",
          "data": {
            "application/javascript": [
              "\n",
              "    async function download(id, filename, size) {\n",
              "      if (!google.colab.kernel.accessAllowed) {\n",
              "        return;\n",
              "      }\n",
              "      const div = document.createElement('div');\n",
              "      const label = document.createElement('label');\n",
              "      label.textContent = `Downloading \"${filename}\": `;\n",
              "      div.appendChild(label);\n",
              "      const progress = document.createElement('progress');\n",
              "      progress.max = size;\n",
              "      div.appendChild(progress);\n",
              "      document.body.appendChild(div);\n",
              "\n",
              "      const buffers = [];\n",
              "      let downloaded = 0;\n",
              "\n",
              "      const channel = await google.colab.kernel.comms.open(id);\n",
              "      // Send a message to notify the kernel that we're ready.\n",
              "      channel.send({})\n",
              "\n",
              "      for await (const message of channel.messages) {\n",
              "        // Send a message to notify the kernel that we're ready.\n",
              "        channel.send({})\n",
              "        if (message.buffers) {\n",
              "          for (const buffer of message.buffers) {\n",
              "            buffers.push(buffer);\n",
              "            downloaded += buffer.byteLength;\n",
              "            progress.value = downloaded;\n",
              "          }\n",
              "        }\n",
              "      }\n",
              "      const blob = new Blob(buffers, {type: 'application/binary'});\n",
              "      const a = document.createElement('a');\n",
              "      a.href = window.URL.createObjectURL(blob);\n",
              "      a.download = filename;\n",
              "      div.appendChild(a);\n",
              "      a.click();\n",
              "      div.remove();\n",
              "    }\n",
              "  "
            ],
            "text/plain": [
              "<IPython.core.display.Javascript object>"
            ]
          },
          "metadata": {
            "tags": []
          }
        },
        {
          "output_type": "display_data",
          "data": {
            "application/javascript": [
              "download(\"download_f0158eb3-9906-4984-bee2-b730b4fb5ea3\", \"prozhito_periodization.zip\", 127790247)"
            ],
            "text/plain": [
              "<IPython.core.display.Javascript object>"
            ]
          },
          "metadata": {
            "tags": []
          }
        }
      ]
    },
    {
      "cell_type": "code",
      "metadata": {
        "id": "PQcS2HT9qjT2"
      },
      "source": [
        "# код для загрузки архива таблиц для каждого периода\n",
        "\n",
        "# prozhito_periodization = drive.CreateFile(\n",
        "#    {'id': '1LcrY9pNxXHa9xLJ4jGnm8lXVbegFodUQ'})\n",
        "# prozhito_periodization.GetContentFile('prozhito_periodization.zip')"
      ],
      "execution_count": 11,
      "outputs": []
    },
    {
      "cell_type": "markdown",
      "metadata": {
        "id": "DUIIzLnsZ58W"
      },
      "source": [
        "# LDA with Gensim"
      ]
    },
    {
      "cell_type": "code",
      "metadata": {
        "id": "UN3JkaTiMNT3"
      },
      "source": [
        "models = []"
      ],
      "execution_count": null,
      "outputs": []
    },
    {
      "cell_type": "code",
      "metadata": {
        "colab": {
          "base_uri": "https://localhost:8080/"
        },
        "id": "Lu1JWRHLq5ls",
        "outputId": "32a3e679-51e0-4a51-b09a-16e730b58c1b"
      },
      "source": [
        "for table in df[8:]:\n",
        "    data = list(table['lemm'])\n",
        "    id2word = Dictionary(data)\n",
        "    corpus = [id2word.doc2bow(text) for text in data]\n",
        "    model = LdaModel(corpus, num_topics=10, id2word=id2word, passes=15,\n",
        "                     iterations=100, per_word_topics=True)\n",
        "    models.append(model)\n",
        "    clear_output()\n",
        "    print(f'Моделей обучено: {len(models)}')"
      ],
      "execution_count": 39,
      "outputs": [
        {
          "output_type": "stream",
          "text": [
            "Моделей обучено: 10\n"
          ],
          "name": "stdout"
        }
      ]
    },
    {
      "cell_type": "markdown",
      "metadata": {
        "id": "cUNPOqEGyJzB"
      },
      "source": [
        "Сохраняем и загружаем на гуглдиск обученные модели с наборами тем для каждого периода."
      ]
    },
    {
      "cell_type": "code",
      "metadata": {
        "id": "PnFiwceOyRZL",
        "colab": {
          "base_uri": "https://localhost:8080/"
        },
        "outputId": "7daab112-14e3-4189-911c-691e778319a3"
      },
      "source": [
        "joblib.dump(models, 'prozhito_topic_modelling.pkl')"
      ],
      "execution_count": 42,
      "outputs": [
        {
          "output_type": "execute_result",
          "data": {
            "text/plain": [
              "['prozhito_topic_modelling.pkl']"
            ]
          },
          "metadata": {
            "tags": []
          },
          "execution_count": 42
        }
      ]
    },
    {
      "cell_type": "code",
      "metadata": {
        "id": "LVNODfqSyjpR",
        "colab": {
          "base_uri": "https://localhost:8080/"
        },
        "outputId": "c8a32964-3402-4cad-eb05-55396d651ec3"
      },
      "source": [
        "!zip prozhito_topic_modelling.zip prozhito_topic_modelling.pkl"
      ],
      "execution_count": 43,
      "outputs": [
        {
          "output_type": "stream",
          "text": [
            "  adding: prozhito_topic_modelling.pkl (deflated 54%)\n"
          ],
          "name": "stdout"
        }
      ]
    },
    {
      "cell_type": "code",
      "metadata": {
        "colab": {
          "base_uri": "https://localhost:8080/",
          "height": 17
        },
        "id": "WtFS5OiEywCe",
        "outputId": "c8ab353d-2c5e-4aae-b478-807e635641f4"
      },
      "source": [
        "files.download('prozhito_topic_modelling.pkl')"
      ],
      "execution_count": 44,
      "outputs": [
        {
          "output_type": "display_data",
          "data": {
            "application/javascript": [
              "\n",
              "    async function download(id, filename, size) {\n",
              "      if (!google.colab.kernel.accessAllowed) {\n",
              "        return;\n",
              "      }\n",
              "      const div = document.createElement('div');\n",
              "      const label = document.createElement('label');\n",
              "      label.textContent = `Downloading \"${filename}\": `;\n",
              "      div.appendChild(label);\n",
              "      const progress = document.createElement('progress');\n",
              "      progress.max = size;\n",
              "      div.appendChild(progress);\n",
              "      document.body.appendChild(div);\n",
              "\n",
              "      const buffers = [];\n",
              "      let downloaded = 0;\n",
              "\n",
              "      const channel = await google.colab.kernel.comms.open(id);\n",
              "      // Send a message to notify the kernel that we're ready.\n",
              "      channel.send({})\n",
              "\n",
              "      for await (const message of channel.messages) {\n",
              "        // Send a message to notify the kernel that we're ready.\n",
              "        channel.send({})\n",
              "        if (message.buffers) {\n",
              "          for (const buffer of message.buffers) {\n",
              "            buffers.push(buffer);\n",
              "            downloaded += buffer.byteLength;\n",
              "            progress.value = downloaded;\n",
              "          }\n",
              "        }\n",
              "      }\n",
              "      const blob = new Blob(buffers, {type: 'application/binary'});\n",
              "      const a = document.createElement('a');\n",
              "      a.href = window.URL.createObjectURL(blob);\n",
              "      a.download = filename;\n",
              "      div.appendChild(a);\n",
              "      a.click();\n",
              "      div.remove();\n",
              "    }\n",
              "  "
            ],
            "text/plain": [
              "<IPython.core.display.Javascript object>"
            ]
          },
          "metadata": {
            "tags": []
          }
        },
        {
          "output_type": "display_data",
          "data": {
            "application/javascript": [
              "download(\"download_b86f0c2d-715b-442f-935f-8fa5852f1803\", \"prozhito_topic_modelling.pkl\", 184494942)"
            ],
            "text/plain": [
              "<IPython.core.display.Javascript object>"
            ]
          },
          "metadata": {
            "tags": []
          }
        }
      ]
    },
    {
      "cell_type": "code",
      "metadata": {
        "id": "_XxHvt0FywCj"
      },
      "source": [
        "# код для загрузки обученных моделей\n",
        "\n",
        "# prozhito_topic_modelling = drive.CreateFile(\n",
        "#    {'id': '1og0bwBkOCfPN3DA3jcR1D7IrN0wLjsHo'})\n",
        "# prozhito_topic_modelling.GetContentFile('prozhito_topic_modelling.pkl')"
      ],
      "execution_count": null,
      "outputs": []
    },
    {
      "cell_type": "markdown",
      "metadata": {
        "id": "CUlVzh2ZyxUF"
      },
      "source": [
        "# Результаты\n",
        "[Визуализация результатов](https://colab.research.google.com/drive/1rejmaQAdDrRG6KLD1cb4T382OfaVs_Rh?usp=sharing)<br>\n",
        "[Результаты в виде таймлайна](https://www.sutori.com/story/zhivyie-dushi-xx-vieka--LVLEntAwko13P3cmo1Chy9D8)\n",
        "## Первая революция\n",
        "### (*янв. 1905 – янв. 1907*)\n",
        "Темы дневниковых записей:"
      ]
    },
    {
      "cell_type": "code",
      "metadata": {
        "id": "gBvh3Y8j1mxj",
        "colab": {
          "base_uri": "https://localhost:8080/"
        },
        "outputId": "f912a3dd-5106-447d-8d10-cda9fa706603"
      },
      "source": [
        "pprint(models[0].print_topics())"
      ],
      "execution_count": 31,
      "outputs": [
        {
          "output_type": "stream",
          "text": [
            "[(0,\n",
            "  '0.050*\"id\" + 0.050*\"com\" + 0.014*\"письмо\" + 0.010*\"вечер\" + 0.007*\"день\" + '\n",
            "  '0.006*\"ребенок\" + 0.006*\"читать\" + 0.005*\"написать\" + 0.005*\"жена\" + '\n",
            "  '0.005*\"писать\"'),\n",
            " (1,\n",
            "  '0.015*\"это\" + 0.013*\"говорить\" + 0.009*\"сказать\" + 0.008*\"очень\" + '\n",
            "  '0.008*\"id\" + 0.008*\"com\" + 0.008*\"весь\" + 0.007*\"который\" + 0.007*\"»\" + '\n",
            "  '0.006*\"свой\"'),\n",
            " (2,\n",
            "  '0.010*\"весь\" + 0.007*\"это\" + 0.006*\"день\" + 0.004*\"который\" + 0.004*\"свой\" '\n",
            "  '+ 0.004*\"очень\" + 0.004*\"дом\" + 0.004*\"сегодня\" + 0.004*\"наш\" + '\n",
            "  '0.003*\"вид\"'),\n",
            " (3,\n",
            "  '0.013*\"алый\" + 0.012*\"жена\" + 0.009*\"м\" + 0.009*\"б\" + 0.007*\"п\" + '\n",
            "  '0.006*\"самуил\" + 0.006*\"корпус\" + 0.005*\"л\" + 0.005*\"белла\" + '\n",
            "  '0.005*\"завтрак\"'),\n",
            " (4,\n",
            "  '0.015*\"театр\" + 0.013*\"это\" + 0.009*\"который\" + 0.008*\"сегодня\" + '\n",
            "  '0.008*\"весь\" + 0.007*\"2\" + 0.007*\"com\" + 0.007*\"id\" + 0.006*\"говорить\" + '\n",
            "  '0.006*\"1\"'),\n",
            " (5,\n",
            "  '0.021*\"это\" + 0.020*\"жизнь\" + 0.016*\"человек\" + 0.014*\"мочь\" + 0.012*\"id\" + '\n",
            "  '0.012*\"com\" + 0.008*\"весь\" + 0.008*\"свой\" + 0.008*\"бог\" + 0.008*\"жить\"'),\n",
            " (6,\n",
            "  '0.010*\"весь\" + 0.009*\"наш\" + 0.008*\"офицер\" + 0.008*\"который\" + '\n",
            "  '0.007*\"японец\" + 0.006*\"полк\" + 0.006*\"свой\" + 0.005*\"японский\" + '\n",
            "  '0.005*\"это\" + 0.005*\"солдат\"'),\n",
            " (7,\n",
            "  '0.020*\"com\" + 0.020*\"id\" + 0.011*\"это\" + 0.009*\"весь\" + 0.007*\"который\" + '\n",
            "  '0.007*\"свой\" + 0.006*\"говорить\" + 0.006*\"человек\" + 0.006*\"царь\" + '\n",
            "  '0.005*\"наш\"'),\n",
            " (8,\n",
            "  '0.013*\"павловск\" + 0.011*\"судейкин\" + 0.007*\"татиана\" + 0.006*\"сапунов\" + '\n",
            "  '0.005*\"го\" + 0.005*\"иоанчик\" + 0.004*\"мальчик\" + 0.004*\"зал\" + '\n",
            "  '0.004*\"лауница\" + 0.004*\"столыпин\"'),\n",
            " (9,\n",
            "  '0.011*\"очень\" + 0.011*\"приходить\" + 0.010*\"вечер\" + 0.010*\"пойти\" + '\n",
            "  '0.009*\"поехать\" + 0.007*\"день\" + 0.007*\"утро\" + 0.006*\"сомов\" + '\n",
            "  '0.006*\"приезжать\" + 0.006*\"говорить\"')]\n"
          ],
          "name": "stdout"
        }
      ]
    },
    {
      "cell_type": "markdown",
      "metadata": {
        "id": "hL0wv9ku2rk7"
      },
      "source": [
        "## Период между революциями\n",
        "### (*февр. 1907 – май 1914*)\n",
        "Темы дневниковых записей:"
      ]
    },
    {
      "cell_type": "code",
      "metadata": {
        "id": "1qklJ_Tl2K-u",
        "colab": {
          "base_uri": "https://localhost:8080/"
        },
        "outputId": "ae1c2d7c-2996-4106-fed2-e49c3922983d"
      },
      "source": [
        "pprint(models[1].print_topics())"
      ],
      "execution_count": 32,
      "outputs": [
        {
          "output_type": "stream",
          "text": [
            "[(0,\n",
            "  '0.020*\"com\" + 0.020*\"id\" + 0.009*\"юрочка\" + 0.006*\"картина\" + 0.005*\"Ап\" + '\n",
            "  '0.004*\"\\xa0\" + 0.003*\"русский\" + 0.003*\"искусство\" + 0.003*\"свой\" + '\n",
            "  '0.003*\"музыка\"'),\n",
            " (1,\n",
            "  '0.015*\"ученица\" + 0.013*\"класс\" + 0.011*\"урок\" + 0.009*\"церковь\" + '\n",
            "  '0.007*\"который\" + 0.007*\"свой\" + 0.006*\"гимназия\" + 0.005*\"год\" + '\n",
            "  '0.005*\"весь\" + 0.005*\"ак\"'),\n",
            " (2,\n",
            "  '0.015*\"вечер\" + 0.014*\"com\" + 0.014*\"id\" + 0.010*\"очень\" + '\n",
            "  '0.010*\"приходить\" + 0.009*\"поехать\" + 0.008*\"пойти\" + 0.008*\"милый\" + '\n",
            "  '0.007*\"сережа\" + 0.007*\"приезжать\"'),\n",
            " (3,\n",
            "  '0.016*\"это\" + 0.011*\"весь\" + 0.009*\"который\" + 0.008*\"говорить\" + '\n",
            "  '0.008*\"свой\" + 0.008*\"очень\" + 0.008*\"сказать\" + 0.006*\"мочь\" + '\n",
            "  '0.005*\"день\" + 0.005*\"становиться\"'),\n",
            " (4,\n",
            "  '0.020*\"com\" + 0.020*\"id\" + 0.020*\"это\" + 0.019*\"жизнь\" + 0.018*\"человек\" + '\n",
            "  '0.010*\"мочь\" + 0.009*\"свой\" + 0.009*\"весь\" + 0.007*\"любовь\" + 0.007*\"бог\"'),\n",
            " (5,\n",
            "  '0.011*\"го\" + 0.011*\"день\" + 0.007*\"жена\" + 0.007*\"павловск\" + 0.006*\"утро\" '\n",
            "  '+ 0.006*\"1\" + 0.006*\"2\" + 0.006*\"вечер\" + 0.006*\"час\" + 0.005*\"м\"'),\n",
            " (6,\n",
            "  '0.028*\"і\" + 0.025*\"що\" + 0.020*\"з\" + 0.010*\"як\" + 0.008*\"він\" + 0.008*\"й\" + '\n",
            "  '0.007*\"коли\" + 0.007*\"його\" + 0.005*\"бо\" + 0.005*\"щоба\"'),\n",
            " (7,\n",
            "  '0.007*\"весь\" + 0.005*\"наш\" + 0.005*\"который\" + 0.004*\"идти\" + 0.004*\"вода\" '\n",
            "  '+ 0.004*\"дорога\" + 0.004*\"гора\" + 0.004*\"день\" + 0.004*\"большой\" + '\n",
            "  '0.004*\"время\"'),\n",
            " (8,\n",
            "  '0.015*\"театр\" + 0.012*\"это\" + 0.010*\"который\" + 0.009*\"id\" + 0.009*\"com\" + '\n",
            "  '0.008*\"очень\" + 0.007*\"весь\" + 0.007*\"сегодня\" + 0.007*\"2\" + 0.006*\"пьеса\"'),\n",
            " (9,\n",
            "  '0.009*\"com\" + 0.009*\"id\" + 0.008*\"который\" + 0.007*\"это\" + 0.007*\"дело\" + '\n",
            "  '0.007*\"свой\" + 0.006*\"говорить\" + 0.005*\"совет\" + 0.004*\"председатель\" + '\n",
            "  '0.004*\"наш\"')]\n"
          ],
          "name": "stdout"
        }
      ]
    },
    {
      "cell_type": "markdown",
      "metadata": {
        "id": "4LuMC2yh2vGw"
      },
      "source": [
        "## Первая мировая война и две главные революции в России\n",
        "###(*июнь 1914 – октябрь 1918*)\n",
        "Темы дневниковых записей:"
      ]
    },
    {
      "cell_type": "code",
      "metadata": {
        "id": "y0qhBLmo2LIr",
        "colab": {
          "base_uri": "https://localhost:8080/"
        },
        "outputId": "70023d39-76cc-4a20-e7da-cd21c613dcd5"
      },
      "source": [
        "pprint(models[2].print_topics())"
      ],
      "execution_count": 33,
      "outputs": [
        {
          "output_type": "stream",
          "text": [
            "[(0,\n",
            "  '0.014*\"сережа\" + 0.013*\"очень\" + 0.012*\"вечер\" + 0.012*\"приходить\" + '\n",
            "  '0.011*\"час\" + 0.011*\"день\" + 0.010*\"пойти\" + 0.010*\"утро\" + 0.009*\"сегодня\" '\n",
            "  '+ 0.008*\"мама\"'),\n",
            " (1,\n",
            "  '0.007*\"фронт\" + 0.006*\"дело\" + 0.006*\"музей\" + 0.006*\"р\" + '\n",
            "  '0.005*\"заседание\" + 0.005*\"который\" + 0.005*\"получать\" + 0.005*\"военный\" + '\n",
            "  '0.005*\"армия\" + 0.005*\"н\"'),\n",
            " (2,\n",
            "  '0.011*\"весь\" + 0.010*\"это\" + 0.007*\"говорить\" + 0.006*\"день\" + 0.005*\"свой\" '\n",
            "  '+ 0.005*\"»\" + 0.005*\"человек\" + 0.005*\"мочь\" + 0.005*\"становиться\" + '\n",
            "  '0.005*\"который\"'),\n",
            " (3,\n",
            "  '0.021*\"это\" + 0.012*\"свой\" + 0.011*\"который\" + 0.009*\"весь\" + 0.009*\"мочь\" '\n",
            "  '+ 0.008*\"жизнь\" + 0.007*\"человек\" + 0.007*\"очень\" + 0.005*\"время\" + '\n",
            "  '0.004*\"знать\"'),\n",
            " (4,\n",
            "  '0.102*\"id\" + 0.102*\"com\" + 0.013*\"ленин\" + 0.005*\"д\" + 0.004*\"митинг\" + '\n",
            "  '0.004*\"казать\" + 0.003*\"война\" + 0.003*\"3\" + 0.003*\"2\" + 0.003*\"думка\"'),\n",
            " (5,\n",
            "  '0.035*\"і\" + 0.028*\"що\" + 0.021*\"з\" + 0.011*\"як\" + 0.010*\"він\" + 0.009*\"бо\" '\n",
            "  '+ 0.008*\"коли\" + 0.007*\"це\" + 0.006*\"його\" + 0.005*\"й\"'),\n",
            " (6,\n",
            "  '0.015*\"наш\" + 0.009*\"идти\" + 0.009*\"час\" + 0.007*\"полк\" + 0.006*\"день\" + '\n",
            "  '0.006*\"ночь\" + 0.006*\"весь\" + 0.006*\"утро\" + 0.005*\"дорога\" + '\n",
            "  '0.005*\"солдат\"'),\n",
            " (7,\n",
            "  '0.013*\"весь\" + 0.010*\"это\" + 0.010*\"который\" + 0.009*\"свой\" + '\n",
            "  '0.007*\"говорить\" + 0.007*\"наш\" + 0.006*\"большевик\" + 0.006*\"россия\" + '\n",
            "  '0.006*\"мочь\" + 0.005*\"русский\"'),\n",
            " (8,\n",
            "  '0.013*\"офицер\" + 0.008*\"полк\" + 0.008*\"начальник\" + 0.008*\"1\" + '\n",
            "  '0.008*\"штаб\" + 0.007*\"й\" + 0.006*\"2\" + 0.006*\"армия\" + 0.006*\"генерал\" + '\n",
            "  '0.005*\"командир\"'),\n",
            " (9,\n",
            "  '0.024*\"id\" + 0.024*\"com\" + 0.012*\"de\" + 0.011*\"римма\" + 0.006*\"a\" + '\n",
            "  '0.006*\"браиловский\" + 0.006*\"la\" + 0.005*\"et\" + 0.004*\"анюта\" + '\n",
            "  '0.004*\"les\"')]\n"
          ],
          "name": "stdout"
        }
      ]
    },
    {
      "cell_type": "markdown",
      "metadata": {
        "id": "3XaT7Vzf2wIq"
      },
      "source": [
        "## Гражданская война, продразверстка, НЭП\n",
        "### (*ноябрь 1918 – декабрь 1927*)\n",
        "Темы дневниковых записей:"
      ]
    },
    {
      "cell_type": "code",
      "metadata": {
        "id": "k1GLjOSO2LQy",
        "colab": {
          "base_uri": "https://localhost:8080/"
        },
        "outputId": "cf20cc11-b2d4-445f-8556-6c73ca4bdc0e"
      },
      "source": [
        "pprint(models[3].print_topics())"
      ],
      "execution_count": 34,
      "outputs": [
        {
          "output_type": "stream",
          "text": [
            "[(0,\n",
            "  '0.008*\"»\" + 0.008*\"церковь\" + 0.008*\"id\" + 0.008*\"com\" + 0.007*\"свой\" + '\n",
            "  '0.007*\"бекас\" + 0.005*\"бог\" + 0.004*\"твой\" + 0.004*\"божий\" + 0.004*\"мать\"'),\n",
            " (1,\n",
            "  '0.028*\"і\" + 0.024*\"що\" + 0.024*\"з\" + 0.013*\"й\" + 0.010*\"як\" + 0.008*\"це\" + '\n",
            "  '0.007*\"його\" + 0.005*\"вже\" + 0.005*\"він\" + 0.005*\"коли\"'),\n",
            " (2,\n",
            "  '0.015*\"который\" + 0.014*\"очень\" + 0.008*\"концерт\" + 0.007*\"театр\" + '\n",
            "  '0.007*\"играть\" + 0.006*\"первый\" + 0.006*\"затем\" + 0.005*\"пташка\" + '\n",
            "  '0.005*\"париж\" + 0.005*\"вечер\"'),\n",
            " (3,\n",
            "  '0.007*\"ветер\" + 0.007*\"день\" + 0.006*\"весь\" + 0.006*\"наш\" + 0.006*\"идти\" + '\n",
            "  '0.006*\"дорога\" + 0.006*\"утро\" + 0.005*\"ночь\" + 0.005*\"вода\" + '\n",
            "  '0.005*\"большой\"'),\n",
            " (4,\n",
            "  '0.015*\"день\" + 0.015*\"вечер\" + 0.010*\"утро\" + 0.009*\"сегодня\" + 0.009*\"час\" '\n",
            "  '+ 0.008*\"2\" + 0.008*\"приходить\" + 0.008*\"ч\" + 0.007*\"id\" + 0.007*\"com\"'),\n",
            " (5,\n",
            "  '0.012*\"это\" + 0.011*\"который\" + 0.009*\"весь\" + 0.007*\"наш\" + 0.007*\"свой\" + '\n",
            "  '0.006*\"дело\" + 0.005*\"говорить\" + 0.005*\"мочь\" + 0.004*\"россия\" + '\n",
            "  '0.004*\"русский\"'),\n",
            " (6,\n",
            "  '0.023*\"это\" + 0.013*\"весь\" + 0.011*\"свой\" + 0.010*\"мочь\" + 0.009*\"человек\" '\n",
            "  '+ 0.008*\"говорить\" + 0.007*\"который\" + 0.007*\"сказать\" + 0.007*\"очень\" + '\n",
            "  '0.007*\"жизнь\"'),\n",
            " (7,\n",
            "  '0.016*\"de\" + 0.007*\"la\" + 0.005*\"à\" + 0.005*\"et\" + 0.005*\"a\" + 0.004*\"ошай\" '\n",
            "  '+ 0.004*\"des\" + 0.004*\"пог\" + 0.004*\"фр\" + 0.004*\"вова\"'),\n",
            " (8,\n",
            "  '0.100*\"АА\" + 0.017*\"стих\" + 0.014*\"степанович\" + 0.014*\"николай\" + '\n",
            "  '0.014*\"»\" + 0.012*\"читать\" + 0.012*\"стихотворение\" + 0.009*\"блок\" + '\n",
            "  '0.007*\"поэт\" + 0.007*\"гумилев\"'),\n",
            " (9,\n",
            "  '0.007*\"работа\" + 0.007*\"н\" + 0.006*\"год\" + 0.006*\"т\" + 0.005*\"заседание\" + '\n",
            "  '0.005*\"музей\" + 0.005*\"читать\" + 0.005*\"доклад\" + 0.005*\"статья\" + '\n",
            "  '0.004*\"м\"')]\n"
          ],
          "name": "stdout"
        }
      ]
    },
    {
      "cell_type": "markdown",
      "metadata": {
        "id": "QXqvQhZk2xGb"
      },
      "source": [
        "## Коллективизация, Большой террор\n",
        "### (*январь 1928 – август 1939*)\n",
        "Темы дневниковых записей:"
      ]
    },
    {
      "cell_type": "code",
      "metadata": {
        "id": "FuO0x-UB2LXz",
        "colab": {
          "base_uri": "https://localhost:8080/"
        },
        "outputId": "3f30cc1c-ab52-4260-a21e-b013c36dd81f"
      },
      "source": [
        "pprint(models[4].print_topics())"
      ],
      "execution_count": 35,
      "outputs": [
        {
          "output_type": "stream",
          "text": [
            "[(0,\n",
            "  '0.018*\"м\" + 0.018*\"д\" + 0.018*\"2\" + 0.015*\"1\" + 0.015*\"ч\" + 0.013*\"п\" + '\n",
            "  '0.011*\"3\" + 0.010*\"10\" + 0.010*\"5\" + 0.008*\"4\"'),\n",
            " (1,\n",
            "  '0.125*\"com\" + 0.125*\"id\" + 0.007*\"the\" + 0.007*\"of\" + 0.006*\"консультация\" '\n",
            "  '+ 0.006*\"ф\" + 0.005*\"британский\" + 0.004*\"оп\" + 0.004*\"518\" + 0.004*\"аран\"'),\n",
            " (2,\n",
            "  '0.016*\"это\" + 0.009*\"весь\" + 0.009*\"очень\" + 0.009*\"говорить\" + '\n",
            "  '0.009*\"сказать\" + 0.008*\"мочь\" + 0.006*\"знать\" + 0.006*\"свой\" + '\n",
            "  '0.005*\"день\" + 0.005*\"который\"'),\n",
            " (3,\n",
            "  '0.014*\"человек\" + 0.007*\"жизнь\" + 0.007*\"чемберлен\" + 0.006*\"церковь\" + '\n",
            "  '0.006*\"бог\" + 0.006*\"русский\" + 0.005*\"народ\" + 0.005*\"смерть\" + '\n",
            "  '0.004*\"писатель\" + 0.004*\"свой\"'),\n",
            " (4,\n",
            "  '0.022*\"это\" + 0.015*\"свой\" + 0.013*\"весь\" + 0.009*\"который\" + '\n",
            "  '0.009*\"человек\" + 0.008*\"мочь\" + 0.007*\"наш\" + 0.005*\"время\" + 0.005*\"дело\" '\n",
            "  '+ 0.005*\"самый\"'),\n",
            " (5,\n",
            "  '0.035*\"день\" + 0.019*\"сегодня\" + 0.015*\"час\" + 0.014*\"вечер\" + '\n",
            "  '0.013*\"работа\" + 0.013*\"весь\" + 0.013*\"утро\" + 0.009*\"ходить\" + '\n",
            "  '0.009*\"ночь\" + 0.009*\"погода\"'),\n",
            " (6,\n",
            "  '0.007*\"лес\" + 0.006*\"гнездо\" + 0.006*\"вода\" + 0.005*\"видеть\" + '\n",
            "  '0.005*\"дерево\" + 0.005*\"большой\" + 0.004*\"идти\" + 0.004*\"машина\" + '\n",
            "  '0.004*\"место\" + 0.004*\"дрозд\"'),\n",
            " (7,\n",
            "  '0.007*\"работа\" + 0.007*\"письмо\" + 0.007*\"н\" + 0.006*\"получать\" + 0.006*\"м\" '\n",
            "  '+ 0.006*\"вечер\" + 0.006*\"день\" + 0.006*\"г\" + 0.005*\"т\" + 0.005*\"статья\"'),\n",
            " (8,\n",
            "  '0.029*\"і\" + 0.021*\"що\" + 0.018*\"з\" + 0.009*\"як\" + 0.006*\"ми\" + 0.006*\"аля\" '\n",
            "  '+ 0.006*\"це\" + 0.005*\"його\" + 0.005*\"наш\" + 0.005*\"мена\"'),\n",
            " (9,\n",
            "  '0.006*\"гитлер\" + 0.006*\"очень\" + 0.006*\"германия\" + 0.005*\"м\" + '\n",
            "  '0.005*\"театр\" + 0.005*\"англия\" + 0.005*\"ссср\" + 0.004*\"москва\" + '\n",
            "  '0.004*\"сегодня\" + 0.004*\"день\"')]\n"
          ],
          "name": "stdout"
        }
      ]
    },
    {
      "cell_type": "markdown",
      "metadata": {
        "id": "Lrh-Xal72yLk"
      },
      "source": [
        "## Вторая мировая война\n",
        "### (*сентябрь 1939 – май 1945*)\n",
        "Темы дневниковых записей:"
      ]
    },
    {
      "cell_type": "code",
      "metadata": {
        "id": "bkXjqe8k2LfY",
        "colab": {
          "base_uri": "https://localhost:8080/"
        },
        "outputId": "3c085322-482e-4c0a-c913-4549583047d3"
      },
      "source": [
        "pprint(models[5].print_topics())"
      ],
      "execution_count": 36,
      "outputs": [
        {
          "output_type": "stream",
          "text": [
            "[(0,\n",
            "  '0.007*\"идти\" + 0.006*\"і\" + 0.006*\"немец\" + 0.006*\"стоять\" + 0.006*\"дорога\" '\n",
            "  '+ 0.005*\"рука\" + 0.005*\"»\" + 0.005*\"машина\" + 0.005*\"наш\" + 0.005*\"лес\"'),\n",
            " (1,\n",
            "  '0.065*\"com\" + 0.064*\"id\" + 0.015*\"з\" + 0.012*\"2\" + 0.011*\"м\" + 0.010*\"г\" + '\n",
            "  '0.010*\"1\" + 0.009*\"3\" + 0.008*\"н\" + 0.007*\"4\"'),\n",
            " (2,\n",
            "  '0.009*\"й\" + 0.005*\"він\" + 0.005*\"Сьогодні\" + 0.005*\"дружина\" + 0.005*\"вонь\" '\n",
            "  '+ 0.004*\"аля\" + 0.004*\"the\" + 0.004*\"було\" + 0.004*\"був\" + 0.004*\"від\"'),\n",
            " (3,\n",
            "  '0.012*\"очень\" + 0.009*\"письмо\" + 0.009*\"вечер\" + 0.009*\"приходить\" + '\n",
            "  '0.008*\"сегодня\" + 0.008*\"говорить\" + 0.007*\"пойти\" + 0.006*\"мама\" + '\n",
            "  '0.006*\"сказать\" + 0.006*\"получать\"'),\n",
            " (4,\n",
            "  '0.019*\"город\" + 0.012*\"наш\" + 0.011*\"день\" + 0.011*\"час\" + 0.010*\"ночь\" + '\n",
            "  '0.009*\"весь\" + 0.009*\"дом\" + 0.007*\"снаряд\" + 0.007*\"самолет\" + '\n",
            "  '0.007*\"улица\"'),\n",
            " (5,\n",
            "  '0.017*\"наш\" + 0.009*\"немец\" + 0.008*\"командир\" + 0.008*\"бой\" + 0.008*\"весь\" '\n",
            "  '+ 0.007*\"полк\" + 0.006*\"день\" + 0.006*\"противник\" + 0.006*\"й\" + '\n",
            "  '0.005*\"дивизия\"'),\n",
            " (6,\n",
            "  '0.010*\"война\" + 0.008*\"фронт\" + 0.008*\"наш\" + 0.008*\"армия\" + 0.007*\"год\" + '\n",
            "  '0.007*\"немец\" + 0.007*\"это\" + 0.007*\"германия\" + 0.007*\"войско\" + '\n",
            "  '0.007*\"мао\"'),\n",
            " (7,\n",
            "  '0.012*\"свой\" + 0.010*\"который\" + 0.010*\"человек\" + 0.007*\"русский\" + '\n",
            "  '0.006*\"весь\" + 0.005*\"народ\" + 0.005*\"это\" + 0.005*\"мир\" + 0.004*\"т\" + '\n",
            "  '0.004*\"работа\"'),\n",
            " (8,\n",
            "  '0.023*\"день\" + 0.013*\"сегодня\" + 0.011*\"час\" + 0.010*\"утро\" + 0.009*\"вечер\" '\n",
            "  '+ 0.009*\"хлеб\" + 0.009*\"весь\" + 0.008*\"очень\" + 0.008*\"получать\" + '\n",
            "  '0.007*\"работа\"'),\n",
            " (9,\n",
            "  '0.025*\"это\" + 0.015*\"весь\" + 0.013*\"свой\" + 0.011*\"мочь\" + 0.010*\"человек\" '\n",
            "  '+ 0.009*\"жизнь\" + 0.007*\"который\" + 0.007*\"знать\" + 0.007*\"время\" + '\n",
            "  '0.006*\"день\"')]\n"
          ],
          "name": "stdout"
        }
      ]
    },
    {
      "cell_type": "markdown",
      "metadata": {
        "id": "qV0Cp03E2zVr"
      },
      "source": [
        "## Промежуточный период истории, заканчивается «оттепелью» \n",
        "### (*1946 – 1963*)\n",
        "Темы дневниковых записей:"
      ]
    },
    {
      "cell_type": "code",
      "metadata": {
        "id": "0WUDtdua2LnE",
        "colab": {
          "base_uri": "https://localhost:8080/"
        },
        "outputId": "6170b321-4e6d-4ac0-c95e-d9fc115d5a82"
      },
      "source": [
        "pprint(models[6].print_topics())"
      ],
      "execution_count": 37,
      "outputs": [
        {
          "output_type": "stream",
          "text": [
            "[(0,\n",
            "  '0.020*\"день\" + 0.012*\"получать\" + 0.011*\"работа\" + 0.011*\"письмо\" + '\n",
            "  '0.009*\"весь\" + 0.008*\"2\" + 0.008*\"работать\" + 0.008*\"сегодня\" + 0.008*\"го\" '\n",
            "  '+ 0.008*\"ч\"'),\n",
            " (1,\n",
            "  '0.020*\"і\" + 0.012*\"з\" + 0.008*\"що\" + 0.006*\"олхо\" + 0.005*\"хрущов\" + '\n",
            "  '0.005*\"це\" + 0.004*\"м\" + 0.004*\"як\" + 0.004*\"питання\" + 0.004*\"горский\"'),\n",
            " (2,\n",
            "  '0.024*\"1\" + 0.023*\"2\" + 0.019*\"3\" + 0.018*\"5\" + 0.015*\"4\" + 0.009*\"6\" + '\n",
            "  '0.009*\"игада\" + 0.009*\"колхоз\" + 0.007*\"бригада\" + 0.006*\"7\"'),\n",
            " (3,\n",
            "  '0.022*\"это\" + 0.012*\"весь\" + 0.010*\"свой\" + 0.009*\"говорить\" + 0.009*\"мочь\" '\n",
            "  '+ 0.009*\"сказать\" + 0.008*\"человек\" + 0.007*\"год\" + 0.006*\"который\" + '\n",
            "  '0.006*\"знать\"'),\n",
            " (4,\n",
            "  '0.009*\"работа\" + 0.008*\"который\" + 0.007*\"год\" + 0.007*\"вопрос\" + 0.006*\"г\" '\n",
            "  '+ 0.005*\"наш\" + 0.005*\"космонавт\" + 0.005*\"полет\" + 0.005*\"весь\" + '\n",
            "  '0.004*\"цк\"'),\n",
            " (5,\n",
            "  '0.039*\"рука\" + 0.029*\"вера\" + 0.026*\"б\" + 0.023*\"еле\" + 0.022*\"петровна\" + '\n",
            "  '0.020*\"работать\" + 0.019*\"описной\" + 0.019*\"Отд\" + 0.018*\"рукопись\" + '\n",
            "  '0.017*\"лидочка\"'),\n",
            " (6,\n",
            "  '0.006*\"город\" + 0.005*\"дом\" + 0.004*\"большой\" + 0.004*\"министерство\" + '\n",
            "  '0.003*\"владимир\" + 0.003*\"картина\" + 0.003*\"красный\" + 0.003*\"улица\" + '\n",
            "  '0.003*\"стена\" + 0.003*\"окно\"'),\n",
            " (7,\n",
            "  '0.032*\"id\" + 0.032*\"com\" + 0.010*\"вечер\" + 0.008*\"очень\" + 0.006*\"театр\" + '\n",
            "  '0.006*\"играть\" + 0.006*\"читать\" + 0.006*\"концерт\" + 0.005*\"который\" + '\n",
            "  '0.005*\"твардовский\"'),\n",
            " (8,\n",
            "  '0.011*\"пойти\" + 0.010*\"час\" + 0.010*\"день\" + 0.009*\"вечер\" + 0.009*\"очень\" '\n",
            "  '+ 0.008*\"утро\" + 0.008*\"приходить\" + 0.007*\"–\" + 0.007*\"идти\" + '\n",
            "  '0.006*\"становиться\"'),\n",
            " (9,\n",
            "  '0.009*\"который\" + 0.008*\"это\" + 0.007*\"человек\" + 0.006*\"свой\" + '\n",
            "  '0.005*\"весь\" + 0.004*\"место\" + 0.004*\"вода\" + 0.004*\"земля\" + 0.004*\"мир\" + '\n",
            "  '0.004*\"космос\"')]\n"
          ],
          "name": "stdout"
        }
      ]
    },
    {
      "cell_type": "markdown",
      "metadata": {
        "id": "pikQi6Or26FG"
      },
      "source": [
        "## Застой\n",
        "### (*1964 – май 1987*)\n",
        "Темы дневниковых записей:"
      ]
    },
    {
      "cell_type": "code",
      "metadata": {
        "id": "L2mUmlZF2MOg",
        "colab": {
          "base_uri": "https://localhost:8080/"
        },
        "outputId": "3ec67912-2367-4e3d-967d-69df11e4b5fb"
      },
      "source": [
        "pprint(models[7].print_topics())"
      ],
      "execution_count": 38,
      "outputs": [
        {
          "output_type": "stream",
          "text": [
            "[(0,\n",
            "  '0.016*\"фильм\" + 0.012*\"театр\" + 0.010*\"играть\" + 0.009*\"спектакль\" + '\n",
            "  '0.008*\"сцена\" + 0.008*\"концерт\" + 0.007*\"зал\" + 0.007*\"актер\" + 0.007*\"это\" '\n",
            "  '+ 0.007*\"очень\"'),\n",
            " (1,\n",
            "  '0.016*\"com\" + 0.016*\"id\" + 0.013*\"год\" + 0.010*\"г\" + 0.008*\"книга\" + '\n",
            "  '0.008*\"м\" + 0.008*\"письмо\" + 0.007*\"написать\" + 0.006*\"статья\" + '\n",
            "  '0.006*\"писать\"'),\n",
            " (2,\n",
            "  '0.014*\"работа\" + 0.010*\"г\" + 0.009*\"вопрос\" + 0.008*\"план\" + 0.008*\"ссср\" + '\n",
            "  '0.007*\"строительство\" + 0.006*\"эфрос\" + 0.006*\"министр\" + 0.005*\"развитие\" '\n",
            "  '+ 0.005*\"афганский\"'),\n",
            " (3,\n",
            "  '0.022*\"это\" + 0.013*\"человек\" + 0.012*\"весь\" + 0.010*\"который\" + '\n",
            "  '0.010*\"свой\" + 0.009*\"жизнь\" + 0.008*\"мочь\" + 0.005*\"мир\" + 0.005*\"время\" + '\n",
            "  '0.005*\"самый\"'),\n",
            " (4,\n",
            "  '0.017*\"это\" + 0.010*\"сказать\" + 0.010*\"весь\" + 0.010*\"говорить\" + '\n",
            "  '0.009*\"свой\" + 0.007*\"»\" + 0.007*\"очень\" + 0.007*\"мочь\" + 0.007*\"человек\" + '\n",
            "  '0.006*\"год\"'),\n",
            " (5,\n",
            "  '0.017*\"вечер\" + 0.013*\"день\" + 0.010*\"утро\" + 0.009*\"приезжать\" + '\n",
            "  '0.006*\"ходить\" + 0.006*\"работа\" + 0.006*\"приходить\" + 0.006*\"сегодня\" + '\n",
            "  '0.005*\"купить\" + 0.005*\"спать\"'),\n",
            " (6,\n",
            "  '0.007*\"день\" + 0.006*\"час\" + 0.006*\"город\" + 0.005*\"утро\" + 0.005*\"дорога\" '\n",
            "  '+ 0.005*\"идти\" + 0.005*\"место\" + 0.004*\"вода\" + 0.004*\"машина\" + '\n",
            "  '0.004*\"весь\"'),\n",
            " (7,\n",
            "  '0.014*\"это\" + 0.010*\"наш\" + 0.009*\"который\" + 0.008*\"дело\" + '\n",
            "  '0.007*\"сказать\" + 0.007*\"говорить\" + 0.007*\"весь\" + 0.007*\"свой\" + '\n",
            "  '0.006*\"советский\" + 0.005*\"вопрос\"'),\n",
            " (8,\n",
            "  '0.006*\"командир\" + 0.006*\"весь\" + 0.006*\"самолет\" + 0.006*\"наш\" + '\n",
            "  '0.005*\"начальник\" + 0.005*\"человек\" + 0.005*\"боевой\" + 0.005*\"кандагар\" + '\n",
            "  '0.004*\"полет\" + 0.004*\"военный\"'),\n",
            " (9,\n",
            "  '0.021*\"і\" + 0.009*\"з\" + 0.008*\"що\" + 0.005*\"як\" + 0.005*\"❉\" + 0.004*\"це\" + '\n",
            "  '0.003*\"й\" + 0.003*\"його\" + 0.003*\"рок\" + 0.003*\"він\"')]\n"
          ],
          "name": "stdout"
        }
      ]
    },
    {
      "cell_type": "markdown",
      "metadata": {
        "id": "phzX_AJB27Qf"
      },
      "source": [
        "## Перестройка и развал СССР\n",
        "### (*июнь 1987 – июнь 1990*)\n",
        "Темы дневниковых записей:"
      ]
    },
    {
      "cell_type": "code",
      "metadata": {
        "id": "HGhzISxc2RHz",
        "colab": {
          "base_uri": "https://localhost:8080/"
        },
        "outputId": "595c2fa9-69ca-482f-b06d-8bef5961a154"
      },
      "source": [
        "pprint(models[8].print_topics())"
      ],
      "execution_count": 40,
      "outputs": [
        {
          "output_type": "stream",
          "text": [
            "[(0,\n",
            "  '0.025*\"это\" + 0.011*\"весь\" + 0.009*\"говорить\" + 0.008*\"свой\" + '\n",
            "  '0.007*\"сказать\" + 0.006*\"мочь\" + 0.005*\"дело\" + 0.005*\"наш\" + '\n",
            "  '0.005*\"человек\" + 0.004*\"хотеть\"'),\n",
            " (1,\n",
            "  '0.010*\"это\" + 0.010*\"который\" + 0.008*\"человек\" + 0.008*\"свой\" + '\n",
            "  '0.008*\"год\" + 0.007*\"весь\" + 0.006*\"жизнь\" + 0.005*\"время\" + 0.005*\"жить\" + '\n",
            "  '0.005*\"дом\"'),\n",
            " (2,\n",
            "  '0.011*\"горбачев\" + 0.008*\"это\" + 0.007*\"съезд\" + 0.007*\"совет\" + '\n",
            "  '0.006*\"который\" + 0.006*\"партия\" + 0.005*\"вопрос\" + 0.005*\"цк\" + '\n",
            "  '0.005*\"свой\" + 0.005*\"весь\"'),\n",
            " (3,\n",
            "  '0.015*\"com\" + 0.015*\"id\" + 0.009*\"ирка\" + 0.005*\"москва\" + 0.005*\"музей\" + '\n",
            "  '0.004*\"вечер\" + 0.004*\"жена\" + 0.003*\"выставка\" + 0.003*\"пить\" + '\n",
            "  '0.003*\"утро\"'),\n",
            " (4,\n",
            "  '0.010*\"»\" + 0.010*\"день\" + 0.010*\"вечер\" + 0.009*\"говорить\" + 0.009*\"очень\" '\n",
            "  '+ 0.009*\"приезжать\" + 0.009*\"сказать\" + 0.009*\"галя\" + 0.007*\"час\" + '\n",
            "  '0.007*\"весь\"'),\n",
            " (5,\n",
            "  '0.006*\"река\" + 0.004*\"госпиталь\" + 0.004*\"берег\" + 0.003*\"землетрясение\" + '\n",
            "  '0.003*\"маршрут\" + 0.003*\"м\" + 0.003*\"армения\" + 0.003*\"след\" + '\n",
            "  '0.003*\"ондатра\" + 0.003*\"отделение\"'),\n",
            " (6,\n",
            "  '0.007*\"это\" + 0.005*\"весь\" + 0.005*\"свой\" + 0.004*\"мочь\" + 0.004*\"фильм\" + '\n",
            "  '0.004*\"человек\" + 0.003*\"наш\" + 0.003*\"давать\" + 0.003*\"передача\" + '\n",
            "  '0.003*\"время\"'),\n",
            " (7,\n",
            "  '0.008*\"весь\" + 0.006*\"наш\" + 0.005*\"день\" + 0.004*\"человек\" + 0.004*\"это\" + '\n",
            "  '0.004*\"машина\" + 0.003*\"свой\" + 0.003*\"час\" + 0.003*\"идти\" + 0.003*\"место\"'),\n",
            " (8,\n",
            "  '0.019*\"id\" + 0.019*\"com\" + 0.007*\"это\" + 0.007*\"»\" + 0.006*\"очень\" + '\n",
            "  '0.006*\"г\" + 0.005*\"русский\" + 0.004*\"год\" + 0.004*\"н\" + 0.004*\"театр\"'),\n",
            " (9,\n",
            "  '0.003*\"каталог\" + 0.002*\"экспозиция\" + 0.002*\"астраханский\" + '\n",
            "  '0.002*\"монастырь\" + 0.002*\"коль\" + 0.002*\"г\" + 0.002*\"собор\" + '\n",
            "  '0.002*\"князь\" + 0.002*\"монастырский\" + 0.002*\"таллин\"')]\n"
          ],
          "name": "stdout"
        }
      ]
    },
    {
      "cell_type": "markdown",
      "metadata": {
        "id": "XdwTg5sO28sb"
      },
      "source": [
        "## После СССР, «лихие 90-е»\n",
        "### (*1991 – 2001*)\n",
        "Темы дневниковых записей:"
      ]
    },
    {
      "cell_type": "code",
      "metadata": {
        "id": "fyKQ206p2Rx0",
        "colab": {
          "base_uri": "https://localhost:8080/"
        },
        "outputId": "e9a412d9-f0f5-4aa4-cdf2-8acd372a3f34"
      },
      "source": [
        "pprint(models[9].print_topics())"
      ],
      "execution_count": 41,
      "outputs": [
        {
          "output_type": "stream",
          "text": [
            "[(0,\n",
            "  '0.006*\"книга\" + 0.005*\"журнал\" + 0.005*\"диссертация\" + 0.005*\"г\" + '\n",
            "  '0.004*\"выступать\" + 0.004*\"работа\" + 0.004*\"написать\" + 0.004*\"»\" + '\n",
            "  '0.004*\"доклад\" + 0.003*\"рукопись\"'),\n",
            " (1,\n",
            "  '0.007*\"зюганов\" + 0.007*\"булат\" + 0.006*\"валентина\" + 0.005*\"концерт\" + '\n",
            "  '0.005*\"ельцинский\" + 0.004*\"р\" + 0.004*\"запись\" + 0.004*\"дирижер\" + '\n",
            "  '0.004*\"№\" + 0.003*\"ельцинист\"'),\n",
            " (2,\n",
            "  '0.011*\"это\" + 0.008*\"говорить\" + 0.007*\"м\" + 0.007*\"день\" + 0.006*\"»\" + '\n",
            "  '0.006*\"вчера\" + 0.006*\"сказать\" + 0.006*\"весь\" + 0.005*\"дом\" + '\n",
            "  '0.004*\"сегодня\"'),\n",
            " (3,\n",
            "  '0.024*\"это\" + 0.012*\"весь\" + 0.011*\"свой\" + 0.010*\"жизнь\" + 0.010*\"мочь\" + '\n",
            "  '0.010*\"человек\" + 0.006*\"понимать\" + 0.005*\"бог\" + 0.005*\"знать\" + '\n",
            "  '0.005*\"душа\"'),\n",
            " (4,\n",
            "  '0.010*\"сказать\" + 0.008*\"свой\" + 0.007*\"говорить\" + 0.007*\"который\" + '\n",
            "  '0.007*\"человек\" + 0.006*\"»\" + 0.006*\"очень\" + 0.006*\"год\" + 0.006*\"это\" + '\n",
            "  '0.005*\"день\"'),\n",
            " (5,\n",
            "  '0.013*\"ельцин\" + 0.008*\"президент\" + 0.007*\"россия\" + 0.007*\"весь\" + '\n",
            "  '0.006*\"совет\" + 0.006*\"народ\" + 0.006*\"страна\" + 0.006*\"власть\" + '\n",
            "  '0.005*\"человек\" + 0.005*\"свой\"'),\n",
            " (6,\n",
            "  '0.006*\"город\" + 0.006*\"который\" + 0.004*\"дом\" + 0.004*\"дорога\" + '\n",
            "  '0.004*\"большой\" + 0.004*\"музей\" + 0.004*\"витя\" + 0.004*\"наш\" + '\n",
            "  '0.004*\"место\" + 0.003*\"час\"'),\n",
            " (7,\n",
            "  '0.015*\"это\" + 0.013*\"который\" + 0.011*\"свой\" + 0.009*\"год\" + 0.007*\"весь\" + '\n",
            "  '0.007*\"человек\" + 0.006*\"книга\" + 0.005*\"время\" + 0.005*\"мочь\" + '\n",
            "  '0.005*\"наш\"'),\n",
            " (8,\n",
            "  '0.011*\"день\" + 0.011*\"00\" + 0.011*\"сегодня\" + 0.007*\"утро\" + 0.007*\"вечер\" '\n",
            "  '+ 0.007*\"читать\" + 0.006*\"2\" + 0.006*\"дома\" + 0.006*\"звонить\" + '\n",
            "  '0.005*\"завтра\"'),\n",
            " (9,\n",
            "  '0.010*\"это\" + 0.008*\"весь\" + 0.005*\"наш\" + 0.004*\"день\" + 0.004*\"давать\" + '\n",
            "  '0.004*\"идти\" + 0.003*\"пока\" + 0.003*\"час\" + 0.003*\"работа\" + 0.003*\"время\"')]\n"
          ],
          "name": "stdout"
        }
      ]
    },
    {
      "cell_type": "markdown",
      "metadata": {
        "id": "TAU-c47hjVR2"
      },
      "source": [
        "По результатам заметно, что данные не очень хорошо очищены. :("
      ]
    }
  ]
}