{
  "nbformat": 4,
  "nbformat_minor": 0,
  "metadata": {
    "colab": {
      "name": "prozhito_topic_modelling.ipynb",
      "provenance": [],
      "collapsed_sections": []
    },
    "kernelspec": {
      "name": "python3",
      "display_name": "Python 3"
    },
    "accelerator": "GPU",
    "widgets": {
      "application/vnd.jupyter.widget-state+json": {
        "15d27810db744d35beaa74ae8911c022": {
          "model_module": "@jupyter-widgets/controls",
          "model_name": "HBoxModel",
          "state": {
            "_view_name": "HBoxView",
            "_dom_classes": [],
            "_model_name": "HBoxModel",
            "_view_module": "@jupyter-widgets/controls",
            "_model_module_version": "1.5.0",
            "_view_count": null,
            "_view_module_version": "1.5.0",
            "box_style": "",
            "layout": "IPY_MODEL_0b22457d9459457d8c4a4ff963503f18",
            "_model_module": "@jupyter-widgets/controls",
            "children": [
              "IPY_MODEL_d1e8060c7a0f4d539e4c3cbbaf159849",
              "IPY_MODEL_00b10ccddd6d4807bbf49a38c4ee717b"
            ]
          }
        },
        "0b22457d9459457d8c4a4ff963503f18": {
          "model_module": "@jupyter-widgets/base",
          "model_name": "LayoutModel",
          "state": {
            "_view_name": "LayoutView",
            "grid_template_rows": null,
            "right": null,
            "justify_content": null,
            "_view_module": "@jupyter-widgets/base",
            "overflow": null,
            "_model_module_version": "1.2.0",
            "_view_count": null,
            "flex_flow": null,
            "width": null,
            "min_width": null,
            "border": null,
            "align_items": null,
            "bottom": null,
            "_model_module": "@jupyter-widgets/base",
            "top": null,
            "grid_column": null,
            "overflow_y": null,
            "overflow_x": null,
            "grid_auto_flow": null,
            "grid_area": null,
            "grid_template_columns": null,
            "flex": null,
            "_model_name": "LayoutModel",
            "justify_items": null,
            "grid_row": null,
            "max_height": null,
            "align_content": null,
            "visibility": null,
            "align_self": null,
            "height": null,
            "min_height": null,
            "padding": null,
            "grid_auto_rows": null,
            "grid_gap": null,
            "max_width": null,
            "order": null,
            "_view_module_version": "1.2.0",
            "grid_template_areas": null,
            "object_position": null,
            "object_fit": null,
            "grid_auto_columns": null,
            "margin": null,
            "display": null,
            "left": null
          }
        },
        "d1e8060c7a0f4d539e4c3cbbaf159849": {
          "model_module": "@jupyter-widgets/controls",
          "model_name": "FloatProgressModel",
          "state": {
            "_view_name": "ProgressView",
            "style": "IPY_MODEL_a8ff672272984d838d0b788a6759164e",
            "_dom_classes": [],
            "description": "",
            "_model_name": "FloatProgressModel",
            "bar_style": "success",
            "max": 1,
            "_view_module": "@jupyter-widgets/controls",
            "_model_module_version": "1.5.0",
            "value": 1,
            "_view_count": null,
            "_view_module_version": "1.5.0",
            "orientation": "horizontal",
            "min": 0,
            "description_tooltip": null,
            "_model_module": "@jupyter-widgets/controls",
            "layout": "IPY_MODEL_06cdb1dbf9af41938da9bfbe3b511081"
          }
        },
        "00b10ccddd6d4807bbf49a38c4ee717b": {
          "model_module": "@jupyter-widgets/controls",
          "model_name": "HTMLModel",
          "state": {
            "_view_name": "HTMLView",
            "style": "IPY_MODEL_9219e50cb20a41938ae633ca3249ddca",
            "_dom_classes": [],
            "description": "",
            "_model_name": "HTMLModel",
            "placeholder": "​",
            "_view_module": "@jupyter-widgets/controls",
            "_model_module_version": "1.5.0",
            "value": " 10/? [07:36&lt;00:00, 45.62s/it]",
            "_view_count": null,
            "_view_module_version": "1.5.0",
            "description_tooltip": null,
            "_model_module": "@jupyter-widgets/controls",
            "layout": "IPY_MODEL_a234f78a035744fd9a82b18bf172f899"
          }
        },
        "a8ff672272984d838d0b788a6759164e": {
          "model_module": "@jupyter-widgets/controls",
          "model_name": "ProgressStyleModel",
          "state": {
            "_view_name": "StyleView",
            "_model_name": "ProgressStyleModel",
            "description_width": "initial",
            "_view_module": "@jupyter-widgets/base",
            "_model_module_version": "1.5.0",
            "_view_count": null,
            "_view_module_version": "1.2.0",
            "bar_color": null,
            "_model_module": "@jupyter-widgets/controls"
          }
        },
        "06cdb1dbf9af41938da9bfbe3b511081": {
          "model_module": "@jupyter-widgets/base",
          "model_name": "LayoutModel",
          "state": {
            "_view_name": "LayoutView",
            "grid_template_rows": null,
            "right": null,
            "justify_content": null,
            "_view_module": "@jupyter-widgets/base",
            "overflow": null,
            "_model_module_version": "1.2.0",
            "_view_count": null,
            "flex_flow": null,
            "width": null,
            "min_width": null,
            "border": null,
            "align_items": null,
            "bottom": null,
            "_model_module": "@jupyter-widgets/base",
            "top": null,
            "grid_column": null,
            "overflow_y": null,
            "overflow_x": null,
            "grid_auto_flow": null,
            "grid_area": null,
            "grid_template_columns": null,
            "flex": null,
            "_model_name": "LayoutModel",
            "justify_items": null,
            "grid_row": null,
            "max_height": null,
            "align_content": null,
            "visibility": null,
            "align_self": null,
            "height": null,
            "min_height": null,
            "padding": null,
            "grid_auto_rows": null,
            "grid_gap": null,
            "max_width": null,
            "order": null,
            "_view_module_version": "1.2.0",
            "grid_template_areas": null,
            "object_position": null,
            "object_fit": null,
            "grid_auto_columns": null,
            "margin": null,
            "display": null,
            "left": null
          }
        },
        "9219e50cb20a41938ae633ca3249ddca": {
          "model_module": "@jupyter-widgets/controls",
          "model_name": "DescriptionStyleModel",
          "state": {
            "_view_name": "StyleView",
            "_model_name": "DescriptionStyleModel",
            "description_width": "",
            "_view_module": "@jupyter-widgets/base",
            "_model_module_version": "1.5.0",
            "_view_count": null,
            "_view_module_version": "1.2.0",
            "_model_module": "@jupyter-widgets/controls"
          }
        },
        "a234f78a035744fd9a82b18bf172f899": {
          "model_module": "@jupyter-widgets/base",
          "model_name": "LayoutModel",
          "state": {
            "_view_name": "LayoutView",
            "grid_template_rows": null,
            "right": null,
            "justify_content": null,
            "_view_module": "@jupyter-widgets/base",
            "overflow": null,
            "_model_module_version": "1.2.0",
            "_view_count": null,
            "flex_flow": null,
            "width": null,
            "min_width": null,
            "border": null,
            "align_items": null,
            "bottom": null,
            "_model_module": "@jupyter-widgets/base",
            "top": null,
            "grid_column": null,
            "overflow_y": null,
            "overflow_x": null,
            "grid_auto_flow": null,
            "grid_area": null,
            "grid_template_columns": null,
            "flex": null,
            "_model_name": "LayoutModel",
            "justify_items": null,
            "grid_row": null,
            "max_height": null,
            "align_content": null,
            "visibility": null,
            "align_self": null,
            "height": null,
            "min_height": null,
            "padding": null,
            "grid_auto_rows": null,
            "grid_gap": null,
            "max_width": null,
            "order": null,
            "_view_module_version": "1.2.0",
            "grid_template_areas": null,
            "object_position": null,
            "object_fit": null,
            "grid_auto_columns": null,
            "margin": null,
            "display": null,
            "left": null
          }
        }
      }
    }
  },
  "cells": [
    {
      "cell_type": "markdown",
      "metadata": {
        "id": "Vew-2Pr18KwK"
      },
      "source": [
        "Устанавливаем все необходимые библиотеки."
      ]
    },
    {
      "cell_type": "code",
      "metadata": {
        "id": "H7XvhezSZFIj"
      },
      "source": [
        "from google.colab import files\n",
        "from IPython.display import clear_output"
      ],
      "execution_count": null,
      "outputs": []
    },
    {
      "cell_type": "code",
      "metadata": {
        "id": "C3j7mu8pW2rx"
      },
      "source": [
        "!pip install pycodestyle pycodestyle_magic\n",
        "!pip install flake8\n",
        "clear_output()"
      ],
      "execution_count": null,
      "outputs": []
    },
    {
      "cell_type": "code",
      "metadata": {
        "id": "Z1hdMJy4k-JC"
      },
      "source": [
        "%load_ext pycodestyle_magic"
      ],
      "execution_count": null,
      "outputs": []
    },
    {
      "cell_type": "code",
      "metadata": {
        "id": "T60sVwozQqaA"
      },
      "source": [
        "!pip install -U -q PyDrive"
      ],
      "execution_count": null,
      "outputs": []
    },
    {
      "cell_type": "code",
      "metadata": {
        "id": "DLnSm8urQtJ3"
      },
      "source": [
        "from pydrive.auth import GoogleAuth\n",
        "from pydrive.drive import GoogleDrive\n",
        "from google.colab import auth\n",
        "from oauth2client.client import GoogleCredentials"
      ],
      "execution_count": null,
      "outputs": []
    },
    {
      "cell_type": "code",
      "metadata": {
        "id": "6WewP4XtQ2qe"
      },
      "source": [
        "auth.authenticate_user()\n",
        "gauth = GoogleAuth()\n",
        "gauth.credentials = GoogleCredentials.get_application_default()\n",
        "drive = GoogleDrive(gauth)"
      ],
      "execution_count": null,
      "outputs": []
    },
    {
      "cell_type": "markdown",
      "metadata": {
        "id": "xHqJmsuUbMS-"
      },
      "source": [
        "Загружаем данные."
      ]
    },
    {
      "cell_type": "code",
      "metadata": {
        "id": "Z_pYEmYedC0M"
      },
      "source": [
        "whole_table_with_lemm = drive.CreateFile(\n",
        "    {'id': '1rKrNCmgWPReJujCoZCDlhAb66yiUZ_by'})\n",
        "whole_table_with_lemm.GetContentFile('whole_table_with_lemm.csv')"
      ],
      "execution_count": null,
      "outputs": []
    },
    {
      "cell_type": "markdown",
      "metadata": {
        "id": "534gC1-ybGNt"
      },
      "source": [
        "Импортируем все необходимые библиотеки."
      ]
    },
    {
      "cell_type": "code",
      "metadata": {
        "id": "GBC-2eqEZJJ1"
      },
      "source": [
        "import re\n",
        "import nltk\n",
        "import joblib\n",
        "\n",
        "import pandas as pd\n",
        "import numpy as np\n",
        "\n",
        "from pprint import pprint\n",
        "from ast import literal_eval\n",
        "from datetime import datetime\n",
        "\n",
        "from tqdm.notebook import tqdm\n",
        "\n",
        "from nltk.corpus import stopwords\n",
        "\n",
        "from gensim.corpora import Dictionary\n",
        "from gensim.models.ldamodel import LdaModel"
      ],
      "execution_count": null,
      "outputs": []
    },
    {
      "cell_type": "markdown",
      "metadata": {
        "id": "TivK4oqwen4c"
      },
      "source": [
        "Устанавливаем максимальную ширину столбца в датафрейме 100, чтобы лучше видеть данные."
      ]
    },
    {
      "cell_type": "code",
      "metadata": {
        "id": "s6O3EbPgc8be"
      },
      "source": [
        "pd.options.display.max_colwidth = 100"
      ],
      "execution_count": null,
      "outputs": []
    },
    {
      "cell_type": "code",
      "metadata": {
        "colab": {
          "base_uri": "https://localhost:8080/"
        },
        "id": "ZPgZkdrYRe3p",
        "outputId": "889a613e-b61e-4625-f19a-6eac44246053"
      },
      "source": [
        "nltk.download('stopwords')"
      ],
      "execution_count": null,
      "outputs": [
        {
          "output_type": "stream",
          "text": [
            "[nltk_data] Downloading package stopwords to /root/nltk_data...\n",
            "[nltk_data]   Unzipping corpora/stopwords.zip.\n"
          ],
          "name": "stdout"
        },
        {
          "output_type": "execute_result",
          "data": {
            "text/plain": [
              "True"
            ]
          },
          "metadata": {
            "tags": []
          },
          "execution_count": 10
        }
      ]
    },
    {
      "cell_type": "code",
      "metadata": {
        "id": "UdpjDv6wQ5oo"
      },
      "source": [
        "stop_words = set(stopwords.words('russian'))"
      ],
      "execution_count": null,
      "outputs": []
    },
    {
      "cell_type": "code",
      "metadata": {
        "id": "1JRdzNR2Y7FC"
      },
      "source": [
        "# добавляем стоп-слова, обнаруженные в выделенных в прошлый раз топиках\n",
        "\n",
        "new_stop_words = {\n",
        "    'ваш', 'весь', 'который', 'наш', 'очень', 'самый', 'свой', 'твой', 'это'\n",
        "    }\n",
        "\n",
        "stop_words |= new_stop_words"
      ],
      "execution_count": null,
      "outputs": []
    },
    {
      "cell_type": "code",
      "metadata": {
        "colab": {
          "base_uri": "https://localhost:8080/"
        },
        "id": "BcTAbwVea430",
        "outputId": "b0070088-f758-40ae-9b51-8f95ac606665"
      },
      "source": [
        "len(stop_words)"
      ],
      "execution_count": null,
      "outputs": [
        {
          "output_type": "execute_result",
          "data": {
            "text/plain": [
              "160"
            ]
          },
          "metadata": {
            "tags": []
          },
          "execution_count": 13
        }
      ]
    },
    {
      "cell_type": "markdown",
      "metadata": {
        "id": "5_P06-sjbPO7"
      },
      "source": [
        "# Цель исследования\n",
        "Тематическое моделирование корпуса текстов: связь тем дневниковых записей с периодом времени написания.\n",
        "# Данные\n",
        "**Meet your dataset: дневниковые записи** [(источник)](https://t.me/c/1358367494/782)<br>\n",
        "<br>\n",
        "**Откуда у нас дневники?**<br>\n",
        "Наши данные - это причёсанный дамп [сайта \"Прожито\"](https://prozhito.org) от апреля 2019 года. Таблицы содержит несколько сотен тысяч записей за большой отрезок времени (от XVIII до XXI века, преимущественно — XX век), так что вам будет, где развернуться ;).<br>\n",
        "<br>\n",
        "**Как устроен датасет?**<br>\n",
        "У нас есть две таблицы, `whole_table.csv` и `whole_table_with_lemm.csv`. Вторая отличается наличием колонки c лемматизированными (т.е. с приведенными в начальную форму словами) mystem записями.<br>\n",
        "В обеих таблицах есть колонки:\n",
        "*   `notes` - содержит сами дневниковые записи\n",
        "*   `dates` - дата записи в формате год/месяц/день\n",
        "*   `id`  -  айдишник автора (не записи!)\n",
        "*   `author` - имя автора записи\n",
        "<br>\n",
        "\n",
        "Практически все поля заполнены, у некоторых отсутствует дата (так как таблица отсортирована по датам, они в самом начале).<br>\n",
        "*От авторов исследования: даты отформатированы как YYYY/(M)M/(D)D, отсутствовать могут день, месяц или год, отсутствующие элементы даты заменены нулями.*\n",
        "# Препроцессинг"
      ]
    },
    {
      "cell_type": "code",
      "metadata": {
        "id": "TMwjG30nsbyK"
      },
      "source": [
        "# напишем отдельную функцию парсинга дат для записей раньше 1905 или позже 2001 года\n",
        "# или записей у которых отсутствует год, месяц или число\n",
        "# исходя из целей исследования, такие записи неинформативны и их нужно удалять\n",
        "\n",
        "def date_parser(date):\n",
        "    if date and re.match(r'^(19|20)\\d{2}/[1-9]\\d?/[1-9]\\d?$', date):\n",
        "        date_split = [int(elem) for elem in date.split('/')]\n",
        "        if date_split[0] >= 1905 and date_split[0] <= 2001:\n",
        "            return datetime(year=date_split[0],\n",
        "                            month=date_split[1],\n",
        "                            day=date_split[2])\n",
        "    return np.nan"
      ],
      "execution_count": null,
      "outputs": []
    },
    {
      "cell_type": "code",
      "metadata": {
        "id": "5mOJE4xTbRIP"
      },
      "source": [
        "df = pd.read_csv('whole_table_with_lemm.csv', sep='\\t', index_col=0,\n",
        "                 usecols=[0, 2, 3], parse_dates=['dates'],\n",
        "                 date_parser=date_parser).rename(\n",
        "                     columns={'notes\\n': 'lemm', 'dates': 'date'})"
      ],
      "execution_count": null,
      "outputs": []
    },
    {
      "cell_type": "code",
      "metadata": {
        "colab": {
          "base_uri": "https://localhost:8080/",
          "height": 204
        },
        "id": "Dj4WOm6ah_b1",
        "outputId": "60ca3023-1ec4-4c9a-bdec-83e4d9a19468"
      },
      "source": [
        "df.head()"
      ],
      "execution_count": null,
      "outputs": [
        {
          "output_type": "execute_result",
          "data": {
            "text/html": [
              "<div>\n",
              "<style scoped>\n",
              "    .dataframe tbody tr th:only-of-type {\n",
              "        vertical-align: middle;\n",
              "    }\n",
              "\n",
              "    .dataframe tbody tr th {\n",
              "        vertical-align: top;\n",
              "    }\n",
              "\n",
              "    .dataframe thead th {\n",
              "        text-align: right;\n",
              "    }\n",
              "</style>\n",
              "<table border=\"1\" class=\"dataframe\">\n",
              "  <thead>\n",
              "    <tr style=\"text-align: right;\">\n",
              "      <th></th>\n",
              "      <th>lemm</th>\n",
              "      <th>date</th>\n",
              "    </tr>\n",
              "  </thead>\n",
              "  <tbody>\n",
              "    <tr>\n",
              "      <th>0</th>\n",
              "      <td>воскресение.    \\nвчера приезжать слава навещать мать в бол-це, но слезать с поезд в толмачев, г...</td>\n",
              "      <td>NaT</td>\n",
              "    </tr>\n",
              "    <tr>\n",
              "      <th>1</th>\n",
              "      <td>ночь мы достигать банка антон-дорн, в датский пролив (между исландия и гренландия). утро погода ...</td>\n",
              "      <td>NaT</td>\n",
              "    </tr>\n",
              "    <tr>\n",
              "      <th>2</th>\n",
              "      <td>суббота. москва. ехать в селище.\\n</td>\n",
              "      <td>NaT</td>\n",
              "    </tr>\n",
              "    <tr>\n",
              "      <th>3</th>\n",
              "      <td>18 август его королевский величество отправляться из вильна в орша. в тот же день, высылать пере...</td>\n",
              "      <td>NaT</td>\n",
              "    </tr>\n",
              "    <tr>\n",
              "      <th>4</th>\n",
              "      <td>на следующий день, 19 август, прибывать в остров, где не быть никакой известие.\\n</td>\n",
              "      <td>NaT</td>\n",
              "    </tr>\n",
              "  </tbody>\n",
              "</table>\n",
              "</div>"
            ],
            "text/plain": [
              "                                                                                                  lemm date\n",
              "0  воскресение.    \\nвчера приезжать слава навещать мать в бол-це, но слезать с поезд в толмачев, г...  NaT\n",
              "1  ночь мы достигать банка антон-дорн, в датский пролив (между исландия и гренландия). утро погода ...  NaT\n",
              "2                                                                   суббота. москва. ехать в селище.\\n  NaT\n",
              "3  18 август его королевский величество отправляться из вильна в орша. в тот же день, высылать пере...  NaT\n",
              "4                    на следующий день, 19 август, прибывать в остров, где не быть никакой известие.\\n  NaT"
            ]
          },
          "metadata": {
            "tags": []
          },
          "execution_count": 16
        }
      ]
    },
    {
      "cell_type": "code",
      "metadata": {
        "colab": {
          "base_uri": "https://localhost:8080/"
        },
        "id": "NoKSH40tkwZk",
        "outputId": "6635be5f-6d8d-45cc-e7b2-2a4f22d529a2"
      },
      "source": [
        "df.info()"
      ],
      "execution_count": null,
      "outputs": [
        {
          "output_type": "stream",
          "text": [
            "<class 'pandas.core.frame.DataFrame'>\n",
            "Int64Index: 384526 entries, 0 to 384525\n",
            "Data columns (total 2 columns):\n",
            " #   Column  Non-Null Count   Dtype         \n",
            "---  ------  --------------   -----         \n",
            " 0   lemm    384525 non-null  object        \n",
            " 1   date    304138 non-null  datetime64[ns]\n",
            "dtypes: datetime64[ns](1), object(1)\n",
            "memory usage: 8.8+ MB\n"
          ],
          "name": "stdout"
        }
      ]
    },
    {
      "cell_type": "code",
      "metadata": {
        "id": "SGD2RCJhpgFU"
      },
      "source": [
        "!rm whole_table_with_lemm.csv"
      ],
      "execution_count": null,
      "outputs": []
    },
    {
      "cell_type": "markdown",
      "metadata": {
        "id": "FEmDPGZmR_37"
      },
      "source": [
        "Удаляем ненужные записи, делаем столбец `date` индексом."
      ]
    },
    {
      "cell_type": "code",
      "metadata": {
        "id": "1nigQX3Tkzgy"
      },
      "source": [
        "df = df.dropna().set_index('date')"
      ],
      "execution_count": null,
      "outputs": []
    },
    {
      "cell_type": "code",
      "metadata": {
        "colab": {
          "base_uri": "https://localhost:8080/",
          "height": 235
        },
        "id": "0P3S7QKpSgdu",
        "outputId": "d1226aca-74b7-4bd9-b187-d4e3bc16dfab"
      },
      "source": [
        "df.head()"
      ],
      "execution_count": null,
      "outputs": [
        {
          "output_type": "execute_result",
          "data": {
            "text/html": [
              "<div>\n",
              "<style scoped>\n",
              "    .dataframe tbody tr th:only-of-type {\n",
              "        vertical-align: middle;\n",
              "    }\n",
              "\n",
              "    .dataframe tbody tr th {\n",
              "        vertical-align: top;\n",
              "    }\n",
              "\n",
              "    .dataframe thead th {\n",
              "        text-align: right;\n",
              "    }\n",
              "</style>\n",
              "<table border=\"1\" class=\"dataframe\">\n",
              "  <thead>\n",
              "    <tr style=\"text-align: right;\">\n",
              "      <th></th>\n",
              "      <th>lemm</th>\n",
              "    </tr>\n",
              "    <tr>\n",
              "      <th>date</th>\n",
              "      <th></th>\n",
              "    </tr>\n",
              "  </thead>\n",
              "  <tbody>\n",
              "    <tr>\n",
              "      <th>1905-01-01</th>\n",
              "      <td>в 7 час утро — 4°, туман с дым, тихо. сегодня воскресение, оставаться дома.    \\nрано утро грохо...</td>\n",
              "    </tr>\n",
              "    <tr>\n",
              "      <th>1905-01-01</th>\n",
              "      <td>с ранний утро японец опять открывать огонь разом по весь позиция наш крепость.  \\nсамый ожесточе...</td>\n",
              "    </tr>\n",
              "    <tr>\n",
              "      <th>1905-01-01</th>\n",
              "      <td>день новый год проходить благополучно. японец на хоутхайский сопка опять выкидывать свой флаг и ...</td>\n",
              "    </tr>\n",
              "    <tr>\n",
              "      <th>1905-01-01</th>\n",
              "      <td>вчера говорить, что поражать перемена, который происходить в витта, что он становиться консерват...</td>\n",
              "    </tr>\n",
              "    <tr>\n",
              "      <th>1905-01-01</th>\n",
              "      <td>воскресение. японский выя год    \\nобычный воскресный богослужение, потом молебен, на который и ...</td>\n",
              "    </tr>\n",
              "  </tbody>\n",
              "</table>\n",
              "</div>"
            ],
            "text/plain": [
              "                                                                                                           lemm\n",
              "date                                                                                                           \n",
              "1905-01-01  в 7 час утро — 4°, туман с дым, тихо. сегодня воскресение, оставаться дома.    \\nрано утро грохо...\n",
              "1905-01-01  с ранний утро японец опять открывать огонь разом по весь позиция наш крепость.  \\nсамый ожесточе...\n",
              "1905-01-01  день новый год проходить благополучно. японец на хоутхайский сопка опять выкидывать свой флаг и ...\n",
              "1905-01-01  вчера говорить, что поражать перемена, который происходить в витта, что он становиться консерват...\n",
              "1905-01-01  воскресение. японский выя год    \\nобычный воскресный богослужение, потом молебен, на который и ..."
            ]
          },
          "metadata": {
            "tags": []
          },
          "execution_count": 20
        }
      ]
    },
    {
      "cell_type": "code",
      "metadata": {
        "colab": {
          "base_uri": "https://localhost:8080/"
        },
        "id": "xwx0Ce6OShc_",
        "outputId": "aaf3d604-33bb-426a-fed9-8e3d7fc32020"
      },
      "source": [
        "df.info()"
      ],
      "execution_count": null,
      "outputs": [
        {
          "output_type": "stream",
          "text": [
            "<class 'pandas.core.frame.DataFrame'>\n",
            "DatetimeIndex: 304137 entries, 1905-01-01 to 2001-12-31\n",
            "Data columns (total 1 columns):\n",
            " #   Column  Non-Null Count   Dtype \n",
            "---  ------  --------------   ----- \n",
            " 0   lemm    304137 non-null  object\n",
            "dtypes: object(1)\n",
            "memory usage: 4.6+ MB\n"
          ],
          "name": "stdout"
        }
      ]
    },
    {
      "cell_type": "markdown",
      "metadata": {
        "id": "CPbnSkqDTOCd"
      },
      "source": [
        "## Токенизация"
      ]
    },
    {
      "cell_type": "code",
      "metadata": {
        "id": "rhEZVaz8YDSa"
      },
      "source": [
        "regex = r'[!\\\"#$%&\\'()*+,\\-./:;<=>?@[\\\\\\]^_`{|}~— \\n\\d\\xa0«»–❉№°]+'"
      ],
      "execution_count": null,
      "outputs": []
    },
    {
      "cell_type": "code",
      "metadata": {
        "id": "suJEvm0HfpQ9"
      },
      "source": [
        "# странные токены, обнаруженные в выделенных в прошлый раз топиках\n",
        "\n",
        "non_words = {\n",
        "    'аа', 'ак', 'ап', 'аран', 'бол', 'го', 'игада', 'олхо', 'оп', 'отд', 'ошай', 'пог'\n",
        "    }"
      ],
      "execution_count": 24,
      "outputs": []
    },
    {
      "cell_type": "code",
      "metadata": {
        "id": "QOMZDkvHZd_D"
      },
      "source": [
        "# почему-то в лемматизированных данных попадаются символы в верхнем регистре\n",
        "\n",
        "def tokenization(text):\n",
        "    return [elem for elem in re.split(regex, text.lower())\n",
        "            if len(elem) > 1 # удаляем пустые токены и токены из одной буквы\n",
        "            and elem not in stop_words # удаляем стоп-слова\n",
        "            and elem not in non_words # удаляем странные токены\n",
        "            and elem not in ['id', 'com']] # и токены id и com из ссылок"
      ],
      "execution_count": 25,
      "outputs": []
    },
    {
      "cell_type": "code",
      "metadata": {
        "id": "a4TJHt8nT3mc"
      },
      "source": [
        "df['lemm'] = df['lemm'].apply(tokenization)"
      ],
      "execution_count": 26,
      "outputs": []
    },
    {
      "cell_type": "code",
      "metadata": {
        "colab": {
          "base_uri": "https://localhost:8080/",
          "height": 235
        },
        "id": "i0Yv75nZYFeT",
        "outputId": "7b0ea6d5-f0cd-4598-a078-50bc55f09a72"
      },
      "source": [
        "df.head()"
      ],
      "execution_count": 27,
      "outputs": [
        {
          "output_type": "execute_result",
          "data": {
            "text/html": [
              "<div>\n",
              "<style scoped>\n",
              "    .dataframe tbody tr th:only-of-type {\n",
              "        vertical-align: middle;\n",
              "    }\n",
              "\n",
              "    .dataframe tbody tr th {\n",
              "        vertical-align: top;\n",
              "    }\n",
              "\n",
              "    .dataframe thead th {\n",
              "        text-align: right;\n",
              "    }\n",
              "</style>\n",
              "<table border=\"1\" class=\"dataframe\">\n",
              "  <thead>\n",
              "    <tr style=\"text-align: right;\">\n",
              "      <th></th>\n",
              "      <th>lemm</th>\n",
              "    </tr>\n",
              "    <tr>\n",
              "      <th>date</th>\n",
              "      <th></th>\n",
              "    </tr>\n",
              "  </thead>\n",
              "  <tbody>\n",
              "    <tr>\n",
              "      <th>1905-01-01</th>\n",
              "      <td>[час, утро, туман, дым, тихо, сегодня, воскресение, оставаться, дома, рано, утро, грохотать, пуш...</td>\n",
              "    </tr>\n",
              "    <tr>\n",
              "      <th>1905-01-01</th>\n",
              "      <td>[ранний, утро, японец, открывать, огонь, разом, позиция, крепость, ожесточенный, бомбардировка, ...</td>\n",
              "    </tr>\n",
              "    <tr>\n",
              "      <th>1905-01-01</th>\n",
              "      <td>[день, новый, год, проходить, благополучно, японец, хоутхайский, сопка, выкидывать, флаг, кричат...</td>\n",
              "    </tr>\n",
              "    <tr>\n",
              "      <th>1905-01-01</th>\n",
              "      <td>[вчера, говорить, поражать, перемена, происходить, витта, становиться, консерватор, победоносцев...</td>\n",
              "    </tr>\n",
              "    <tr>\n",
              "      <th>1905-01-01</th>\n",
              "      <td>[воскресение, японский, выя, год, обычный, воскресный, богослужение, молебен, выходить, обычный,...</td>\n",
              "    </tr>\n",
              "  </tbody>\n",
              "</table>\n",
              "</div>"
            ],
            "text/plain": [
              "                                                                                                           lemm\n",
              "date                                                                                                           \n",
              "1905-01-01  [час, утро, туман, дым, тихо, сегодня, воскресение, оставаться, дома, рано, утро, грохотать, пуш...\n",
              "1905-01-01  [ранний, утро, японец, открывать, огонь, разом, позиция, крепость, ожесточенный, бомбардировка, ...\n",
              "1905-01-01  [день, новый, год, проходить, благополучно, японец, хоутхайский, сопка, выкидывать, флаг, кричат...\n",
              "1905-01-01  [вчера, говорить, поражать, перемена, происходить, витта, становиться, консерватор, победоносцев...\n",
              "1905-01-01  [воскресение, японский, выя, год, обычный, воскресный, богослужение, молебен, выходить, обычный,..."
            ]
          },
          "metadata": {
            "tags": []
          },
          "execution_count": 27
        }
      ]
    },
    {
      "cell_type": "markdown",
      "metadata": {
        "id": "Mr-bcxkZaPYL"
      },
      "source": [
        "Сохраняем и загружаем на гуглдиск готовые к topic modelling данные."
      ]
    },
    {
      "cell_type": "code",
      "metadata": {
        "id": "knGeEif7dzqg"
      },
      "source": [
        "df.to_csv('prozhito_lemmas.csv')"
      ],
      "execution_count": 28,
      "outputs": []
    },
    {
      "cell_type": "code",
      "metadata": {
        "colab": {
          "base_uri": "https://localhost:8080/"
        },
        "id": "Oe4wMXP9onV6",
        "outputId": "bcc546a5-d530-4548-b4a2-0efaf8e9fb4a"
      },
      "source": [
        "!zip prozhito_lemmas.zip prozhito_lemmas.csv"
      ],
      "execution_count": 29,
      "outputs": [
        {
          "output_type": "stream",
          "text": [
            "  adding: prozhito_lemmas.csv (deflated 78%)\n"
          ],
          "name": "stdout"
        }
      ]
    },
    {
      "cell_type": "code",
      "metadata": {
        "id": "m5BKl83LpVTU"
      },
      "source": [
        "!rm prozhito_lemmas.csv"
      ],
      "execution_count": 30,
      "outputs": []
    },
    {
      "cell_type": "code",
      "metadata": {
        "colab": {
          "base_uri": "https://localhost:8080/",
          "height": 17
        },
        "id": "9DDqZPEvdwje",
        "outputId": "7adef0ff-570f-4737-93a1-4c7be5c4c316"
      },
      "source": [
        "files.download('prozhito_lemmas.zip')"
      ],
      "execution_count": 31,
      "outputs": [
        {
          "output_type": "display_data",
          "data": {
            "application/javascript": [
              "\n",
              "    async function download(id, filename, size) {\n",
              "      if (!google.colab.kernel.accessAllowed) {\n",
              "        return;\n",
              "      }\n",
              "      const div = document.createElement('div');\n",
              "      const label = document.createElement('label');\n",
              "      label.textContent = `Downloading \"${filename}\": `;\n",
              "      div.appendChild(label);\n",
              "      const progress = document.createElement('progress');\n",
              "      progress.max = size;\n",
              "      div.appendChild(progress);\n",
              "      document.body.appendChild(div);\n",
              "\n",
              "      const buffers = [];\n",
              "      let downloaded = 0;\n",
              "\n",
              "      const channel = await google.colab.kernel.comms.open(id);\n",
              "      // Send a message to notify the kernel that we're ready.\n",
              "      channel.send({})\n",
              "\n",
              "      for await (const message of channel.messages) {\n",
              "        // Send a message to notify the kernel that we're ready.\n",
              "        channel.send({})\n",
              "        if (message.buffers) {\n",
              "          for (const buffer of message.buffers) {\n",
              "            buffers.push(buffer);\n",
              "            downloaded += buffer.byteLength;\n",
              "            progress.value = downloaded;\n",
              "          }\n",
              "        }\n",
              "      }\n",
              "      const blob = new Blob(buffers, {type: 'application/binary'});\n",
              "      const a = document.createElement('a');\n",
              "      a.href = window.URL.createObjectURL(blob);\n",
              "      a.download = filename;\n",
              "      div.appendChild(a);\n",
              "      a.click();\n",
              "      div.remove();\n",
              "    }\n",
              "  "
            ],
            "text/plain": [
              "<IPython.core.display.Javascript object>"
            ]
          },
          "metadata": {
            "tags": []
          }
        },
        {
          "output_type": "display_data",
          "data": {
            "application/javascript": [
              "download(\"download_46826603-4aaf-4b35-a499-726e1604c758\", \"prozhito_lemmas.zip\", 120033158)"
            ],
            "text/plain": [
              "<IPython.core.display.Javascript object>"
            ]
          },
          "metadata": {
            "tags": []
          }
        }
      ]
    },
    {
      "cell_type": "code",
      "metadata": {
        "id": "CJOgNS1NfKEh"
      },
      "source": [
        "# код для загрузки готовой к topic modelling таблицы\n",
        "\n",
        "# prozhito_lemmas = drive.CreateFile(\n",
        "#    {'id': '1RnIWAaw-oKkJF6Qmf7tHuii1-3AccxHG'})\n",
        "# prozhito_lemmas.GetContentFile('prozhito_lemmas.zip')"
      ],
      "execution_count": null,
      "outputs": []
    },
    {
      "cell_type": "markdown",
      "metadata": {
        "id": "kb3gdemp-mhG"
      },
      "source": [
        "Функция для загруженного из гуглдиска датафрейма."
      ]
    },
    {
      "cell_type": "code",
      "metadata": {
        "id": "eJ-N68B4-lPU"
      },
      "source": [
        "def data_to_list(filename):\n",
        "    df = pd.read_csv(filename)\n",
        "    df['lemm'] = df['lemm'].apply(literal_eval)\n",
        "    return df"
      ],
      "execution_count": 32,
      "outputs": []
    },
    {
      "cell_type": "markdown",
      "metadata": {
        "id": "fCsy8cJ2fhCX"
      },
      "source": [
        "## Периодизация\n",
        "Поскольку основная часть текстов корпуса приходится на советскую эпоху, решено было выделить следующие периоды:\n",
        "*   *янв. 1905 – янв. 1907* (первая революция)\n",
        "*   *февр. 1907 – май 1914* (период между революциями)\n",
        "*   *июнь 1914 – октябрь 1918* (Первая мировая война и две главные революции в России)\n",
        "*   *ноябрь 1918 – декабрь 1927* (гражданская война, продразверстка, НЭП)\n",
        "*   *январь 1928 – август 1939* (коллективизация, Большой террор)\n",
        "*   *сентябрь 1939 – май 1945* (Вторая мировая война)\n",
        "*   *1946 – 1963* (промежуточный период истории, заканчивается «оттепелью»)\n",
        "*   *1964 – май 1987* (застой)\n",
        "*   *июнь 1987 – июнь 1990* (перестройка и развал СССР)\n",
        "*   *1991 – 2001* (после СССР, «лихие 90-е»)"
      ]
    },
    {
      "cell_type": "code",
      "metadata": {
        "id": "j1P6ddWPZCMl"
      },
      "source": [
        "df = [\n",
        "    df.loc[\n",
        "        pd.Timestamp('1905-1-1 00:00:00'): pd.Timestamp('1907-1-31 23:59:59')\n",
        "        ],\n",
        "    df.loc[\n",
        "        pd.Timestamp('1907-2-1 00:00:00'): pd.Timestamp('1914-5-31 23:59:59')\n",
        "        ],\n",
        "    df.loc[\n",
        "        pd.Timestamp('1914-6-1 00:00:00'): pd.Timestamp('1918-10-31 23:59:59')\n",
        "        ],\n",
        "    df.loc[\n",
        "        pd.Timestamp('1918-11-1 00:00:00'): pd.Timestamp('1927-12-31 23:59:59')\n",
        "        ],\n",
        "    df.loc[\n",
        "        pd.Timestamp('1928-1-1 00:00:00'): pd.Timestamp('1939-8-31 23:59:59')\n",
        "        ],\n",
        "    df.loc[\n",
        "        pd.Timestamp('1939-9-1 00:00:00'): pd.Timestamp('1945-5-31 23:59:59')\n",
        "        ],\n",
        "    df.loc[\n",
        "        pd.Timestamp('1946-1-1 00:00:00'): pd.Timestamp('1963-12-31 23:59:59')\n",
        "        ],\n",
        "    df.loc[\n",
        "        pd.Timestamp('1964-1-1 00:00:00'): pd.Timestamp('1987-5-31 23:59:59')\n",
        "        ],\n",
        "    df.loc[\n",
        "        pd.Timestamp('1987-6-1 00:00:00'): pd.Timestamp('1990-6-30 23:59:59')\n",
        "        ],\n",
        "    df.loc[\n",
        "        pd.Timestamp('1991-1-1 00:00:00'): pd.Timestamp('2001-12-31 23:59:59')]\n",
        "       ]"
      ],
      "execution_count": 33,
      "outputs": []
    },
    {
      "cell_type": "code",
      "metadata": {
        "colab": {
          "base_uri": "https://localhost:8080/",
          "height": 235
        },
        "id": "qBwc2U9Ft6Ep",
        "outputId": "10703dc0-6379-4523-e858-1776cfe8a7ff"
      },
      "source": [
        "df[1].head()"
      ],
      "execution_count": 34,
      "outputs": [
        {
          "output_type": "execute_result",
          "data": {
            "text/html": [
              "<div>\n",
              "<style scoped>\n",
              "    .dataframe tbody tr th:only-of-type {\n",
              "        vertical-align: middle;\n",
              "    }\n",
              "\n",
              "    .dataframe tbody tr th {\n",
              "        vertical-align: top;\n",
              "    }\n",
              "\n",
              "    .dataframe thead th {\n",
              "        text-align: right;\n",
              "    }\n",
              "</style>\n",
              "<table border=\"1\" class=\"dataframe\">\n",
              "  <thead>\n",
              "    <tr style=\"text-align: right;\">\n",
              "      <th></th>\n",
              "      <th>lemm</th>\n",
              "    </tr>\n",
              "    <tr>\n",
              "      <th>date</th>\n",
              "      <th></th>\n",
              "    </tr>\n",
              "  </thead>\n",
              "  <tbody>\n",
              "    <tr>\n",
              "      <th>1907-02-01</th>\n",
              "      <td>[пятница, чудный, погода, солнце, ветер, пахнуть, весна, удивительно, приятно, завтрак, лена, хо...</td>\n",
              "    </tr>\n",
              "    <tr>\n",
              "      <th>1907-02-01</th>\n",
              "      <td>[вчера, ната, звонить, шлиппе, сказать, сергей, александрович, уезжать, петербург, становиться, ...</td>\n",
              "    </tr>\n",
              "    <tr>\n",
              "      <th>1907-02-01</th>\n",
              "      <td>[пятница, приходиться, позвать, шенгелидзе, упорный, кашель, людмилка, проходить, доктор, напуга...</td>\n",
              "    </tr>\n",
              "    <tr>\n",
              "      <th>1907-02-01</th>\n",
              "      <td>[четверг, писать, февраль, доклад, военный, министр, ездить, город, мочь, день, следующий, прово...</td>\n",
              "    </tr>\n",
              "    <tr>\n",
              "      <th>1907-02-01</th>\n",
              "      <td>[тетя, васино, рождение, тетя, мила, ходить, кноп, гостиный, видеть, невский, студент, чичериных...</td>\n",
              "    </tr>\n",
              "  </tbody>\n",
              "</table>\n",
              "</div>"
            ],
            "text/plain": [
              "                                                                                                           lemm\n",
              "date                                                                                                           \n",
              "1907-02-01  [пятница, чудный, погода, солнце, ветер, пахнуть, весна, удивительно, приятно, завтрак, лена, хо...\n",
              "1907-02-01  [вчера, ната, звонить, шлиппе, сказать, сергей, александрович, уезжать, петербург, становиться, ...\n",
              "1907-02-01  [пятница, приходиться, позвать, шенгелидзе, упорный, кашель, людмилка, проходить, доктор, напуга...\n",
              "1907-02-01  [четверг, писать, февраль, доклад, военный, министр, ездить, город, мочь, день, следующий, прово...\n",
              "1907-02-01  [тетя, васино, рождение, тетя, мила, ходить, кноп, гостиный, видеть, невский, студент, чичериных..."
            ]
          },
          "metadata": {
            "tags": []
          },
          "execution_count": 34
        }
      ]
    },
    {
      "cell_type": "code",
      "metadata": {
        "id": "ZGdbQa3Jl2LH"
      },
      "source": [
        "period = ['first revolution', 'between revolutions', 'WWI', 'civil war',\n",
        "          'great purge', 'WWII', 'before ottepel', 'stagnation','perestroyka',\n",
        "          '90s']"
      ],
      "execution_count": 35,
      "outputs": []
    },
    {
      "cell_type": "code",
      "metadata": {
        "colab": {
          "base_uri": "https://localhost:8080/"
        },
        "id": "KCnOpQoCuCcJ",
        "outputId": "38afdc2f-2536-4ca1-912c-02db4755f592"
      },
      "source": [
        "for i, time in enumerate(period):\n",
        "    print(f'{time}:{\" \" * (20 - len(time))}\\t{df[i].shape[0]} entries')"
      ],
      "execution_count": 36,
      "outputs": [
        {
          "output_type": "stream",
          "text": [
            "first revolution:    \t5821 entries\n",
            "between revolutions: \t18761 entries\n",
            "WWI:                 \t20362 entries\n",
            "civil war:           \t35981 entries\n",
            "great purge:         \t37175 entries\n",
            "WWII:                \t62686 entries\n",
            "before ottepel:      \t39742 entries\n",
            "stagnation:          \t58121 entries\n",
            "perestroyka:         \t6723 entries\n",
            "90s:                 \t14874 entries\n"
          ],
          "name": "stdout"
        }
      ]
    },
    {
      "cell_type": "markdown",
      "metadata": {
        "id": "vSqUgqnTlCoq"
      },
      "source": [
        "Сохраняем и загружаем на гуглдиск разбитые на периоды данные."
      ]
    },
    {
      "cell_type": "code",
      "metadata": {
        "colab": {
          "base_uri": "https://localhost:8080/",
          "height": 66,
          "referenced_widgets": [
            "15d27810db744d35beaa74ae8911c022",
            "0b22457d9459457d8c4a4ff963503f18",
            "d1e8060c7a0f4d539e4c3cbbaf159849",
            "00b10ccddd6d4807bbf49a38c4ee717b",
            "a8ff672272984d838d0b788a6759164e",
            "06cdb1dbf9af41938da9bfbe3b511081",
            "9219e50cb20a41938ae633ca3249ddca",
            "a234f78a035744fd9a82b18bf172f899"
          ]
        },
        "id": "16Ty6Sl6lkFK",
        "outputId": "28c941b0-ee2b-4749-b21d-7a0b79cfaf7d"
      },
      "source": [
        "for i, table in tqdm(enumerate(df)):\n",
        "    table.to_csv(f'{i + 1}_{period[i].replace(\" \", \"_\")}.csv')"
      ],
      "execution_count": 37,
      "outputs": [
        {
          "output_type": "display_data",
          "data": {
            "application/vnd.jupyter.widget-view+json": {
              "model_id": "15d27810db744d35beaa74ae8911c022",
              "version_minor": 0,
              "version_major": 2
            },
            "text/plain": [
              "HBox(children=(FloatProgress(value=1.0, bar_style='info', max=1.0), HTML(value='')))"
            ]
          },
          "metadata": {
            "tags": []
          }
        },
        {
          "output_type": "stream",
          "text": [
            "\n"
          ],
          "name": "stdout"
        }
      ]
    },
    {
      "cell_type": "code",
      "metadata": {
        "colab": {
          "base_uri": "https://localhost:8080/"
        },
        "id": "zZiG-SWioT8Z",
        "outputId": "03c8f291-01bb-45a3-b984-0069b64ce2d5"
      },
      "source": [
        "!zip prozhito_periodization.zip *.csv"
      ],
      "execution_count": 39,
      "outputs": [
        {
          "output_type": "stream",
          "text": [
            "  adding: 10_90s.csv (deflated 78%)\n",
            "  adding: 1_first_revolution.csv (deflated 79%)\n",
            "  adding: 2_between_revolutions.csv (deflated 79%)\n",
            "  adding: 3_WWI.csv (deflated 79%)\n",
            "  adding: 4_civil_war.csv (deflated 78%)\n",
            "  adding: 5_great_purge.csv (deflated 78%)\n",
            "  adding: 6_WWII.csv (deflated 78%)\n",
            "  adding: 7_before_ottepel.csv (deflated 79%)\n",
            "  adding: 8_stagnation.csv (deflated 78%)\n",
            "  adding: 9_perestroyka.csv (deflated 78%)\n"
          ],
          "name": "stdout"
        }
      ]
    },
    {
      "cell_type": "code",
      "metadata": {
        "colab": {
          "base_uri": "https://localhost:8080/",
          "height": 17
        },
        "id": "sbD78kCyqbvX",
        "outputId": "ea383565-52cb-41ee-832b-b787848d6a8e"
      },
      "source": [
        "files.download('prozhito_periodization.zip')"
      ],
      "execution_count": 40,
      "outputs": [
        {
          "output_type": "display_data",
          "data": {
            "application/javascript": [
              "\n",
              "    async function download(id, filename, size) {\n",
              "      if (!google.colab.kernel.accessAllowed) {\n",
              "        return;\n",
              "      }\n",
              "      const div = document.createElement('div');\n",
              "      const label = document.createElement('label');\n",
              "      label.textContent = `Downloading \"${filename}\": `;\n",
              "      div.appendChild(label);\n",
              "      const progress = document.createElement('progress');\n",
              "      progress.max = size;\n",
              "      div.appendChild(progress);\n",
              "      document.body.appendChild(div);\n",
              "\n",
              "      const buffers = [];\n",
              "      let downloaded = 0;\n",
              "\n",
              "      const channel = await google.colab.kernel.comms.open(id);\n",
              "      // Send a message to notify the kernel that we're ready.\n",
              "      channel.send({})\n",
              "\n",
              "      for await (const message of channel.messages) {\n",
              "        // Send a message to notify the kernel that we're ready.\n",
              "        channel.send({})\n",
              "        if (message.buffers) {\n",
              "          for (const buffer of message.buffers) {\n",
              "            buffers.push(buffer);\n",
              "            downloaded += buffer.byteLength;\n",
              "            progress.value = downloaded;\n",
              "          }\n",
              "        }\n",
              "      }\n",
              "      const blob = new Blob(buffers, {type: 'application/binary'});\n",
              "      const a = document.createElement('a');\n",
              "      a.href = window.URL.createObjectURL(blob);\n",
              "      a.download = filename;\n",
              "      div.appendChild(a);\n",
              "      a.click();\n",
              "      div.remove();\n",
              "    }\n",
              "  "
            ],
            "text/plain": [
              "<IPython.core.display.Javascript object>"
            ]
          },
          "metadata": {
            "tags": []
          }
        },
        {
          "output_type": "display_data",
          "data": {
            "application/javascript": [
              "download(\"download_c129d4d1-23c4-4cc3-bac4-e3d67aa77e7a\", \"prozhito_periodization.zip\", 118549656)"
            ],
            "text/plain": [
              "<IPython.core.display.Javascript object>"
            ]
          },
          "metadata": {
            "tags": []
          }
        }
      ]
    },
    {
      "cell_type": "code",
      "metadata": {
        "id": "PQcS2HT9qjT2"
      },
      "source": [
        "# код для загрузки архива таблиц для каждого периода\n",
        "\n",
        "# prozhito_periodization = drive.CreateFile(\n",
        "#    {'id': '1ghZXSjw92FIzpAIewSDZGkfJf8IpJ7u9'})\n",
        "# prozhito_periodization.GetContentFile('prozhito_periodization.zip')"
      ],
      "execution_count": null,
      "outputs": []
    },
    {
      "cell_type": "markdown",
      "metadata": {
        "id": "DUIIzLnsZ58W"
      },
      "source": [
        "# LDA with Gensim"
      ]
    },
    {
      "cell_type": "code",
      "metadata": {
        "id": "UN3JkaTiMNT3"
      },
      "source": [
        "models = []"
      ],
      "execution_count": 41,
      "outputs": []
    },
    {
      "cell_type": "code",
      "metadata": {
        "colab": {
          "base_uri": "https://localhost:8080/"
        },
        "id": "Lu1JWRHLq5ls",
        "outputId": "9ecbf607-f719-43c8-a91a-c941afad49da"
      },
      "source": [
        "for table in df:\n",
        "    data = list(table['lemm'])\n",
        "    id2word = Dictionary(data)\n",
        "    corpus = [id2word.doc2bow(text) for text in data]\n",
        "    model = LdaModel(corpus, num_topics=10, id2word=id2word, passes=15,\n",
        "                     iterations=100, per_word_topics=True)\n",
        "    models.append(model)\n",
        "    clear_output()\n",
        "    print(f'Моделей обучено: {len(models)}')"
      ],
      "execution_count": 42,
      "outputs": [
        {
          "output_type": "stream",
          "text": [
            "Моделей обучено: 10\n"
          ],
          "name": "stdout"
        }
      ]
    },
    {
      "cell_type": "markdown",
      "metadata": {
        "id": "cUNPOqEGyJzB"
      },
      "source": [
        "Сохраняем и загружаем на гуглдиск обученные модели с наборами тем для каждого периода."
      ]
    },
    {
      "cell_type": "code",
      "metadata": {
        "id": "PnFiwceOyRZL",
        "colab": {
          "base_uri": "https://localhost:8080/"
        },
        "outputId": "ab1ecc18-8fcf-45a3-b485-4f22fc9ebb5b"
      },
      "source": [
        "joblib.dump(models, 'prozhito_topic_modelling.pkl')"
      ],
      "execution_count": 43,
      "outputs": [
        {
          "output_type": "execute_result",
          "data": {
            "text/plain": [
              "['prozhito_topic_modelling.pkl']"
            ]
          },
          "metadata": {
            "tags": []
          },
          "execution_count": 43
        }
      ]
    },
    {
      "cell_type": "code",
      "metadata": {
        "id": "LVNODfqSyjpR",
        "colab": {
          "base_uri": "https://localhost:8080/"
        },
        "outputId": "2dce7781-dbd7-4b44-88f4-2092fff1b534"
      },
      "source": [
        "!zip prozhito_topic_modelling.zip prozhito_topic_modelling.pkl"
      ],
      "execution_count": 44,
      "outputs": [
        {
          "output_type": "stream",
          "text": [
            "  adding: prozhito_topic_modelling.pkl (deflated 51%)\n"
          ],
          "name": "stdout"
        }
      ]
    },
    {
      "cell_type": "code",
      "metadata": {
        "colab": {
          "base_uri": "https://localhost:8080/",
          "height": 17
        },
        "id": "WtFS5OiEywCe",
        "outputId": "9c8a119c-0d59-4047-bb9b-bc2ebb23f621"
      },
      "source": [
        "files.download('prozhito_topic_modelling.pkl')"
      ],
      "execution_count": 45,
      "outputs": [
        {
          "output_type": "display_data",
          "data": {
            "application/javascript": [
              "\n",
              "    async function download(id, filename, size) {\n",
              "      if (!google.colab.kernel.accessAllowed) {\n",
              "        return;\n",
              "      }\n",
              "      const div = document.createElement('div');\n",
              "      const label = document.createElement('label');\n",
              "      label.textContent = `Downloading \"${filename}\": `;\n",
              "      div.appendChild(label);\n",
              "      const progress = document.createElement('progress');\n",
              "      progress.max = size;\n",
              "      div.appendChild(progress);\n",
              "      document.body.appendChild(div);\n",
              "\n",
              "      const buffers = [];\n",
              "      let downloaded = 0;\n",
              "\n",
              "      const channel = await google.colab.kernel.comms.open(id);\n",
              "      // Send a message to notify the kernel that we're ready.\n",
              "      channel.send({})\n",
              "\n",
              "      for await (const message of channel.messages) {\n",
              "        // Send a message to notify the kernel that we're ready.\n",
              "        channel.send({})\n",
              "        if (message.buffers) {\n",
              "          for (const buffer of message.buffers) {\n",
              "            buffers.push(buffer);\n",
              "            downloaded += buffer.byteLength;\n",
              "            progress.value = downloaded;\n",
              "          }\n",
              "        }\n",
              "      }\n",
              "      const blob = new Blob(buffers, {type: 'application/binary'});\n",
              "      const a = document.createElement('a');\n",
              "      a.href = window.URL.createObjectURL(blob);\n",
              "      a.download = filename;\n",
              "      div.appendChild(a);\n",
              "      a.click();\n",
              "      div.remove();\n",
              "    }\n",
              "  "
            ],
            "text/plain": [
              "<IPython.core.display.Javascript object>"
            ]
          },
          "metadata": {
            "tags": []
          }
        },
        {
          "output_type": "display_data",
          "data": {
            "application/javascript": [
              "download(\"download_6e54807b-2a52-449c-b0a3-efeb2660f508\", \"prozhito_topic_modelling.pkl\", 139278304)"
            ],
            "text/plain": [
              "<IPython.core.display.Javascript object>"
            ]
          },
          "metadata": {
            "tags": []
          }
        }
      ]
    },
    {
      "cell_type": "code",
      "metadata": {
        "id": "_XxHvt0FywCj"
      },
      "source": [
        "# код для загрузки обученных моделей\n",
        "\n",
        "# prozhito_topic_modelling = drive.CreateFile(\n",
        "#    {'id': '1jBG3E4fAcjeXjkBGLq5kLAVo9y7njJOr'})\n",
        "# prozhito_topic_modelling.GetContentFile('prozhito_topic_modelling.pkl')"
      ],
      "execution_count": null,
      "outputs": []
    },
    {
      "cell_type": "markdown",
      "metadata": {
        "id": "CUlVzh2ZyxUF"
      },
      "source": [
        "# Результаты\n",
        "[Визуализация результатов](https://colab.research.google.com/drive/1rejmaQAdDrRG6KLD1cb4T382OfaVs_Rh?usp=sharing)<br>\n",
        "[Результаты в виде таймлайна](https://www.sutori.com/story/zhivyie-dushi-xx-vieka--LVLEntAwko13P3cmo1Chy9D8)\n",
        "## Первая революция\n",
        "### (*янв. 1905 – янв. 1907*)\n",
        "Темы дневниковых записей:"
      ]
    },
    {
      "cell_type": "code",
      "metadata": {
        "id": "gBvh3Y8j1mxj",
        "colab": {
          "base_uri": "https://localhost:8080/"
        },
        "outputId": "624eb90d-2be5-4b6f-cc0e-384a9f8f705e"
      },
      "source": [
        "pprint(models[0].print_topics())"
      ],
      "execution_count": 46,
      "outputs": [
        {
          "output_type": "stream",
          "text": [
            "[(0,\n",
            "  '0.009*\"говорить\" + 0.007*\"день\" + 0.006*\"царь\" + 0.006*\"сказать\" + '\n",
            "  '0.006*\"сегодня\" + 0.005*\"рабочий\" + 0.005*\"человек\" + 0.004*\"государь\" + '\n",
            "  '0.004*\"город\" + 0.004*\"министр\"'),\n",
            " (1,\n",
            "  '0.008*\"год\" + 0.005*\"сегодня\" + 0.005*\"урок\" + 0.005*\"слово\" + '\n",
            "  '0.005*\"читать\" + 0.004*\"первый\" + 0.004*\"написать\" + 0.004*\"горький\" + '\n",
            "  '0.004*\"день\" + 0.004*\"класс\"'),\n",
            " (2,\n",
            "  '0.014*\"говорить\" + 0.010*\"мочь\" + 0.007*\"сказать\" + 0.006*\"человек\" + '\n",
            "  '0.006*\"дело\" + 0.006*\"знать\" + 0.005*\"ничто\" + 0.004*\"хотеть\" + '\n",
            "  '0.004*\"давать\" + 0.004*\"год\"'),\n",
            " (3,\n",
            "  '0.014*\"письмо\" + 0.010*\"павлик\" + 0.010*\"вечер\" + 0.009*\"сомов\" + '\n",
            "  '0.009*\"читать\" + 0.009*\"писать\" + 0.008*\"день\" + 0.008*\"сережа\" + '\n",
            "  '0.008*\"ребенок\" + 0.007*\"утро\"'),\n",
            " (4,\n",
            "  '0.008*\"военнопленный\" + 0.007*\"вечер\" + 0.007*\"церковь\" + 0.007*\"день\" + '\n",
            "  '0.006*\"письмо\" + 0.006*\"сегодня\" + 0.005*\"русский\" + 0.005*\"пойти\" + '\n",
            "  '0.005*\"приходить\" + 0.005*\"россия\"'),\n",
            " (5,\n",
            "  '0.024*\"жизнь\" + 0.020*\"человек\" + 0.013*\"мочь\" + 0.011*\"бог\" + '\n",
            "  '0.008*\"время\" + 0.008*\"жить\" + 0.007*\"сознание\" + 0.005*\"мир\" + '\n",
            "  '0.005*\"любовь\" + 0.005*\"знать\"'),\n",
            " (6,\n",
            "  '0.007*\"приходить\" + 0.006*\"пойти\" + 0.006*\"становиться\" + 0.006*\"ехать\" + '\n",
            "  '0.005*\"сегодня\" + 0.005*\"говорить\" + 0.005*\"идти\" + 0.005*\"мочь\" + '\n",
            "  '0.005*\"час\" + 0.005*\"поехать\"'),\n",
            " (7,\n",
            "  '0.007*\"день\" + 0.007*\"этюд\" + 0.006*\"скала\" + 0.006*\"вид\" + 0.005*\"сделать\" '\n",
            "  '+ 0.005*\"лес\" + 0.005*\"начинать\" + 0.004*\"тетя\" + 0.004*\"место\" + '\n",
            "  '0.004*\"ветер\"'),\n",
            " (8,\n",
            "  '0.011*\"офицер\" + 0.011*\"полк\" + 0.011*\"японец\" + 0.009*\"корпус\" + '\n",
            "  '0.006*\"генерал\" + 0.006*\"японский\" + 0.005*\"солдат\" + 0.005*\"час\" + '\n",
            "  '0.005*\"рота\" + 0.004*\"деревня\"'),\n",
            " (9,\n",
            "  '0.018*\"театр\" + 0.009*\"сегодня\" + 0.007*\"говорить\" + 0.007*\"артист\" + '\n",
            "  '0.007*\"просить\" + 0.006*\"мочь\" + 0.006*\"год\" + 0.006*\"давать\" + '\n",
            "  '0.005*\"присутствовать\" + 0.005*\"пьеса\"')]\n"
          ],
          "name": "stdout"
        }
      ]
    },
    {
      "cell_type": "markdown",
      "metadata": {
        "id": "hL0wv9ku2rk7"
      },
      "source": [
        "## Период между революциями\n",
        "### (*февр. 1907 – май 1914*)\n",
        "Темы дневниковых записей:"
      ]
    },
    {
      "cell_type": "code",
      "metadata": {
        "id": "1qklJ_Tl2K-u",
        "colab": {
          "base_uri": "https://localhost:8080/"
        },
        "outputId": "13670861-6260-49dd-b9fc-b69bc411e5c4"
      },
      "source": [
        "pprint(models[1].print_topics())"
      ],
      "execution_count": 47,
      "outputs": [
        {
          "output_type": "stream",
          "text": [
            "[(0,\n",
            "  '0.019*\"львовна\" + 0.006*\"аполлон\" + 0.005*\"наука\" + 0.004*\"картина\" + '\n",
            "  '0.004*\"италия\" + 0.004*\"музей\" + 0.003*\"педагогика\" + 0.003*\"венеция\" + '\n",
            "  '0.003*\"флоренция\" + 0.003*\"рим\"'),\n",
            " (1,\n",
            "  '0.014*\"день\" + 0.009*\"жена\" + 0.008*\"утро\" + 0.008*\"павловск\" + '\n",
            "  '0.007*\"вечер\" + 0.006*\"приезжать\" + 0.006*\"це\" + 0.006*\"час\" + '\n",
            "  '0.005*\"корпус\" + 0.005*\"вернуться\"'),\n",
            " (2,\n",
            "  '0.029*\"що\" + 0.011*\"як\" + 0.011*\"він\" + 0.008*\"коли\" + 0.007*\"його\" + '\n",
            "  '0.006*\"бо\" + 0.006*\"аля\" + 0.005*\"щоба\" + 0.005*\"ми\" + 0.004*\"від\"'),\n",
            " (3,\n",
            "  '0.017*\"театр\" + 0.007*\"сегодня\" + 0.007*\"говорить\" + 0.007*\"пьеса\" + '\n",
            "  '0.006*\"спектакль\" + 0.005*\"сказать\" + 0.005*\"опера\" + 0.005*\"сцена\" + '\n",
            "  '0.005*\"артист\" + 0.005*\"мочь\"'),\n",
            " (4,\n",
            "  '0.006*\"идти\" + 0.004*\"большой\" + 0.004*\"становиться\" + 0.004*\"стоять\" + '\n",
            "  '0.004*\"вода\" + 0.003*\"дорога\" + 0.003*\"солнце\" + 0.003*\"глаз\" + '\n",
            "  '0.003*\"место\" + 0.003*\"земля\"'),\n",
            " (5,\n",
            "  '0.014*\"вечер\" + 0.010*\"приходить\" + 0.010*\"пойти\" + 0.008*\"сидеть\" + '\n",
            "  '0.008*\"играть\" + 0.008*\"день\" + 0.007*\"поехать\" + 0.007*\"приезжать\" + '\n",
            "  '0.007*\"милый\" + 0.007*\"говорить\"'),\n",
            " (6,\n",
            "  '0.011*\"класс\" + 0.010*\"урок\" + 0.008*\"ученица\" + 0.008*\"концерт\" + '\n",
            "  '0.007*\"час\" + 0.006*\"экзамен\" + 0.006*\"первый\" + 0.005*\"год\" + '\n",
            "  '0.005*\"сегодня\" + 0.004*\"церковь\"'),\n",
            " (7,\n",
            "  '0.009*\"гора\" + 0.006*\"день\" + 0.005*\"каяк\" + 0.005*\"палатка\" + '\n",
            "  '0.005*\"долина\" + 0.004*\"дорога\" + 0.004*\"время\" + 0.004*\"улей\" + '\n",
            "  '0.004*\"ветер\" + 0.004*\"жак\"'),\n",
            " (8,\n",
            "  '0.012*\"мочь\" + 0.011*\"человек\" + 0.010*\"жизнь\" + 0.009*\"говорить\" + '\n",
            "  '0.009*\"сказать\" + 0.007*\"знать\" + 0.006*\"время\" + 0.005*\"лев\" + '\n",
            "  '0.005*\"становиться\" + 0.005*\"ничто\"'),\n",
            " (9,\n",
            "  '0.009*\"дело\" + 0.007*\"говорить\" + 0.006*\"председатель\" + 0.006*\"совет\" + '\n",
            "  '0.005*\"русский\" + 0.005*\"министр\" + 0.005*\"сказать\" + 0.004*\"государь\" + '\n",
            "  '0.004*\"получать\" + 0.004*\"царь\"')]\n"
          ],
          "name": "stdout"
        }
      ]
    },
    {
      "cell_type": "markdown",
      "metadata": {
        "id": "4LuMC2yh2vGw"
      },
      "source": [
        "## Первая мировая война и две главные революции в России\n",
        "###(*июнь 1914 – октябрь 1918*)\n",
        "Темы дневниковых записей:"
      ]
    },
    {
      "cell_type": "code",
      "metadata": {
        "id": "y0qhBLmo2LIr",
        "colab": {
          "base_uri": "https://localhost:8080/"
        },
        "outputId": "9316b99a-5966-410d-e0f6-3be1b70a0255"
      },
      "source": [
        "pprint(models[2].print_topics())"
      ],
      "execution_count": 48,
      "outputs": [
        {
          "output_type": "stream",
          "text": [
            "[(0,\n",
            "  '0.012*\"человек\" + 0.012*\"мочь\" + 0.012*\"жизнь\" + 0.006*\"знать\" + '\n",
            "  '0.006*\"жить\" + 0.006*\"время\" + 0.006*\"душа\" + 0.005*\"думать\" + 0.005*\"день\" '\n",
            "  '+ 0.005*\"год\"'),\n",
            " (1,\n",
            "  '0.025*\"бо\" + 0.013*\"de\" + 0.012*\"вже\" + 0.012*\"вонь\" + 0.010*\"яковлевич\" + '\n",
            "  '0.010*\"буде\" + 0.008*\"la\" + 0.006*\"et\" + 0.006*\"миф\" + 0.006*\"le\"'),\n",
            " (2,\n",
            "  '0.032*\"що\" + 0.012*\"як\" + 0.012*\"він\" + 0.009*\"коли\" + 0.008*\"це\" + '\n",
            "  '0.007*\"його\" + 0.006*\"гетьман\" + 0.006*\"аля\" + 0.005*\"щоба\" + 0.005*\"мена\"'),\n",
            " (3,\n",
            "  '0.011*\"сережа\" + 0.010*\"день\" + 0.010*\"приходить\" + 0.010*\"вечер\" + '\n",
            "  '0.008*\"пойти\" + 0.008*\"сегодня\" + 0.008*\"час\" + 0.008*\"говорить\" + '\n",
            "  '0.007*\"мама\" + 0.007*\"утро\"'),\n",
            " (4,\n",
            "  '0.009*\"большевик\" + 0.008*\"говорить\" + 0.007*\"день\" + 0.006*\"москва\" + '\n",
            "  '0.006*\"газета\" + 0.006*\"россия\" + 0.005*\"народ\" + 0.005*\"сегодня\" + '\n",
            "  '0.005*\"совет\" + 0.005*\"русский\"'),\n",
            " (5,\n",
            "  '0.006*\"искусство\" + 0.006*\"музей\" + 0.005*\"картина\" + 0.005*\"эрмитаж\" + '\n",
            "  '0.004*\"луначарский\" + 0.004*\"вообще\" + 0.004*\"работа\" + 0.004*\"художник\" + '\n",
            "  '0.004*\"русский\" + 0.003*\"либо\"'),\n",
            " (6,\n",
            "  '0.007*\"мочь\" + 0.007*\"дело\" + 0.006*\"армия\" + 0.005*\"время\" + 0.005*\"фронт\" '\n",
            "  '+ 0.004*\"военный\" + 0.004*\"россия\" + 0.004*\"русский\" + 0.004*\"война\" + '\n",
            "  '0.004*\"иметь\"'),\n",
            " (7,\n",
            "  '0.010*\"час\" + 0.009*\"полк\" + 0.009*\"идти\" + 0.009*\"день\" + 0.007*\"ночь\" + '\n",
            "  '0.007*\"утро\" + 0.005*\"дорога\" + 0.005*\"вечер\" + 0.004*\"командир\" + '\n",
            "  '0.004*\"офицер\"'),\n",
            " (8,\n",
            "  '0.008*\"театр\" + 0.006*\"первый\" + 0.006*\"играть\" + 0.005*\"хороший\" + '\n",
            "  '0.005*\"большой\" + 0.004*\"ялта\" + 0.004*\"публика\" + 0.003*\"роль\" + '\n",
            "  '0.003*\"музыка\" + 0.003*\"давать\"'),\n",
            " (9,\n",
            "  '0.011*\"говорить\" + 0.008*\"солдат\" + 0.006*\"идти\" + 0.005*\"сказать\" + '\n",
            "  '0.005*\"человек\" + 0.005*\"становиться\" + 0.005*\"улица\" + 0.004*\"дом\" + '\n",
            "  '0.004*\"стоять\" + 0.004*\"красный\"')]\n"
          ],
          "name": "stdout"
        }
      ]
    },
    {
      "cell_type": "markdown",
      "metadata": {
        "id": "3XaT7Vzf2wIq"
      },
      "source": [
        "## Гражданская война, продразверстка, НЭП\n",
        "### (*ноябрь 1918 – декабрь 1927*)\n",
        "Темы дневниковых записей:"
      ]
    },
    {
      "cell_type": "code",
      "metadata": {
        "id": "k1GLjOSO2LQy",
        "colab": {
          "base_uri": "https://localhost:8080/"
        },
        "outputId": "231d9e93-704e-4e70-8014-649a25727788"
      },
      "source": [
        "pprint(models[3].print_topics())"
      ],
      "execution_count": 50,
      "outputs": [
        {
          "output_type": "stream",
          "text": [
            "[(0,\n",
            "  '0.011*\"говорить\" + 0.010*\"сказать\" + 0.009*\"день\" + 0.007*\"мочь\" + '\n",
            "  '0.007*\"знать\" + 0.006*\"сегодня\" + 0.006*\"пойти\" + 0.006*\"приходить\" + '\n",
            "  '0.006*\"вечер\" + 0.006*\"хотеть\"'),\n",
            " (1,\n",
            "  '0.007*\"солнце\" + 0.006*\"вода\" + 0.005*\"белый\" + 0.005*\"большой\" + '\n",
            "  '0.005*\"небо\" + 0.005*\"дом\" + 0.005*\"дерево\" + 0.005*\"церковь\" + '\n",
            "  '0.005*\"стоять\" + 0.005*\"окно\"'),\n",
            " (2,\n",
            "  '0.015*\"человек\" + 0.012*\"жизнь\" + 0.010*\"мочь\" + 0.006*\"становиться\" + '\n",
            "  '0.005*\"время\" + 0.005*\"любовь\" + 0.004*\"душа\" + 0.004*\"знать\" + '\n",
            "  '0.004*\"жить\" + 0.004*\"сила\"'),\n",
            " (3,\n",
            "  '0.013*\"читать\" + 0.010*\"работа\" + 0.008*\"книга\" + 0.006*\"прочитывать\" + '\n",
            "  '0.005*\"статья\" + 0.005*\"вечер\" + 0.005*\"написать\" + 0.005*\"театр\" + '\n",
            "  '0.005*\"день\" + 0.004*\"доклад\"'),\n",
            " (4,\n",
            "  '0.025*\"рб\" + 0.013*\"de\" + 0.008*\"инута\" + 0.007*\"la\" + 0.006*\"ия\" + '\n",
            "  '0.004*\"et\" + 0.004*\"science\" + 0.004*\"le\" + 0.003*\"les\" + 0.003*\"des\"'),\n",
            " (5,\n",
            "  '0.008*\"год\" + 0.006*\"говорить\" + 0.006*\"москва\" + 0.005*\"день\" + '\n",
            "  '0.005*\"человек\" + 0.004*\"дело\" + 0.004*\"получать\" + 0.004*\"рассказывать\" + '\n",
            "  '0.004*\"время\" + 0.004*\"сегодня\"'),\n",
            " (6,\n",
            "  '0.022*\"вечер\" + 0.020*\"день\" + 0.016*\"утро\" + 0.015*\"музей\" + 0.011*\"час\" + '\n",
            "  '0.011*\"сегодня\" + 0.010*\"погода\" + 0.009*\"приходить\" + 0.008*\"ходить\" + '\n",
            "  '0.008*\"купить\"'),\n",
            " (7,\n",
            "  '0.011*\"день\" + 0.007*\"идти\" + 0.007*\"утро\" + 0.007*\"ночь\" + 0.007*\"дорога\" '\n",
            "  '+ 0.006*\"сегодня\" + 0.005*\"красный\" + 0.005*\"лошадь\" + 0.005*\"ветер\" + '\n",
            "  '0.005*\"час\"'),\n",
            " (8,\n",
            "  '0.029*\"що\" + 0.012*\"як\" + 0.009*\"це\" + 0.008*\"його\" + 0.006*\"він\" + '\n",
            "  '0.006*\"вже\" + 0.005*\"коли\" + 0.005*\"ще\" + 0.005*\"щоба\" + 0.005*\"тільки\"'),\n",
            " (9,\n",
            "  '0.007*\"дело\" + 0.006*\"вопрос\" + 0.006*\"россия\" + 0.005*\"русский\" + '\n",
            "  '0.004*\"говорить\" + 0.004*\"партия\" + 0.004*\"мочь\" + 0.004*\"против\" + '\n",
            "  '0.004*\"правительство\" + 0.003*\"давать\"')]\n"
          ],
          "name": "stdout"
        }
      ]
    },
    {
      "cell_type": "markdown",
      "metadata": {
        "id": "QXqvQhZk2xGb"
      },
      "source": [
        "## Коллективизация, Большой террор\n",
        "### (*январь 1928 – август 1939*)\n",
        "Темы дневниковых записей:"
      ]
    },
    {
      "cell_type": "code",
      "metadata": {
        "id": "FuO0x-UB2LXz",
        "colab": {
          "base_uri": "https://localhost:8080/"
        },
        "outputId": "a6e2f52a-e044-4d6b-e369-769908fab4b2"
      },
      "source": [
        "pprint(models[4].print_topics())"
      ],
      "execution_count": 51,
      "outputs": [
        {
          "output_type": "stream",
          "text": [
            "[(0,\n",
            "  '0.006*\"искусство\" + 0.005*\"картина\" + 0.005*\"фильм\" + 0.004*\"форма\" + '\n",
            "  '0.004*\"новый\" + 0.004*\"образ\" + 0.003*\"большой\" + 0.003*\"тема\" + '\n",
            "  '0.003*\"часть\" + 0.003*\"материал\"'),\n",
            " (1,\n",
            "  '0.024*\"що\" + 0.010*\"як\" + 0.007*\"ми\" + 0.006*\"аля\" + 0.006*\"це\" + '\n",
            "  '0.006*\"його\" + 0.005*\"він\" + 0.005*\"мена\" + 0.005*\"вже\" + 0.005*\"щоба\"'),\n",
            " (2,\n",
            "  '0.011*\"хозяйка\" + 0.010*\"марья\" + 0.010*\"консультация\" + 0.009*\"колхоз\" + '\n",
            "  '0.008*\"дома\" + 0.008*\"кирюша\" + 0.007*\"домашность\" + 0.006*\"письмо\" + '\n",
            "  '0.006*\"свист\" + 0.005*\"катя\"'),\n",
            " (3,\n",
            "  '0.010*\"километр\" + 0.006*\"пихта\" + 0.005*\"маршрут\" + 0.004*\"петрович\" + '\n",
            "  '0.004*\"to\" + 0.004*\"лаборатория\" + 0.004*\"научный\" + 0.004*\"работа\" + '\n",
            "  '0.004*\"гидрологический\" + 0.004*\"ический\"'),\n",
            " (4,\n",
            "  '0.005*\"вопрос\" + 0.005*\"дело\" + 0.005*\"советский\" + 0.005*\"война\" + '\n",
            "  '0.004*\"год\" + 0.004*\"мочь\" + 0.004*\"работа\" + 0.004*\"ссср\" + '\n",
            "  '0.004*\"смоленское\" + 0.003*\"москва\"'),\n",
            " (5,\n",
            "  '0.012*\"человек\" + 0.011*\"мочь\" + 0.009*\"жизнь\" + 0.008*\"говорить\" + '\n",
            "  '0.007*\"сказать\" + 0.006*\"знать\" + 0.005*\"время\" + 0.005*\"год\" + '\n",
            "  '0.005*\"становиться\" + 0.005*\"думать\"'),\n",
            " (6,\n",
            "  '0.010*\"вечер\" + 0.008*\"день\" + 0.007*\"письмо\" + 0.006*\"говорить\" + '\n",
            "  '0.006*\"приходить\" + 0.006*\"сказать\" + 0.005*\"час\" + 0.005*\"получать\" + '\n",
            "  '0.005*\"утро\" + 0.005*\"дом\"'),\n",
            " (7,\n",
            "  '0.013*\"the\" + 0.010*\"of\" + 0.008*\"рисовать\" + 0.008*\"рисунок\" + 0.006*\"оля\" '\n",
            "  '+ 0.006*\"дм\" + 0.006*\"урок\" + 0.005*\"школа\" + 0.005*\"ива\" + 0.004*\"эскиз\"'),\n",
            " (8,\n",
            "  '0.007*\"лес\" + 0.005*\"гнездо\" + 0.005*\"вода\" + 0.005*\"видеть\" + 0.005*\"идти\" '\n",
            "  '+ 0.005*\"большой\" + 0.004*\"машина\" + 0.004*\"дерево\" + 0.004*\"место\" + '\n",
            "  '0.004*\"земля\"'),\n",
            " (9,\n",
            "  '0.039*\"день\" + 0.021*\"сегодня\" + 0.016*\"час\" + 0.015*\"вечер\" + '\n",
            "  '0.015*\"работа\" + 0.014*\"утро\" + 0.011*\"ночь\" + 0.010*\"ходить\" + '\n",
            "  '0.009*\"погода\" + 0.009*\"работать\"')]\n"
          ],
          "name": "stdout"
        }
      ]
    },
    {
      "cell_type": "markdown",
      "metadata": {
        "id": "Lrh-Xal72yLk"
      },
      "source": [
        "## Вторая мировая война\n",
        "### (*сентябрь 1939 – май 1945*)\n",
        "Темы дневниковых записей:"
      ]
    },
    {
      "cell_type": "code",
      "metadata": {
        "id": "bkXjqe8k2LfY",
        "colab": {
          "base_uri": "https://localhost:8080/"
        },
        "outputId": "97389ab0-cae3-4eef-89c0-e7dad81e0430"
      },
      "source": [
        "pprint(models[5].print_topics())"
      ],
      "execution_count": 52,
      "outputs": [
        {
          "output_type": "stream",
          "text": [
            "[(0,\n",
            "  '0.011*\"война\" + 0.010*\"германия\" + 0.009*\"мао\" + 0.008*\"берлин\" + '\n",
            "  '0.007*\"советский\" + 0.007*\"год\" + 0.007*\"кпк\" + 0.006*\"цзэ\" + '\n",
            "  '0.006*\"союзник\" + 0.006*\"дун\"'),\n",
            " (1,\n",
            "  '0.011*\"работа\" + 0.007*\"вечер\" + 0.006*\"говорить\" + 0.005*\"дело\" + '\n",
            "  '0.005*\"работать\" + 0.005*\"театр\" + 0.005*\"концерт\" + 0.004*\"давать\" + '\n",
            "  '0.004*\"доклад\" + 0.004*\"первый\"'),\n",
            " (2,\n",
            "  '0.008*\"сьогодні\" + 0.007*\"він\" + 0.005*\"дружина\" + 0.005*\"the\" + '\n",
            "  '0.005*\"аля\" + 0.004*\"було\" + 0.004*\"кан\" + 0.004*\"мені\" + 0.004*\"від\" + '\n",
            "  '0.004*\"був\"'),\n",
            " (3,\n",
            "  '0.012*\"немец\" + 0.010*\"день\" + 0.009*\"фронт\" + 0.009*\"бой\" + 0.008*\"армия\" '\n",
            "  '+ 0.007*\"командир\" + 0.007*\"полк\" + 0.006*\"войско\" + 0.006*\"противник\" + '\n",
            "  '0.006*\"дивизия\"'),\n",
            " (4,\n",
            "  '0.010*\"день\" + 0.008*\"говорить\" + 0.008*\"письмо\" + 0.008*\"мочь\" + '\n",
            "  '0.007*\"знать\" + 0.007*\"сегодня\" + 0.006*\"год\" + 0.006*\"приходить\" + '\n",
            "  '0.006*\"сказать\" + 0.005*\"ничто\"'),\n",
            " (5,\n",
            "  '0.007*\"рука\" + 0.007*\"немец\" + 0.007*\"машина\" + 0.006*\"человек\" + '\n",
            "  '0.006*\"сказать\" + 0.006*\"що\" + 0.006*\"становиться\" + 0.006*\"солдат\" + '\n",
            "  '0.004*\"говорить\" + 0.004*\"пойти\"'),\n",
            " (6,\n",
            "  '0.011*\"город\" + 0.011*\"дом\" + 0.010*\"ночь\" + 0.008*\"идти\" + 0.007*\"час\" + '\n",
            "  '0.007*\"улица\" + 0.007*\"день\" + 0.006*\"дорога\" + 0.006*\"утро\" + '\n",
            "  '0.006*\"стоять\"'),\n",
            " (7,\n",
            "  '0.026*\"день\" + 0.016*\"сегодня\" + 0.014*\"час\" + 0.012*\"хлеб\" + 0.012*\"утро\" '\n",
            "  '+ 0.012*\"вечер\" + 0.009*\"получать\" + 0.009*\"обед\" + 0.008*\"давать\" + '\n",
            "  '0.008*\"работа\"'),\n",
            " (8,\n",
            "  '0.018*\"читать\" + 0.015*\"книга\" + 0.012*\"написать\" + 0.011*\"писать\" + '\n",
            "  '0.008*\"письмо\" + 0.007*\"прочитывать\" + 0.007*\"стих\" + 0.007*\"алеша\" + '\n",
            "  '0.007*\"история\" + 0.007*\"газета\"'),\n",
            " (9,\n",
            "  '0.018*\"человек\" + 0.013*\"жизнь\" + 0.010*\"мочь\" + 0.007*\"время\" + '\n",
            "  '0.005*\"слово\" + 0.005*\"год\" + 0.005*\"война\" + 0.005*\"мир\" + '\n",
            "  '0.004*\"становиться\" + 0.004*\"сила\"')]\n"
          ],
          "name": "stdout"
        }
      ]
    },
    {
      "cell_type": "markdown",
      "metadata": {
        "id": "qV0Cp03E2zVr"
      },
      "source": [
        "## Промежуточный период истории, заканчивается «оттепелью» \n",
        "### (*1946 – 1963*)\n",
        "Темы дневниковых записей:"
      ]
    },
    {
      "cell_type": "code",
      "metadata": {
        "id": "0WUDtdua2LnE",
        "colab": {
          "base_uri": "https://localhost:8080/"
        },
        "outputId": "621ae0b1-1dd3-4fa2-f2a3-c703b3ad74ba"
      },
      "source": [
        "pprint(models[6].print_topics())"
      ],
      "execution_count": 53,
      "outputs": [
        {
          "output_type": "stream",
          "text": [
            "[(0,\n",
            "  '0.007*\"вода\" + 0.006*\"идти\" + 0.005*\"место\" + 0.005*\"дорога\" + '\n",
            "  '0.004*\"большой\" + 0.004*\"берег\" + 0.004*\"лес\" + 0.004*\"становиться\" + '\n",
            "  '0.004*\"земля\" + 0.003*\"машина\"'),\n",
            " (1,\n",
            "  '0.012*\"бригада\" + 0.007*\"що\" + 0.007*\"колхоз\" + 0.005*\"корова\" + '\n",
            "  '0.005*\"человек\" + 0.005*\"це\" + 0.005*\"кг\" + 0.004*\"колхозник\" + '\n",
            "  '0.004*\"молоко\" + 0.004*\"він\"'),\n",
            " (2,\n",
            "  '0.015*\"человек\" + 0.010*\"мочь\" + 0.008*\"жизнь\" + 0.006*\"время\" + '\n",
            "  '0.005*\"год\" + 0.005*\"дело\" + 0.005*\"знать\" + 0.004*\"говорить\" + '\n",
            "  '0.004*\"слово\" + 0.004*\"мир\"'),\n",
            " (3,\n",
            "  '0.017*\"день\" + 0.013*\"час\" + 0.013*\"вечер\" + 0.011*\"утро\" + 0.010*\"пойти\" + '\n",
            "  '0.009*\"сегодня\" + 0.008*\"приходить\" + 0.006*\"ходить\" + 0.005*\"приезжать\" + '\n",
            "  '0.005*\"поехать\"'),\n",
            " (4,\n",
            "  '0.007*\"вечер\" + 0.007*\"играть\" + 0.006*\"театр\" + 0.006*\"говорить\" + '\n",
            "  '0.006*\"концерт\" + 0.005*\"музыка\" + 0.005*\"хороший\" + 0.005*\"школа\" + '\n",
            "  '0.005*\"твардовский\" + 0.004*\"первый\"'),\n",
            " (5,\n",
            "  '0.016*\"лидочка\" + 0.011*\"оч\" + 0.008*\"одинцов\" + 0.008*\"теркин\" + '\n",
            "  '0.007*\"энергетика\" + 0.006*\"га\" + 0.006*\"утро\" + 0.006*\"музей\" + '\n",
            "  '0.005*\"видеть\" + 0.005*\"нрзб\"'),\n",
            " (6,\n",
            "  '0.015*\"космонавт\" + 0.012*\"статья\" + 0.010*\"доклад\" + 0.009*\"вопрос\" + '\n",
            "  '0.008*\"история\" + 0.007*\"гагарин\" + 0.007*\"год\" + 0.006*\"институт\" + '\n",
            "  '0.006*\"наука\" + 0.006*\"советский\"'),\n",
            " (7,\n",
            "  '0.019*\"работа\" + 0.009*\"год\" + 0.007*\"полет\" + 0.007*\"работать\" + '\n",
            "  '0.006*\"вопрос\" + 0.006*\"давать\" + 0.005*\"строительство\" + 0.005*\"получать\" '\n",
            "  '+ 0.004*\"принимать\" + 0.004*\"корабль\"'),\n",
            " (8,\n",
            "  '0.042*\"вера\" + 0.040*\"рука\" + 0.030*\"петровна\" + 0.027*\"работать\" + '\n",
            "  '0.025*\"еле\" + 0.022*\"описной\" + 0.020*\"читать\" + 0.019*\"рукопись\" + '\n",
            "  '0.015*\"дома\" + 0.015*\"книга\"'),\n",
            " (9,\n",
            "  '0.011*\"говорить\" + 0.010*\"сказать\" + 0.008*\"год\" + 0.007*\"мочь\" + '\n",
            "  '0.006*\"знать\" + 0.006*\"день\" + 0.006*\"становиться\" + 0.005*\"писать\" + '\n",
            "  '0.005*\"мама\" + 0.005*\"хотеть\"')]\n"
          ],
          "name": "stdout"
        }
      ]
    },
    {
      "cell_type": "markdown",
      "metadata": {
        "id": "pikQi6Or26FG"
      },
      "source": [
        "## Застой\n",
        "### (*1964 – май 1987*)\n",
        "Темы дневниковых записей:"
      ]
    },
    {
      "cell_type": "code",
      "metadata": {
        "id": "L2mUmlZF2MOg",
        "colab": {
          "base_uri": "https://localhost:8080/"
        },
        "outputId": "8d1a4ce5-c770-4ee5-92bf-0d197c4c80a0"
      },
      "source": [
        "pprint(models[7].print_topics())"
      ],
      "execution_count": 54,
      "outputs": [
        {
          "output_type": "stream",
          "text": [
            "[(0,\n",
            "  '0.011*\"день\" + 0.007*\"час\" + 0.007*\"утро\" + 0.006*\"город\" + 0.006*\"идти\" + '\n",
            "  '0.006*\"вечер\" + 0.005*\"дом\" + 0.004*\"дорога\" + 0.004*\"ночь\" + 0.004*\"вода\"'),\n",
            " (1,\n",
            "  '0.014*\"работа\" + 0.011*\"вопрос\" + 0.008*\"ссср\" + 0.007*\"план\" + 0.007*\"цк\" '\n",
            "  '+ 0.007*\"строительство\" + 0.006*\"министр\" + 0.005*\"совет\" + '\n",
            "  '0.005*\"развитие\" + 0.005*\"страна\"'),\n",
            " (2,\n",
            "  '0.018*\"вечер\" + 0.012*\"ходить\" + 0.011*\"спать\" + 0.011*\"работа\" + '\n",
            "  '0.009*\"пьяный\" + 0.009*\"утро\" + 0.009*\"приезжать\" + 0.008*\"вставать\" + '\n",
            "  '0.008*\"пить\" + 0.008*\"день\"'),\n",
            " (3,\n",
            "  '0.012*\"эфрос\" + 0.007*\"колонна\" + 0.006*\"рука\" + 0.005*\"рота\" + '\n",
            "  '0.004*\"глаз\" + 0.003*\"стол\" + 0.003*\"кричать\" + 0.003*\"обстреливать\" + '\n",
            "  '0.003*\"стрельба\" + 0.003*\"голова\"'),\n",
            " (4,\n",
            "  '0.012*\"стих\" + 0.010*\"фильм\" + 0.009*\"читать\" + 0.009*\"театр\" + '\n",
            "  '0.008*\"спектакль\" + 0.007*\"играть\" + 0.007*\"поэт\" + 0.007*\"хороший\" + '\n",
            "  '0.006*\"вечер\" + 0.006*\"слушать\"'),\n",
            " (5,\n",
            "  '0.012*\"сказать\" + 0.010*\"день\" + 0.010*\"говорить\" + 0.009*\"год\" + '\n",
            "  '0.006*\"сегодня\" + 0.006*\"мочь\" + 0.006*\"приходить\" + 0.005*\"знать\" + '\n",
            "  '0.005*\"хотеть\" + 0.005*\"приезжать\"'),\n",
            " (6,\n",
            "  '0.016*\"человек\" + 0.011*\"мочь\" + 0.010*\"жизнь\" + 0.006*\"мир\" + '\n",
            "  '0.005*\"время\" + 0.005*\"понимать\" + 0.005*\"становиться\" + 0.004*\"знать\" + '\n",
            "  '0.004*\"мысль\" + 0.004*\"думать\"'),\n",
            " (7,\n",
            "  '0.007*\"кишлак\" + 0.006*\"що\" + 0.004*\"як\" + 0.003*\"вилла\" + 0.003*\"снаряд\" + '\n",
            "  '0.003*\"він\" + 0.003*\"це\" + 0.003*\"самка\" + 0.003*\"рок\" + 0.003*\"коли\"'),\n",
            " (8,\n",
            "  '0.007*\"самолет\" + 0.007*\"командир\" + 0.006*\"советник\" + 0.006*\"человек\" + '\n",
            "  '0.005*\"начальник\" + 0.005*\"боевой\" + 0.005*\"кандагар\" + 0.005*\"солдат\" + '\n",
            "  '0.005*\"военный\" + 0.005*\"полет\"'),\n",
            " (9,\n",
            "  '0.010*\"год\" + 0.006*\"говорить\" + 0.006*\"дело\" + 0.005*\"советский\" + '\n",
            "  '0.005*\"статья\" + 0.005*\"сказать\" + 0.004*\"новый\" + 0.004*\"история\" + '\n",
            "  '0.004*\"книга\" + 0.004*\"давать\"')]\n"
          ],
          "name": "stdout"
        }
      ]
    },
    {
      "cell_type": "markdown",
      "metadata": {
        "id": "phzX_AJB27Qf"
      },
      "source": [
        "## Перестройка и развал СССР\n",
        "### (*июнь 1987 – июнь 1990*)\n",
        "Темы дневниковых записей:"
      ]
    },
    {
      "cell_type": "code",
      "metadata": {
        "id": "HGhzISxc2RHz",
        "colab": {
          "base_uri": "https://localhost:8080/"
        },
        "outputId": "474bab29-2567-4d4a-fd99-3ac348814aac"
      },
      "source": [
        "pprint(models[8].print_topics())"
      ],
      "execution_count": 55,
      "outputs": [
        {
          "output_type": "stream",
          "text": [
            "[(0,\n",
            "  '0.009*\"человек\" + 0.008*\"мочь\" + 0.007*\"говорить\" + 0.006*\"год\" + '\n",
            "  '0.006*\"дело\" + 0.005*\"народ\" + 0.005*\"сказать\" + 0.005*\"жизнь\" + '\n",
            "  '0.004*\"думать\" + 0.004*\"хотеть\"'),\n",
            " (1,\n",
            "  '0.007*\"день\" + 0.006*\"человек\" + 0.004*\"машина\" + 0.004*\"время\" + '\n",
            "  '0.003*\"утро\" + 0.003*\"знать\" + 0.003*\"сегодня\" + 0.003*\"идти\" + 0.003*\"час\" '\n",
            "  '+ 0.003*\"ночь\"'),\n",
            " (2,\n",
            "  '0.012*\"горбачев\" + 0.009*\"съезд\" + 0.008*\"совет\" + 0.007*\"вопрос\" + '\n",
            "  '0.006*\"цк\" + 0.005*\"партия\" + 0.005*\"советский\" + 0.004*\"депутат\" + '\n",
            "  '0.004*\"страна\" + 0.004*\"верховный\"'),\n",
            " (3,\n",
            "  '0.004*\"клад\" + 0.003*\"прокофьев\" + 0.003*\"of\" + 0.003*\"ива\" + 0.002*\"гел\" + '\n",
            "  '0.002*\"регина\" + 0.002*\"харджиев\" + 0.002*\"цирк\" + 0.002*\"бетховен\" + '\n",
            "  '0.002*\"эстонский\"'),\n",
            " (4,\n",
            "  '0.009*\"день\" + 0.006*\"час\" + 0.006*\"говорить\" + 0.006*\"сказать\" + '\n",
            "  '0.005*\"приезжать\" + 0.005*\"вечер\" + 0.004*\"утро\" + 0.004*\"сегодня\" + '\n",
            "  '0.004*\"приходить\" + 0.004*\"жить\"'),\n",
            " (5,\n",
            "  '0.006*\"год\" + 0.005*\"летать\" + 0.004*\"экипаж\" + 0.004*\"полет\" + '\n",
            "  '0.003*\"жизнь\" + 0.003*\"работа\" + 0.003*\"человек\" + 0.003*\"полоса\" + '\n",
            "  '0.003*\"земля\" + 0.002*\"время\"'),\n",
            " (6,\n",
            "  '0.015*\"галя\" + 0.011*\"вечер\" + 0.010*\"веничек\" + 0.009*\"ерофеев\" + '\n",
            "  '0.008*\"приезжать\" + 0.007*\"москва\" + 0.006*\"сказать\" + 0.006*\"веня\" + '\n",
            "  '0.005*\"ирка\" + 0.005*\"говорить\"'),\n",
            " (7,\n",
            "  '0.010*\"театр\" + 0.008*\"любимов\" + 0.008*\"спектакль\" + 0.006*\"играть\" + '\n",
            "  '0.005*\"читать\" + 0.005*\"мочь\" + 0.005*\"русский\" + 0.005*\"история\" + '\n",
            "  '0.004*\"фильм\" + 0.004*\"человек\"'),\n",
            " (8,\n",
            "  '0.010*\"река\" + 0.006*\"берег\" + 0.005*\"маршрут\" + 0.004*\"дорога\" + '\n",
            "  '0.004*\"след\" + 0.004*\"район\" + 0.004*\"ондатра\" + 0.004*\"озеро\" + '\n",
            "  '0.003*\"место\" + 0.003*\"лес\"'),\n",
            " (9,\n",
            "  '0.010*\"год\" + 0.008*\"говорить\" + 0.006*\"день\" + 0.005*\"человек\" + '\n",
            "  '0.005*\"книга\" + 0.005*\"дом\" + 0.004*\"время\" + 0.004*\"писать\" + '\n",
            "  '0.004*\"сказать\" + 0.004*\"вечер\"')]\n"
          ],
          "name": "stdout"
        }
      ]
    },
    {
      "cell_type": "markdown",
      "metadata": {
        "id": "XdwTg5sO28sb"
      },
      "source": [
        "## После СССР, «лихие 90-е»\n",
        "### (*1991 – 2001*)\n",
        "Темы дневниковых записей:"
      ]
    },
    {
      "cell_type": "code",
      "metadata": {
        "id": "fyKQ206p2Rx0",
        "colab": {
          "base_uri": "https://localhost:8080/"
        },
        "outputId": "b9f4f187-06ab-4745-eb1c-6869f45a6202"
      },
      "source": [
        "pprint(models[9].print_topics())"
      ],
      "execution_count": 56,
      "outputs": [
        {
          "output_type": "stream",
          "text": [
            "[(0,\n",
            "  '0.010*\"книга\" + 0.009*\"год\" + 0.006*\"дом\" + 0.005*\"город\" + 0.005*\"москва\" '\n",
            "  '+ 0.004*\"музей\" + 0.004*\"русский\" + 0.004*\"новый\" + 0.004*\"день\" + '\n",
            "  '0.003*\"деньги\"'),\n",
            " (1,\n",
            "  '0.010*\"мочь\" + 0.007*\"сказать\" + 0.007*\"год\" + 0.007*\"говорить\" + '\n",
            "  '0.006*\"время\" + 0.006*\"знать\" + 0.005*\"человек\" + 0.005*\"дело\" + '\n",
            "  '0.005*\"понимать\" + 0.004*\"писать\"'),\n",
            " (2,\n",
            "  '0.018*\"человек\" + 0.015*\"жизнь\" + 0.010*\"сказать\" + 0.009*\"мочь\" + '\n",
            "  '0.007*\"душа\" + 0.007*\"бог\" + 0.007*\"говорить\" + 0.007*\"стих\" + '\n",
            "  '0.006*\"любить\" + 0.006*\"жить\"'),\n",
            " (3,\n",
            "  '0.007*\"день\" + 0.006*\"мама\" + 0.006*\"дом\" + 0.004*\"идти\" + 0.004*\"рука\" + '\n",
            "  '0.004*\"становиться\" + 0.004*\"утро\" + 0.004*\"час\" + 0.004*\"вода\" + '\n",
            "  '0.003*\"ночь\"'),\n",
            " (4,\n",
            "  '0.012*\"сказать\" + 0.010*\"вечер\" + 0.010*\"читать\" + 0.008*\"звонить\" + '\n",
            "  '0.008*\"день\" + 0.007*\"сегодня\" + 0.007*\"петь\" + 0.006*\"дома\" + 0.006*\"утро\" '\n",
            "  '+ 0.005*\"позвонить\"'),\n",
            " (5,\n",
            "  '0.009*\"полет\" + 0.008*\"экипаж\" + 0.007*\"летать\" + 0.007*\"скорость\" + '\n",
            "  '0.006*\"давать\" + 0.006*\"самолет\" + 0.005*\"посадка\" + 0.005*\"капитан\" + '\n",
            "  '0.005*\"садиться\" + 0.005*\"полоса\"'),\n",
            " (6,\n",
            "  '0.014*\"день\" + 0.011*\"станция\" + 0.011*\"работа\" + 0.009*\"сегодня\" + '\n",
            "  '0.009*\"связь\" + 0.008*\"время\" + 0.008*\"джим\" + 0.008*\"цуп\" + '\n",
            "  '0.006*\"работать\" + 0.006*\"сделать\"'),\n",
            " (7,\n",
            "  '0.014*\"ельцин\" + 0.009*\"президент\" + 0.008*\"человек\" + 0.006*\"война\" + '\n",
            "  '0.005*\"военный\" + 0.005*\"россия\" + 0.005*\"москва\" + 0.005*\"день\" + '\n",
            "  '0.005*\"горбачев\" + 0.004*\"чечня\"'),\n",
            " (8,\n",
            "  '0.014*\"россия\" + 0.008*\"год\" + 0.007*\"страна\" + 0.007*\"народ\" + '\n",
            "  '0.007*\"русский\" + 0.006*\"человек\" + 0.006*\"история\" + 0.005*\"власть\" + '\n",
            "  '0.005*\"новый\" + 0.004*\"культура\"'),\n",
            " (9,\n",
            "  '0.004*\"фильм\" + 0.004*\"первый\" + 0.003*\"играть\" + 0.003*\"булат\" + '\n",
            "  '0.003*\"румынский\" + 0.002*\"румыния\" + 0.002*\"сцена\" + 0.002*\"джордж\" + '\n",
            "  '0.002*\"большой\" + 0.002*\"english\"')]\n"
          ],
          "name": "stdout"
        }
      ]
    }
  ]
}